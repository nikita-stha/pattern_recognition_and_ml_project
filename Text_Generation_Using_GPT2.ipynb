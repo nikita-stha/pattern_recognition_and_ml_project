{
  "nbformat": 4,
  "nbformat_minor": 0,
  "metadata": {
    "colab": {
      "provenance": [],
      "collapsed_sections": [
        "ve0ZFr3bXJ_m",
        "A4noGt7Tmnmb",
        "yBAZiR0_XRE2",
        "Uq8c9iEYjwxr"
      ]
    },
    "kernelspec": {
      "name": "python3",
      "display_name": "Python 3"
    },
    "language_info": {
      "name": "python"
    },
    "gpuClass": "standard",
    "accelerator": "GPU",
    "widgets": {
      "application/vnd.jupyter.widget-state+json": {
        "05dbc94a363747848490c56e52e5a8e5": {
          "model_module": "@jupyter-widgets/controls",
          "model_name": "VBoxModel",
          "model_module_version": "1.5.0",
          "state": {
            "_dom_classes": [],
            "_model_module": "@jupyter-widgets/controls",
            "_model_module_version": "1.5.0",
            "_model_name": "VBoxModel",
            "_view_count": null,
            "_view_module": "@jupyter-widgets/controls",
            "_view_module_version": "1.5.0",
            "_view_name": "VBoxView",
            "box_style": "",
            "children": [
              "IPY_MODEL_5c3de6705a5c479d9454693dc8ca24ab",
              "IPY_MODEL_a5000c87257248ae8442da3b13877189",
              "IPY_MODEL_6f9f7112a76e4dd8ae36314b0e4f0238",
              "IPY_MODEL_dde25817a6b74cd286c6909c5cb25b9f",
              "IPY_MODEL_0af526549fa14be0927f09594b2a4eba"
            ],
            "layout": "IPY_MODEL_df435558393a484a9ab2fed0e5eafd79"
          }
        },
        "5c3de6705a5c479d9454693dc8ca24ab": {
          "model_module": "@jupyter-widgets/controls",
          "model_name": "HTMLModel",
          "model_module_version": "1.5.0",
          "state": {
            "_dom_classes": [],
            "_model_module": "@jupyter-widgets/controls",
            "_model_module_version": "1.5.0",
            "_model_name": "HTMLModel",
            "_view_count": null,
            "_view_module": "@jupyter-widgets/controls",
            "_view_module_version": "1.5.0",
            "_view_name": "HTMLView",
            "description": "",
            "description_tooltip": null,
            "layout": "IPY_MODEL_0cedcd2b408b419085326ce6507b3cd2",
            "placeholder": "​",
            "style": "IPY_MODEL_ee2b25ac02e84186a5d9ac737f07a34d",
            "value": "<center> <img\nsrc=https://huggingface.co/front/assets/huggingface_logo-noborder.svg\nalt='Hugging Face'> <br> Copy a token from <a\nhref=\"https://huggingface.co/settings/tokens\" target=\"_blank\">your Hugging Face\ntokens page</a> and paste it below. <br> Immediately click login after copying\nyour token or it might be stored in plain text in this notebook file. </center>"
          }
        },
        "a5000c87257248ae8442da3b13877189": {
          "model_module": "@jupyter-widgets/controls",
          "model_name": "PasswordModel",
          "model_module_version": "1.5.0",
          "state": {
            "_dom_classes": [],
            "_model_module": "@jupyter-widgets/controls",
            "_model_module_version": "1.5.0",
            "_model_name": "PasswordModel",
            "_view_count": null,
            "_view_module": "@jupyter-widgets/controls",
            "_view_module_version": "1.5.0",
            "_view_name": "PasswordView",
            "continuous_update": true,
            "description": "Token:",
            "description_tooltip": null,
            "disabled": false,
            "layout": "IPY_MODEL_52c2debbf6cc41a8ab30ee5927e4d9b7",
            "placeholder": "​",
            "style": "IPY_MODEL_1d162d0f846f48fd95b3d3522911ace3",
            "value": ""
          }
        },
        "6f9f7112a76e4dd8ae36314b0e4f0238": {
          "model_module": "@jupyter-widgets/controls",
          "model_name": "CheckboxModel",
          "model_module_version": "1.5.0",
          "state": {
            "_dom_classes": [],
            "_model_module": "@jupyter-widgets/controls",
            "_model_module_version": "1.5.0",
            "_model_name": "CheckboxModel",
            "_view_count": null,
            "_view_module": "@jupyter-widgets/controls",
            "_view_module_version": "1.5.0",
            "_view_name": "CheckboxView",
            "description": "Add token as git credential?",
            "description_tooltip": null,
            "disabled": false,
            "indent": true,
            "layout": "IPY_MODEL_9d59c0d5300d4c3eb9bf4324092c92fd",
            "style": "IPY_MODEL_d00ea00093d244688a32d4e1dccbac18",
            "value": true
          }
        },
        "dde25817a6b74cd286c6909c5cb25b9f": {
          "model_module": "@jupyter-widgets/controls",
          "model_name": "ButtonModel",
          "model_module_version": "1.5.0",
          "state": {
            "_dom_classes": [],
            "_model_module": "@jupyter-widgets/controls",
            "_model_module_version": "1.5.0",
            "_model_name": "ButtonModel",
            "_view_count": null,
            "_view_module": "@jupyter-widgets/controls",
            "_view_module_version": "1.5.0",
            "_view_name": "ButtonView",
            "button_style": "",
            "description": "Login",
            "disabled": false,
            "icon": "",
            "layout": "IPY_MODEL_74576d5501e341cebc40967754ff786e",
            "style": "IPY_MODEL_bd71f548670446c288a1e8b55ec6ec84",
            "tooltip": ""
          }
        },
        "0af526549fa14be0927f09594b2a4eba": {
          "model_module": "@jupyter-widgets/controls",
          "model_name": "HTMLModel",
          "model_module_version": "1.5.0",
          "state": {
            "_dom_classes": [],
            "_model_module": "@jupyter-widgets/controls",
            "_model_module_version": "1.5.0",
            "_model_name": "HTMLModel",
            "_view_count": null,
            "_view_module": "@jupyter-widgets/controls",
            "_view_module_version": "1.5.0",
            "_view_name": "HTMLView",
            "description": "",
            "description_tooltip": null,
            "layout": "IPY_MODEL_55823e8ca7724321bb6faf4f5487c11d",
            "placeholder": "​",
            "style": "IPY_MODEL_a190d024912140eab45e1192dedcb30c",
            "value": "\n<b>Pro Tip:</b> If you don't already have one, you can create a dedicated\n'notebooks' token with 'write' access, that you can then easily reuse for all\nnotebooks. </center>"
          }
        },
        "df435558393a484a9ab2fed0e5eafd79": {
          "model_module": "@jupyter-widgets/base",
          "model_name": "LayoutModel",
          "model_module_version": "1.2.0",
          "state": {
            "_model_module": "@jupyter-widgets/base",
            "_model_module_version": "1.2.0",
            "_model_name": "LayoutModel",
            "_view_count": null,
            "_view_module": "@jupyter-widgets/base",
            "_view_module_version": "1.2.0",
            "_view_name": "LayoutView",
            "align_content": null,
            "align_items": "center",
            "align_self": null,
            "border": null,
            "bottom": null,
            "display": "flex",
            "flex": null,
            "flex_flow": "column",
            "grid_area": null,
            "grid_auto_columns": null,
            "grid_auto_flow": null,
            "grid_auto_rows": null,
            "grid_column": null,
            "grid_gap": null,
            "grid_row": null,
            "grid_template_areas": null,
            "grid_template_columns": null,
            "grid_template_rows": null,
            "height": null,
            "justify_content": null,
            "justify_items": null,
            "left": null,
            "margin": null,
            "max_height": null,
            "max_width": null,
            "min_height": null,
            "min_width": null,
            "object_fit": null,
            "object_position": null,
            "order": null,
            "overflow": null,
            "overflow_x": null,
            "overflow_y": null,
            "padding": null,
            "right": null,
            "top": null,
            "visibility": null,
            "width": "50%"
          }
        },
        "0cedcd2b408b419085326ce6507b3cd2": {
          "model_module": "@jupyter-widgets/base",
          "model_name": "LayoutModel",
          "model_module_version": "1.2.0",
          "state": {
            "_model_module": "@jupyter-widgets/base",
            "_model_module_version": "1.2.0",
            "_model_name": "LayoutModel",
            "_view_count": null,
            "_view_module": "@jupyter-widgets/base",
            "_view_module_version": "1.2.0",
            "_view_name": "LayoutView",
            "align_content": null,
            "align_items": null,
            "align_self": null,
            "border": null,
            "bottom": null,
            "display": null,
            "flex": null,
            "flex_flow": null,
            "grid_area": null,
            "grid_auto_columns": null,
            "grid_auto_flow": null,
            "grid_auto_rows": null,
            "grid_column": null,
            "grid_gap": null,
            "grid_row": null,
            "grid_template_areas": null,
            "grid_template_columns": null,
            "grid_template_rows": null,
            "height": null,
            "justify_content": null,
            "justify_items": null,
            "left": null,
            "margin": null,
            "max_height": null,
            "max_width": null,
            "min_height": null,
            "min_width": null,
            "object_fit": null,
            "object_position": null,
            "order": null,
            "overflow": null,
            "overflow_x": null,
            "overflow_y": null,
            "padding": null,
            "right": null,
            "top": null,
            "visibility": null,
            "width": null
          }
        },
        "ee2b25ac02e84186a5d9ac737f07a34d": {
          "model_module": "@jupyter-widgets/controls",
          "model_name": "DescriptionStyleModel",
          "model_module_version": "1.5.0",
          "state": {
            "_model_module": "@jupyter-widgets/controls",
            "_model_module_version": "1.5.0",
            "_model_name": "DescriptionStyleModel",
            "_view_count": null,
            "_view_module": "@jupyter-widgets/base",
            "_view_module_version": "1.2.0",
            "_view_name": "StyleView",
            "description_width": ""
          }
        },
        "52c2debbf6cc41a8ab30ee5927e4d9b7": {
          "model_module": "@jupyter-widgets/base",
          "model_name": "LayoutModel",
          "model_module_version": "1.2.0",
          "state": {
            "_model_module": "@jupyter-widgets/base",
            "_model_module_version": "1.2.0",
            "_model_name": "LayoutModel",
            "_view_count": null,
            "_view_module": "@jupyter-widgets/base",
            "_view_module_version": "1.2.0",
            "_view_name": "LayoutView",
            "align_content": null,
            "align_items": null,
            "align_self": null,
            "border": null,
            "bottom": null,
            "display": null,
            "flex": null,
            "flex_flow": null,
            "grid_area": null,
            "grid_auto_columns": null,
            "grid_auto_flow": null,
            "grid_auto_rows": null,
            "grid_column": null,
            "grid_gap": null,
            "grid_row": null,
            "grid_template_areas": null,
            "grid_template_columns": null,
            "grid_template_rows": null,
            "height": null,
            "justify_content": null,
            "justify_items": null,
            "left": null,
            "margin": null,
            "max_height": null,
            "max_width": null,
            "min_height": null,
            "min_width": null,
            "object_fit": null,
            "object_position": null,
            "order": null,
            "overflow": null,
            "overflow_x": null,
            "overflow_y": null,
            "padding": null,
            "right": null,
            "top": null,
            "visibility": null,
            "width": null
          }
        },
        "1d162d0f846f48fd95b3d3522911ace3": {
          "model_module": "@jupyter-widgets/controls",
          "model_name": "DescriptionStyleModel",
          "model_module_version": "1.5.0",
          "state": {
            "_model_module": "@jupyter-widgets/controls",
            "_model_module_version": "1.5.0",
            "_model_name": "DescriptionStyleModel",
            "_view_count": null,
            "_view_module": "@jupyter-widgets/base",
            "_view_module_version": "1.2.0",
            "_view_name": "StyleView",
            "description_width": ""
          }
        },
        "9d59c0d5300d4c3eb9bf4324092c92fd": {
          "model_module": "@jupyter-widgets/base",
          "model_name": "LayoutModel",
          "model_module_version": "1.2.0",
          "state": {
            "_model_module": "@jupyter-widgets/base",
            "_model_module_version": "1.2.0",
            "_model_name": "LayoutModel",
            "_view_count": null,
            "_view_module": "@jupyter-widgets/base",
            "_view_module_version": "1.2.0",
            "_view_name": "LayoutView",
            "align_content": null,
            "align_items": null,
            "align_self": null,
            "border": null,
            "bottom": null,
            "display": null,
            "flex": null,
            "flex_flow": null,
            "grid_area": null,
            "grid_auto_columns": null,
            "grid_auto_flow": null,
            "grid_auto_rows": null,
            "grid_column": null,
            "grid_gap": null,
            "grid_row": null,
            "grid_template_areas": null,
            "grid_template_columns": null,
            "grid_template_rows": null,
            "height": null,
            "justify_content": null,
            "justify_items": null,
            "left": null,
            "margin": null,
            "max_height": null,
            "max_width": null,
            "min_height": null,
            "min_width": null,
            "object_fit": null,
            "object_position": null,
            "order": null,
            "overflow": null,
            "overflow_x": null,
            "overflow_y": null,
            "padding": null,
            "right": null,
            "top": null,
            "visibility": null,
            "width": null
          }
        },
        "d00ea00093d244688a32d4e1dccbac18": {
          "model_module": "@jupyter-widgets/controls",
          "model_name": "DescriptionStyleModel",
          "model_module_version": "1.5.0",
          "state": {
            "_model_module": "@jupyter-widgets/controls",
            "_model_module_version": "1.5.0",
            "_model_name": "DescriptionStyleModel",
            "_view_count": null,
            "_view_module": "@jupyter-widgets/base",
            "_view_module_version": "1.2.0",
            "_view_name": "StyleView",
            "description_width": ""
          }
        },
        "74576d5501e341cebc40967754ff786e": {
          "model_module": "@jupyter-widgets/base",
          "model_name": "LayoutModel",
          "model_module_version": "1.2.0",
          "state": {
            "_model_module": "@jupyter-widgets/base",
            "_model_module_version": "1.2.0",
            "_model_name": "LayoutModel",
            "_view_count": null,
            "_view_module": "@jupyter-widgets/base",
            "_view_module_version": "1.2.0",
            "_view_name": "LayoutView",
            "align_content": null,
            "align_items": null,
            "align_self": null,
            "border": null,
            "bottom": null,
            "display": null,
            "flex": null,
            "flex_flow": null,
            "grid_area": null,
            "grid_auto_columns": null,
            "grid_auto_flow": null,
            "grid_auto_rows": null,
            "grid_column": null,
            "grid_gap": null,
            "grid_row": null,
            "grid_template_areas": null,
            "grid_template_columns": null,
            "grid_template_rows": null,
            "height": null,
            "justify_content": null,
            "justify_items": null,
            "left": null,
            "margin": null,
            "max_height": null,
            "max_width": null,
            "min_height": null,
            "min_width": null,
            "object_fit": null,
            "object_position": null,
            "order": null,
            "overflow": null,
            "overflow_x": null,
            "overflow_y": null,
            "padding": null,
            "right": null,
            "top": null,
            "visibility": null,
            "width": null
          }
        },
        "bd71f548670446c288a1e8b55ec6ec84": {
          "model_module": "@jupyter-widgets/controls",
          "model_name": "ButtonStyleModel",
          "model_module_version": "1.5.0",
          "state": {
            "_model_module": "@jupyter-widgets/controls",
            "_model_module_version": "1.5.0",
            "_model_name": "ButtonStyleModel",
            "_view_count": null,
            "_view_module": "@jupyter-widgets/base",
            "_view_module_version": "1.2.0",
            "_view_name": "StyleView",
            "button_color": null,
            "font_weight": ""
          }
        },
        "55823e8ca7724321bb6faf4f5487c11d": {
          "model_module": "@jupyter-widgets/base",
          "model_name": "LayoutModel",
          "model_module_version": "1.2.0",
          "state": {
            "_model_module": "@jupyter-widgets/base",
            "_model_module_version": "1.2.0",
            "_model_name": "LayoutModel",
            "_view_count": null,
            "_view_module": "@jupyter-widgets/base",
            "_view_module_version": "1.2.0",
            "_view_name": "LayoutView",
            "align_content": null,
            "align_items": null,
            "align_self": null,
            "border": null,
            "bottom": null,
            "display": null,
            "flex": null,
            "flex_flow": null,
            "grid_area": null,
            "grid_auto_columns": null,
            "grid_auto_flow": null,
            "grid_auto_rows": null,
            "grid_column": null,
            "grid_gap": null,
            "grid_row": null,
            "grid_template_areas": null,
            "grid_template_columns": null,
            "grid_template_rows": null,
            "height": null,
            "justify_content": null,
            "justify_items": null,
            "left": null,
            "margin": null,
            "max_height": null,
            "max_width": null,
            "min_height": null,
            "min_width": null,
            "object_fit": null,
            "object_position": null,
            "order": null,
            "overflow": null,
            "overflow_x": null,
            "overflow_y": null,
            "padding": null,
            "right": null,
            "top": null,
            "visibility": null,
            "width": null
          }
        },
        "a190d024912140eab45e1192dedcb30c": {
          "model_module": "@jupyter-widgets/controls",
          "model_name": "DescriptionStyleModel",
          "model_module_version": "1.5.0",
          "state": {
            "_model_module": "@jupyter-widgets/controls",
            "_model_module_version": "1.5.0",
            "_model_name": "DescriptionStyleModel",
            "_view_count": null,
            "_view_module": "@jupyter-widgets/base",
            "_view_module_version": "1.2.0",
            "_view_name": "StyleView",
            "description_width": ""
          }
        },
        "718d8ec228574702bc54d580e42fe17e": {
          "model_module": "@jupyter-widgets/controls",
          "model_name": "HBoxModel",
          "model_module_version": "1.5.0",
          "state": {
            "_dom_classes": [],
            "_model_module": "@jupyter-widgets/controls",
            "_model_module_version": "1.5.0",
            "_model_name": "HBoxModel",
            "_view_count": null,
            "_view_module": "@jupyter-widgets/controls",
            "_view_module_version": "1.5.0",
            "_view_name": "HBoxView",
            "box_style": "",
            "children": [
              "IPY_MODEL_ad671f4b9fcd416fa65b3e116640de9b",
              "IPY_MODEL_376593835fbc4c0f9caf45411518b96c",
              "IPY_MODEL_3a72233bb3484d9ca366e6f6f98218d0"
            ],
            "layout": "IPY_MODEL_ac4feb303878485598aa67ab164ce1e8"
          }
        },
        "ad671f4b9fcd416fa65b3e116640de9b": {
          "model_module": "@jupyter-widgets/controls",
          "model_name": "HTMLModel",
          "model_module_version": "1.5.0",
          "state": {
            "_dom_classes": [],
            "_model_module": "@jupyter-widgets/controls",
            "_model_module_version": "1.5.0",
            "_model_name": "HTMLModel",
            "_view_count": null,
            "_view_module": "@jupyter-widgets/controls",
            "_view_module_version": "1.5.0",
            "_view_name": "HTMLView",
            "description": "",
            "description_tooltip": null,
            "layout": "IPY_MODEL_ed6aa5ee5a4d4920a1b93923a367da63",
            "placeholder": "​",
            "style": "IPY_MODEL_d4f96a880f584cc7888d8e05c8d62c4c",
            "value": "Upload 1 LFS files: 100%"
          }
        },
        "376593835fbc4c0f9caf45411518b96c": {
          "model_module": "@jupyter-widgets/controls",
          "model_name": "FloatProgressModel",
          "model_module_version": "1.5.0",
          "state": {
            "_dom_classes": [],
            "_model_module": "@jupyter-widgets/controls",
            "_model_module_version": "1.5.0",
            "_model_name": "FloatProgressModel",
            "_view_count": null,
            "_view_module": "@jupyter-widgets/controls",
            "_view_module_version": "1.5.0",
            "_view_name": "ProgressView",
            "bar_style": "success",
            "description": "",
            "description_tooltip": null,
            "layout": "IPY_MODEL_cf8185692bd14f2a8a6da5a4ba9647c2",
            "max": 1,
            "min": 0,
            "orientation": "horizontal",
            "style": "IPY_MODEL_574576886f604215bbc10a7d48e50da1",
            "value": 1
          }
        },
        "3a72233bb3484d9ca366e6f6f98218d0": {
          "model_module": "@jupyter-widgets/controls",
          "model_name": "HTMLModel",
          "model_module_version": "1.5.0",
          "state": {
            "_dom_classes": [],
            "_model_module": "@jupyter-widgets/controls",
            "_model_module_version": "1.5.0",
            "_model_name": "HTMLModel",
            "_view_count": null,
            "_view_module": "@jupyter-widgets/controls",
            "_view_module_version": "1.5.0",
            "_view_name": "HTMLView",
            "description": "",
            "description_tooltip": null,
            "layout": "IPY_MODEL_f445f0bfbf09429ca2c6c9fcb11bdd6e",
            "placeholder": "​",
            "style": "IPY_MODEL_e62eb07dab3148daa55c4fce54e95c47",
            "value": " 1/1 [02:13&lt;00:00, 133.11s/it]"
          }
        },
        "ac4feb303878485598aa67ab164ce1e8": {
          "model_module": "@jupyter-widgets/base",
          "model_name": "LayoutModel",
          "model_module_version": "1.2.0",
          "state": {
            "_model_module": "@jupyter-widgets/base",
            "_model_module_version": "1.2.0",
            "_model_name": "LayoutModel",
            "_view_count": null,
            "_view_module": "@jupyter-widgets/base",
            "_view_module_version": "1.2.0",
            "_view_name": "LayoutView",
            "align_content": null,
            "align_items": null,
            "align_self": null,
            "border": null,
            "bottom": null,
            "display": null,
            "flex": null,
            "flex_flow": null,
            "grid_area": null,
            "grid_auto_columns": null,
            "grid_auto_flow": null,
            "grid_auto_rows": null,
            "grid_column": null,
            "grid_gap": null,
            "grid_row": null,
            "grid_template_areas": null,
            "grid_template_columns": null,
            "grid_template_rows": null,
            "height": null,
            "justify_content": null,
            "justify_items": null,
            "left": null,
            "margin": null,
            "max_height": null,
            "max_width": null,
            "min_height": null,
            "min_width": null,
            "object_fit": null,
            "object_position": null,
            "order": null,
            "overflow": null,
            "overflow_x": null,
            "overflow_y": null,
            "padding": null,
            "right": null,
            "top": null,
            "visibility": null,
            "width": null
          }
        },
        "ed6aa5ee5a4d4920a1b93923a367da63": {
          "model_module": "@jupyter-widgets/base",
          "model_name": "LayoutModel",
          "model_module_version": "1.2.0",
          "state": {
            "_model_module": "@jupyter-widgets/base",
            "_model_module_version": "1.2.0",
            "_model_name": "LayoutModel",
            "_view_count": null,
            "_view_module": "@jupyter-widgets/base",
            "_view_module_version": "1.2.0",
            "_view_name": "LayoutView",
            "align_content": null,
            "align_items": null,
            "align_self": null,
            "border": null,
            "bottom": null,
            "display": null,
            "flex": null,
            "flex_flow": null,
            "grid_area": null,
            "grid_auto_columns": null,
            "grid_auto_flow": null,
            "grid_auto_rows": null,
            "grid_column": null,
            "grid_gap": null,
            "grid_row": null,
            "grid_template_areas": null,
            "grid_template_columns": null,
            "grid_template_rows": null,
            "height": null,
            "justify_content": null,
            "justify_items": null,
            "left": null,
            "margin": null,
            "max_height": null,
            "max_width": null,
            "min_height": null,
            "min_width": null,
            "object_fit": null,
            "object_position": null,
            "order": null,
            "overflow": null,
            "overflow_x": null,
            "overflow_y": null,
            "padding": null,
            "right": null,
            "top": null,
            "visibility": null,
            "width": null
          }
        },
        "d4f96a880f584cc7888d8e05c8d62c4c": {
          "model_module": "@jupyter-widgets/controls",
          "model_name": "DescriptionStyleModel",
          "model_module_version": "1.5.0",
          "state": {
            "_model_module": "@jupyter-widgets/controls",
            "_model_module_version": "1.5.0",
            "_model_name": "DescriptionStyleModel",
            "_view_count": null,
            "_view_module": "@jupyter-widgets/base",
            "_view_module_version": "1.2.0",
            "_view_name": "StyleView",
            "description_width": ""
          }
        },
        "cf8185692bd14f2a8a6da5a4ba9647c2": {
          "model_module": "@jupyter-widgets/base",
          "model_name": "LayoutModel",
          "model_module_version": "1.2.0",
          "state": {
            "_model_module": "@jupyter-widgets/base",
            "_model_module_version": "1.2.0",
            "_model_name": "LayoutModel",
            "_view_count": null,
            "_view_module": "@jupyter-widgets/base",
            "_view_module_version": "1.2.0",
            "_view_name": "LayoutView",
            "align_content": null,
            "align_items": null,
            "align_self": null,
            "border": null,
            "bottom": null,
            "display": null,
            "flex": null,
            "flex_flow": null,
            "grid_area": null,
            "grid_auto_columns": null,
            "grid_auto_flow": null,
            "grid_auto_rows": null,
            "grid_column": null,
            "grid_gap": null,
            "grid_row": null,
            "grid_template_areas": null,
            "grid_template_columns": null,
            "grid_template_rows": null,
            "height": null,
            "justify_content": null,
            "justify_items": null,
            "left": null,
            "margin": null,
            "max_height": null,
            "max_width": null,
            "min_height": null,
            "min_width": null,
            "object_fit": null,
            "object_position": null,
            "order": null,
            "overflow": null,
            "overflow_x": null,
            "overflow_y": null,
            "padding": null,
            "right": null,
            "top": null,
            "visibility": null,
            "width": null
          }
        },
        "574576886f604215bbc10a7d48e50da1": {
          "model_module": "@jupyter-widgets/controls",
          "model_name": "ProgressStyleModel",
          "model_module_version": "1.5.0",
          "state": {
            "_model_module": "@jupyter-widgets/controls",
            "_model_module_version": "1.5.0",
            "_model_name": "ProgressStyleModel",
            "_view_count": null,
            "_view_module": "@jupyter-widgets/base",
            "_view_module_version": "1.2.0",
            "_view_name": "StyleView",
            "bar_color": null,
            "description_width": ""
          }
        },
        "f445f0bfbf09429ca2c6c9fcb11bdd6e": {
          "model_module": "@jupyter-widgets/base",
          "model_name": "LayoutModel",
          "model_module_version": "1.2.0",
          "state": {
            "_model_module": "@jupyter-widgets/base",
            "_model_module_version": "1.2.0",
            "_model_name": "LayoutModel",
            "_view_count": null,
            "_view_module": "@jupyter-widgets/base",
            "_view_module_version": "1.2.0",
            "_view_name": "LayoutView",
            "align_content": null,
            "align_items": null,
            "align_self": null,
            "border": null,
            "bottom": null,
            "display": null,
            "flex": null,
            "flex_flow": null,
            "grid_area": null,
            "grid_auto_columns": null,
            "grid_auto_flow": null,
            "grid_auto_rows": null,
            "grid_column": null,
            "grid_gap": null,
            "grid_row": null,
            "grid_template_areas": null,
            "grid_template_columns": null,
            "grid_template_rows": null,
            "height": null,
            "justify_content": null,
            "justify_items": null,
            "left": null,
            "margin": null,
            "max_height": null,
            "max_width": null,
            "min_height": null,
            "min_width": null,
            "object_fit": null,
            "object_position": null,
            "order": null,
            "overflow": null,
            "overflow_x": null,
            "overflow_y": null,
            "padding": null,
            "right": null,
            "top": null,
            "visibility": null,
            "width": null
          }
        },
        "e62eb07dab3148daa55c4fce54e95c47": {
          "model_module": "@jupyter-widgets/controls",
          "model_name": "DescriptionStyleModel",
          "model_module_version": "1.5.0",
          "state": {
            "_model_module": "@jupyter-widgets/controls",
            "_model_module_version": "1.5.0",
            "_model_name": "DescriptionStyleModel",
            "_view_count": null,
            "_view_module": "@jupyter-widgets/base",
            "_view_module_version": "1.2.0",
            "_view_name": "StyleView",
            "description_width": ""
          }
        },
        "405a2435fe224c0dbd595fabadb68f32": {
          "model_module": "@jupyter-widgets/controls",
          "model_name": "HBoxModel",
          "model_module_version": "1.5.0",
          "state": {
            "_dom_classes": [],
            "_model_module": "@jupyter-widgets/controls",
            "_model_module_version": "1.5.0",
            "_model_name": "HBoxModel",
            "_view_count": null,
            "_view_module": "@jupyter-widgets/controls",
            "_view_module_version": "1.5.0",
            "_view_name": "HBoxView",
            "box_style": "",
            "children": [
              "IPY_MODEL_65c24bb5cbe54ea39195f34e8201caff",
              "IPY_MODEL_b2a4e0e40ae64cd8b179acdd68d23c93",
              "IPY_MODEL_c5363f4f303549d7ae3b3d9dc2b21e88"
            ],
            "layout": "IPY_MODEL_40ed61479cfe41fe9c65ef3ae7585a11"
          }
        },
        "65c24bb5cbe54ea39195f34e8201caff": {
          "model_module": "@jupyter-widgets/controls",
          "model_name": "HTMLModel",
          "model_module_version": "1.5.0",
          "state": {
            "_dom_classes": [],
            "_model_module": "@jupyter-widgets/controls",
            "_model_module_version": "1.5.0",
            "_model_name": "HTMLModel",
            "_view_count": null,
            "_view_module": "@jupyter-widgets/controls",
            "_view_module_version": "1.5.0",
            "_view_name": "HTMLView",
            "description": "",
            "description_tooltip": null,
            "layout": "IPY_MODEL_69b91abd0bff451d977146d22062609f",
            "placeholder": "​",
            "style": "IPY_MODEL_ff68975ba92a4e0eaed848bfb784c75d",
            "value": "pytorch_model.bin: 100%"
          }
        },
        "b2a4e0e40ae64cd8b179acdd68d23c93": {
          "model_module": "@jupyter-widgets/controls",
          "model_name": "FloatProgressModel",
          "model_module_version": "1.5.0",
          "state": {
            "_dom_classes": [],
            "_model_module": "@jupyter-widgets/controls",
            "_model_module_version": "1.5.0",
            "_model_name": "FloatProgressModel",
            "_view_count": null,
            "_view_module": "@jupyter-widgets/controls",
            "_view_module_version": "1.5.0",
            "_view_name": "ProgressView",
            "bar_style": "success",
            "description": "",
            "description_tooltip": null,
            "layout": "IPY_MODEL_c10b9d0073c148dd80e71b9266a4c49d",
            "max": 551192941,
            "min": 0,
            "orientation": "horizontal",
            "style": "IPY_MODEL_56db06e03ac6495db4b220693cd13a37",
            "value": 551192941
          }
        },
        "c5363f4f303549d7ae3b3d9dc2b21e88": {
          "model_module": "@jupyter-widgets/controls",
          "model_name": "HTMLModel",
          "model_module_version": "1.5.0",
          "state": {
            "_dom_classes": [],
            "_model_module": "@jupyter-widgets/controls",
            "_model_module_version": "1.5.0",
            "_model_name": "HTMLModel",
            "_view_count": null,
            "_view_module": "@jupyter-widgets/controls",
            "_view_module_version": "1.5.0",
            "_view_name": "HTMLView",
            "description": "",
            "description_tooltip": null,
            "layout": "IPY_MODEL_e094d08ae0804c49b064a985498922f6",
            "placeholder": "​",
            "style": "IPY_MODEL_1e1f59395dbb44cb955ff7bbd2c170d9",
            "value": " 551M/551M [02:13&lt;00:00, 3.77MB/s]"
          }
        },
        "40ed61479cfe41fe9c65ef3ae7585a11": {
          "model_module": "@jupyter-widgets/base",
          "model_name": "LayoutModel",
          "model_module_version": "1.2.0",
          "state": {
            "_model_module": "@jupyter-widgets/base",
            "_model_module_version": "1.2.0",
            "_model_name": "LayoutModel",
            "_view_count": null,
            "_view_module": "@jupyter-widgets/base",
            "_view_module_version": "1.2.0",
            "_view_name": "LayoutView",
            "align_content": null,
            "align_items": null,
            "align_self": null,
            "border": null,
            "bottom": null,
            "display": null,
            "flex": null,
            "flex_flow": null,
            "grid_area": null,
            "grid_auto_columns": null,
            "grid_auto_flow": null,
            "grid_auto_rows": null,
            "grid_column": null,
            "grid_gap": null,
            "grid_row": null,
            "grid_template_areas": null,
            "grid_template_columns": null,
            "grid_template_rows": null,
            "height": null,
            "justify_content": null,
            "justify_items": null,
            "left": null,
            "margin": null,
            "max_height": null,
            "max_width": null,
            "min_height": null,
            "min_width": null,
            "object_fit": null,
            "object_position": null,
            "order": null,
            "overflow": null,
            "overflow_x": null,
            "overflow_y": null,
            "padding": null,
            "right": null,
            "top": null,
            "visibility": null,
            "width": null
          }
        },
        "69b91abd0bff451d977146d22062609f": {
          "model_module": "@jupyter-widgets/base",
          "model_name": "LayoutModel",
          "model_module_version": "1.2.0",
          "state": {
            "_model_module": "@jupyter-widgets/base",
            "_model_module_version": "1.2.0",
            "_model_name": "LayoutModel",
            "_view_count": null,
            "_view_module": "@jupyter-widgets/base",
            "_view_module_version": "1.2.0",
            "_view_name": "LayoutView",
            "align_content": null,
            "align_items": null,
            "align_self": null,
            "border": null,
            "bottom": null,
            "display": null,
            "flex": null,
            "flex_flow": null,
            "grid_area": null,
            "grid_auto_columns": null,
            "grid_auto_flow": null,
            "grid_auto_rows": null,
            "grid_column": null,
            "grid_gap": null,
            "grid_row": null,
            "grid_template_areas": null,
            "grid_template_columns": null,
            "grid_template_rows": null,
            "height": null,
            "justify_content": null,
            "justify_items": null,
            "left": null,
            "margin": null,
            "max_height": null,
            "max_width": null,
            "min_height": null,
            "min_width": null,
            "object_fit": null,
            "object_position": null,
            "order": null,
            "overflow": null,
            "overflow_x": null,
            "overflow_y": null,
            "padding": null,
            "right": null,
            "top": null,
            "visibility": null,
            "width": null
          }
        },
        "ff68975ba92a4e0eaed848bfb784c75d": {
          "model_module": "@jupyter-widgets/controls",
          "model_name": "DescriptionStyleModel",
          "model_module_version": "1.5.0",
          "state": {
            "_model_module": "@jupyter-widgets/controls",
            "_model_module_version": "1.5.0",
            "_model_name": "DescriptionStyleModel",
            "_view_count": null,
            "_view_module": "@jupyter-widgets/base",
            "_view_module_version": "1.2.0",
            "_view_name": "StyleView",
            "description_width": ""
          }
        },
        "c10b9d0073c148dd80e71b9266a4c49d": {
          "model_module": "@jupyter-widgets/base",
          "model_name": "LayoutModel",
          "model_module_version": "1.2.0",
          "state": {
            "_model_module": "@jupyter-widgets/base",
            "_model_module_version": "1.2.0",
            "_model_name": "LayoutModel",
            "_view_count": null,
            "_view_module": "@jupyter-widgets/base",
            "_view_module_version": "1.2.0",
            "_view_name": "LayoutView",
            "align_content": null,
            "align_items": null,
            "align_self": null,
            "border": null,
            "bottom": null,
            "display": null,
            "flex": null,
            "flex_flow": null,
            "grid_area": null,
            "grid_auto_columns": null,
            "grid_auto_flow": null,
            "grid_auto_rows": null,
            "grid_column": null,
            "grid_gap": null,
            "grid_row": null,
            "grid_template_areas": null,
            "grid_template_columns": null,
            "grid_template_rows": null,
            "height": null,
            "justify_content": null,
            "justify_items": null,
            "left": null,
            "margin": null,
            "max_height": null,
            "max_width": null,
            "min_height": null,
            "min_width": null,
            "object_fit": null,
            "object_position": null,
            "order": null,
            "overflow": null,
            "overflow_x": null,
            "overflow_y": null,
            "padding": null,
            "right": null,
            "top": null,
            "visibility": null,
            "width": null
          }
        },
        "56db06e03ac6495db4b220693cd13a37": {
          "model_module": "@jupyter-widgets/controls",
          "model_name": "ProgressStyleModel",
          "model_module_version": "1.5.0",
          "state": {
            "_model_module": "@jupyter-widgets/controls",
            "_model_module_version": "1.5.0",
            "_model_name": "ProgressStyleModel",
            "_view_count": null,
            "_view_module": "@jupyter-widgets/base",
            "_view_module_version": "1.2.0",
            "_view_name": "StyleView",
            "bar_color": null,
            "description_width": ""
          }
        },
        "e094d08ae0804c49b064a985498922f6": {
          "model_module": "@jupyter-widgets/base",
          "model_name": "LayoutModel",
          "model_module_version": "1.2.0",
          "state": {
            "_model_module": "@jupyter-widgets/base",
            "_model_module_version": "1.2.0",
            "_model_name": "LayoutModel",
            "_view_count": null,
            "_view_module": "@jupyter-widgets/base",
            "_view_module_version": "1.2.0",
            "_view_name": "LayoutView",
            "align_content": null,
            "align_items": null,
            "align_self": null,
            "border": null,
            "bottom": null,
            "display": null,
            "flex": null,
            "flex_flow": null,
            "grid_area": null,
            "grid_auto_columns": null,
            "grid_auto_flow": null,
            "grid_auto_rows": null,
            "grid_column": null,
            "grid_gap": null,
            "grid_row": null,
            "grid_template_areas": null,
            "grid_template_columns": null,
            "grid_template_rows": null,
            "height": null,
            "justify_content": null,
            "justify_items": null,
            "left": null,
            "margin": null,
            "max_height": null,
            "max_width": null,
            "min_height": null,
            "min_width": null,
            "object_fit": null,
            "object_position": null,
            "order": null,
            "overflow": null,
            "overflow_x": null,
            "overflow_y": null,
            "padding": null,
            "right": null,
            "top": null,
            "visibility": null,
            "width": null
          }
        },
        "1e1f59395dbb44cb955ff7bbd2c170d9": {
          "model_module": "@jupyter-widgets/controls",
          "model_name": "DescriptionStyleModel",
          "model_module_version": "1.5.0",
          "state": {
            "_model_module": "@jupyter-widgets/controls",
            "_model_module_version": "1.5.0",
            "_model_name": "DescriptionStyleModel",
            "_view_count": null,
            "_view_module": "@jupyter-widgets/base",
            "_view_module_version": "1.2.0",
            "_view_name": "StyleView",
            "description_width": ""
          }
        },
        "a8921e1fe83744fb80ce631bf544a055": {
          "model_module": "@jupyter-widgets/controls",
          "model_name": "HBoxModel",
          "model_module_version": "1.5.0",
          "state": {
            "_dom_classes": [],
            "_model_module": "@jupyter-widgets/controls",
            "_model_module_version": "1.5.0",
            "_model_name": "HBoxModel",
            "_view_count": null,
            "_view_module": "@jupyter-widgets/controls",
            "_view_module_version": "1.5.0",
            "_view_name": "HBoxView",
            "box_style": "",
            "children": [
              "IPY_MODEL_42a3eec1cdd84f21807285b9d8c72924",
              "IPY_MODEL_2a54ac254df24526bbd90604600ead0a",
              "IPY_MODEL_7860e235c9494f0287b0c023051f571a"
            ],
            "layout": "IPY_MODEL_12cabf3ff7bb4c888764778c34868067"
          }
        },
        "42a3eec1cdd84f21807285b9d8c72924": {
          "model_module": "@jupyter-widgets/controls",
          "model_name": "HTMLModel",
          "model_module_version": "1.5.0",
          "state": {
            "_dom_classes": [],
            "_model_module": "@jupyter-widgets/controls",
            "_model_module_version": "1.5.0",
            "_model_name": "HTMLModel",
            "_view_count": null,
            "_view_module": "@jupyter-widgets/controls",
            "_view_module_version": "1.5.0",
            "_view_name": "HTMLView",
            "description": "",
            "description_tooltip": null,
            "layout": "IPY_MODEL_0d4eaf80f4ad4d69995f543cb7466cea",
            "placeholder": "​",
            "style": "IPY_MODEL_a51112555e944731aec4ab482991dd98",
            "value": "Upload 1 LFS files: 100%"
          }
        },
        "2a54ac254df24526bbd90604600ead0a": {
          "model_module": "@jupyter-widgets/controls",
          "model_name": "FloatProgressModel",
          "model_module_version": "1.5.0",
          "state": {
            "_dom_classes": [],
            "_model_module": "@jupyter-widgets/controls",
            "_model_module_version": "1.5.0",
            "_model_name": "FloatProgressModel",
            "_view_count": null,
            "_view_module": "@jupyter-widgets/controls",
            "_view_module_version": "1.5.0",
            "_view_name": "ProgressView",
            "bar_style": "success",
            "description": "",
            "description_tooltip": null,
            "layout": "IPY_MODEL_6037a24998874f1b898530d2f22d7cb2",
            "max": 1,
            "min": 0,
            "orientation": "horizontal",
            "style": "IPY_MODEL_9f9ef29a6e64428ca89f60a8600001c6",
            "value": 1
          }
        },
        "7860e235c9494f0287b0c023051f571a": {
          "model_module": "@jupyter-widgets/controls",
          "model_name": "HTMLModel",
          "model_module_version": "1.5.0",
          "state": {
            "_dom_classes": [],
            "_model_module": "@jupyter-widgets/controls",
            "_model_module_version": "1.5.0",
            "_model_name": "HTMLModel",
            "_view_count": null,
            "_view_module": "@jupyter-widgets/controls",
            "_view_module_version": "1.5.0",
            "_view_name": "HTMLView",
            "description": "",
            "description_tooltip": null,
            "layout": "IPY_MODEL_63baa4fb490f4405ada381c637958b3c",
            "placeholder": "​",
            "style": "IPY_MODEL_f1c80435f97c4fad84552f7ef9b8cfb8",
            "value": " 1/1 [00:02&lt;00:00,  2.08s/it]"
          }
        },
        "12cabf3ff7bb4c888764778c34868067": {
          "model_module": "@jupyter-widgets/base",
          "model_name": "LayoutModel",
          "model_module_version": "1.2.0",
          "state": {
            "_model_module": "@jupyter-widgets/base",
            "_model_module_version": "1.2.0",
            "_model_name": "LayoutModel",
            "_view_count": null,
            "_view_module": "@jupyter-widgets/base",
            "_view_module_version": "1.2.0",
            "_view_name": "LayoutView",
            "align_content": null,
            "align_items": null,
            "align_self": null,
            "border": null,
            "bottom": null,
            "display": null,
            "flex": null,
            "flex_flow": null,
            "grid_area": null,
            "grid_auto_columns": null,
            "grid_auto_flow": null,
            "grid_auto_rows": null,
            "grid_column": null,
            "grid_gap": null,
            "grid_row": null,
            "grid_template_areas": null,
            "grid_template_columns": null,
            "grid_template_rows": null,
            "height": null,
            "justify_content": null,
            "justify_items": null,
            "left": null,
            "margin": null,
            "max_height": null,
            "max_width": null,
            "min_height": null,
            "min_width": null,
            "object_fit": null,
            "object_position": null,
            "order": null,
            "overflow": null,
            "overflow_x": null,
            "overflow_y": null,
            "padding": null,
            "right": null,
            "top": null,
            "visibility": null,
            "width": null
          }
        },
        "0d4eaf80f4ad4d69995f543cb7466cea": {
          "model_module": "@jupyter-widgets/base",
          "model_name": "LayoutModel",
          "model_module_version": "1.2.0",
          "state": {
            "_model_module": "@jupyter-widgets/base",
            "_model_module_version": "1.2.0",
            "_model_name": "LayoutModel",
            "_view_count": null,
            "_view_module": "@jupyter-widgets/base",
            "_view_module_version": "1.2.0",
            "_view_name": "LayoutView",
            "align_content": null,
            "align_items": null,
            "align_self": null,
            "border": null,
            "bottom": null,
            "display": null,
            "flex": null,
            "flex_flow": null,
            "grid_area": null,
            "grid_auto_columns": null,
            "grid_auto_flow": null,
            "grid_auto_rows": null,
            "grid_column": null,
            "grid_gap": null,
            "grid_row": null,
            "grid_template_areas": null,
            "grid_template_columns": null,
            "grid_template_rows": null,
            "height": null,
            "justify_content": null,
            "justify_items": null,
            "left": null,
            "margin": null,
            "max_height": null,
            "max_width": null,
            "min_height": null,
            "min_width": null,
            "object_fit": null,
            "object_position": null,
            "order": null,
            "overflow": null,
            "overflow_x": null,
            "overflow_y": null,
            "padding": null,
            "right": null,
            "top": null,
            "visibility": null,
            "width": null
          }
        },
        "a51112555e944731aec4ab482991dd98": {
          "model_module": "@jupyter-widgets/controls",
          "model_name": "DescriptionStyleModel",
          "model_module_version": "1.5.0",
          "state": {
            "_model_module": "@jupyter-widgets/controls",
            "_model_module_version": "1.5.0",
            "_model_name": "DescriptionStyleModel",
            "_view_count": null,
            "_view_module": "@jupyter-widgets/base",
            "_view_module_version": "1.2.0",
            "_view_name": "StyleView",
            "description_width": ""
          }
        },
        "6037a24998874f1b898530d2f22d7cb2": {
          "model_module": "@jupyter-widgets/base",
          "model_name": "LayoutModel",
          "model_module_version": "1.2.0",
          "state": {
            "_model_module": "@jupyter-widgets/base",
            "_model_module_version": "1.2.0",
            "_model_name": "LayoutModel",
            "_view_count": null,
            "_view_module": "@jupyter-widgets/base",
            "_view_module_version": "1.2.0",
            "_view_name": "LayoutView",
            "align_content": null,
            "align_items": null,
            "align_self": null,
            "border": null,
            "bottom": null,
            "display": null,
            "flex": null,
            "flex_flow": null,
            "grid_area": null,
            "grid_auto_columns": null,
            "grid_auto_flow": null,
            "grid_auto_rows": null,
            "grid_column": null,
            "grid_gap": null,
            "grid_row": null,
            "grid_template_areas": null,
            "grid_template_columns": null,
            "grid_template_rows": null,
            "height": null,
            "justify_content": null,
            "justify_items": null,
            "left": null,
            "margin": null,
            "max_height": null,
            "max_width": null,
            "min_height": null,
            "min_width": null,
            "object_fit": null,
            "object_position": null,
            "order": null,
            "overflow": null,
            "overflow_x": null,
            "overflow_y": null,
            "padding": null,
            "right": null,
            "top": null,
            "visibility": null,
            "width": null
          }
        },
        "9f9ef29a6e64428ca89f60a8600001c6": {
          "model_module": "@jupyter-widgets/controls",
          "model_name": "ProgressStyleModel",
          "model_module_version": "1.5.0",
          "state": {
            "_model_module": "@jupyter-widgets/controls",
            "_model_module_version": "1.5.0",
            "_model_name": "ProgressStyleModel",
            "_view_count": null,
            "_view_module": "@jupyter-widgets/base",
            "_view_module_version": "1.2.0",
            "_view_name": "StyleView",
            "bar_color": null,
            "description_width": ""
          }
        },
        "63baa4fb490f4405ada381c637958b3c": {
          "model_module": "@jupyter-widgets/base",
          "model_name": "LayoutModel",
          "model_module_version": "1.2.0",
          "state": {
            "_model_module": "@jupyter-widgets/base",
            "_model_module_version": "1.2.0",
            "_model_name": "LayoutModel",
            "_view_count": null,
            "_view_module": "@jupyter-widgets/base",
            "_view_module_version": "1.2.0",
            "_view_name": "LayoutView",
            "align_content": null,
            "align_items": null,
            "align_self": null,
            "border": null,
            "bottom": null,
            "display": null,
            "flex": null,
            "flex_flow": null,
            "grid_area": null,
            "grid_auto_columns": null,
            "grid_auto_flow": null,
            "grid_auto_rows": null,
            "grid_column": null,
            "grid_gap": null,
            "grid_row": null,
            "grid_template_areas": null,
            "grid_template_columns": null,
            "grid_template_rows": null,
            "height": null,
            "justify_content": null,
            "justify_items": null,
            "left": null,
            "margin": null,
            "max_height": null,
            "max_width": null,
            "min_height": null,
            "min_width": null,
            "object_fit": null,
            "object_position": null,
            "order": null,
            "overflow": null,
            "overflow_x": null,
            "overflow_y": null,
            "padding": null,
            "right": null,
            "top": null,
            "visibility": null,
            "width": null
          }
        },
        "f1c80435f97c4fad84552f7ef9b8cfb8": {
          "model_module": "@jupyter-widgets/controls",
          "model_name": "DescriptionStyleModel",
          "model_module_version": "1.5.0",
          "state": {
            "_model_module": "@jupyter-widgets/controls",
            "_model_module_version": "1.5.0",
            "_model_name": "DescriptionStyleModel",
            "_view_count": null,
            "_view_module": "@jupyter-widgets/base",
            "_view_module_version": "1.2.0",
            "_view_name": "StyleView",
            "description_width": ""
          }
        },
        "3995230fdfa541ae9da39f9454e84319": {
          "model_module": "@jupyter-widgets/controls",
          "model_name": "HBoxModel",
          "model_module_version": "1.5.0",
          "state": {
            "_dom_classes": [],
            "_model_module": "@jupyter-widgets/controls",
            "_model_module_version": "1.5.0",
            "_model_name": "HBoxModel",
            "_view_count": null,
            "_view_module": "@jupyter-widgets/controls",
            "_view_module_version": "1.5.0",
            "_view_name": "HBoxView",
            "box_style": "",
            "children": [
              "IPY_MODEL_748ffb139b864606a145f10a827654c4",
              "IPY_MODEL_858d7a9660144818aaede07228b7aeb6",
              "IPY_MODEL_0a100fea5e7d42a1b004b7a706223bf0"
            ],
            "layout": "IPY_MODEL_ff83611c3ed649209bc791a44ddaa666"
          }
        },
        "748ffb139b864606a145f10a827654c4": {
          "model_module": "@jupyter-widgets/controls",
          "model_name": "HTMLModel",
          "model_module_version": "1.5.0",
          "state": {
            "_dom_classes": [],
            "_model_module": "@jupyter-widgets/controls",
            "_model_module_version": "1.5.0",
            "_model_name": "HTMLModel",
            "_view_count": null,
            "_view_module": "@jupyter-widgets/controls",
            "_view_module_version": "1.5.0",
            "_view_name": "HTMLView",
            "description": "",
            "description_tooltip": null,
            "layout": "IPY_MODEL_72f54dff85364411a8002a6551744633",
            "placeholder": "​",
            "style": "IPY_MODEL_c1a4ae23d1994d1fbb06dfbe12f15871",
            "value": "training_args.bin: 100%"
          }
        },
        "858d7a9660144818aaede07228b7aeb6": {
          "model_module": "@jupyter-widgets/controls",
          "model_name": "FloatProgressModel",
          "model_module_version": "1.5.0",
          "state": {
            "_dom_classes": [],
            "_model_module": "@jupyter-widgets/controls",
            "_model_module_version": "1.5.0",
            "_model_name": "FloatProgressModel",
            "_view_count": null,
            "_view_module": "@jupyter-widgets/controls",
            "_view_module_version": "1.5.0",
            "_view_name": "ProgressView",
            "bar_style": "success",
            "description": "",
            "description_tooltip": null,
            "layout": "IPY_MODEL_2414d9dcf4524bc4b81480e35bb0a907",
            "max": 3515,
            "min": 0,
            "orientation": "horizontal",
            "style": "IPY_MODEL_75be88f740d94622b1598fe1e7739ae9",
            "value": 3515
          }
        },
        "0a100fea5e7d42a1b004b7a706223bf0": {
          "model_module": "@jupyter-widgets/controls",
          "model_name": "HTMLModel",
          "model_module_version": "1.5.0",
          "state": {
            "_dom_classes": [],
            "_model_module": "@jupyter-widgets/controls",
            "_model_module_version": "1.5.0",
            "_model_name": "HTMLModel",
            "_view_count": null,
            "_view_module": "@jupyter-widgets/controls",
            "_view_module_version": "1.5.0",
            "_view_name": "HTMLView",
            "description": "",
            "description_tooltip": null,
            "layout": "IPY_MODEL_63d0119b0f6847739263befedf6304f0",
            "placeholder": "​",
            "style": "IPY_MODEL_a692b583bb244015b0fb2e131ea2eb49",
            "value": " 3.52k/3.52k [00:02&lt;00:00, 4.88kB/s]"
          }
        },
        "ff83611c3ed649209bc791a44ddaa666": {
          "model_module": "@jupyter-widgets/base",
          "model_name": "LayoutModel",
          "model_module_version": "1.2.0",
          "state": {
            "_model_module": "@jupyter-widgets/base",
            "_model_module_version": "1.2.0",
            "_model_name": "LayoutModel",
            "_view_count": null,
            "_view_module": "@jupyter-widgets/base",
            "_view_module_version": "1.2.0",
            "_view_name": "LayoutView",
            "align_content": null,
            "align_items": null,
            "align_self": null,
            "border": null,
            "bottom": null,
            "display": null,
            "flex": null,
            "flex_flow": null,
            "grid_area": null,
            "grid_auto_columns": null,
            "grid_auto_flow": null,
            "grid_auto_rows": null,
            "grid_column": null,
            "grid_gap": null,
            "grid_row": null,
            "grid_template_areas": null,
            "grid_template_columns": null,
            "grid_template_rows": null,
            "height": null,
            "justify_content": null,
            "justify_items": null,
            "left": null,
            "margin": null,
            "max_height": null,
            "max_width": null,
            "min_height": null,
            "min_width": null,
            "object_fit": null,
            "object_position": null,
            "order": null,
            "overflow": null,
            "overflow_x": null,
            "overflow_y": null,
            "padding": null,
            "right": null,
            "top": null,
            "visibility": null,
            "width": null
          }
        },
        "72f54dff85364411a8002a6551744633": {
          "model_module": "@jupyter-widgets/base",
          "model_name": "LayoutModel",
          "model_module_version": "1.2.0",
          "state": {
            "_model_module": "@jupyter-widgets/base",
            "_model_module_version": "1.2.0",
            "_model_name": "LayoutModel",
            "_view_count": null,
            "_view_module": "@jupyter-widgets/base",
            "_view_module_version": "1.2.0",
            "_view_name": "LayoutView",
            "align_content": null,
            "align_items": null,
            "align_self": null,
            "border": null,
            "bottom": null,
            "display": null,
            "flex": null,
            "flex_flow": null,
            "grid_area": null,
            "grid_auto_columns": null,
            "grid_auto_flow": null,
            "grid_auto_rows": null,
            "grid_column": null,
            "grid_gap": null,
            "grid_row": null,
            "grid_template_areas": null,
            "grid_template_columns": null,
            "grid_template_rows": null,
            "height": null,
            "justify_content": null,
            "justify_items": null,
            "left": null,
            "margin": null,
            "max_height": null,
            "max_width": null,
            "min_height": null,
            "min_width": null,
            "object_fit": null,
            "object_position": null,
            "order": null,
            "overflow": null,
            "overflow_x": null,
            "overflow_y": null,
            "padding": null,
            "right": null,
            "top": null,
            "visibility": null,
            "width": null
          }
        },
        "c1a4ae23d1994d1fbb06dfbe12f15871": {
          "model_module": "@jupyter-widgets/controls",
          "model_name": "DescriptionStyleModel",
          "model_module_version": "1.5.0",
          "state": {
            "_model_module": "@jupyter-widgets/controls",
            "_model_module_version": "1.5.0",
            "_model_name": "DescriptionStyleModel",
            "_view_count": null,
            "_view_module": "@jupyter-widgets/base",
            "_view_module_version": "1.2.0",
            "_view_name": "StyleView",
            "description_width": ""
          }
        },
        "2414d9dcf4524bc4b81480e35bb0a907": {
          "model_module": "@jupyter-widgets/base",
          "model_name": "LayoutModel",
          "model_module_version": "1.2.0",
          "state": {
            "_model_module": "@jupyter-widgets/base",
            "_model_module_version": "1.2.0",
            "_model_name": "LayoutModel",
            "_view_count": null,
            "_view_module": "@jupyter-widgets/base",
            "_view_module_version": "1.2.0",
            "_view_name": "LayoutView",
            "align_content": null,
            "align_items": null,
            "align_self": null,
            "border": null,
            "bottom": null,
            "display": null,
            "flex": null,
            "flex_flow": null,
            "grid_area": null,
            "grid_auto_columns": null,
            "grid_auto_flow": null,
            "grid_auto_rows": null,
            "grid_column": null,
            "grid_gap": null,
            "grid_row": null,
            "grid_template_areas": null,
            "grid_template_columns": null,
            "grid_template_rows": null,
            "height": null,
            "justify_content": null,
            "justify_items": null,
            "left": null,
            "margin": null,
            "max_height": null,
            "max_width": null,
            "min_height": null,
            "min_width": null,
            "object_fit": null,
            "object_position": null,
            "order": null,
            "overflow": null,
            "overflow_x": null,
            "overflow_y": null,
            "padding": null,
            "right": null,
            "top": null,
            "visibility": null,
            "width": null
          }
        },
        "75be88f740d94622b1598fe1e7739ae9": {
          "model_module": "@jupyter-widgets/controls",
          "model_name": "ProgressStyleModel",
          "model_module_version": "1.5.0",
          "state": {
            "_model_module": "@jupyter-widgets/controls",
            "_model_module_version": "1.5.0",
            "_model_name": "ProgressStyleModel",
            "_view_count": null,
            "_view_module": "@jupyter-widgets/base",
            "_view_module_version": "1.2.0",
            "_view_name": "StyleView",
            "bar_color": null,
            "description_width": ""
          }
        },
        "63d0119b0f6847739263befedf6304f0": {
          "model_module": "@jupyter-widgets/base",
          "model_name": "LayoutModel",
          "model_module_version": "1.2.0",
          "state": {
            "_model_module": "@jupyter-widgets/base",
            "_model_module_version": "1.2.0",
            "_model_name": "LayoutModel",
            "_view_count": null,
            "_view_module": "@jupyter-widgets/base",
            "_view_module_version": "1.2.0",
            "_view_name": "LayoutView",
            "align_content": null,
            "align_items": null,
            "align_self": null,
            "border": null,
            "bottom": null,
            "display": null,
            "flex": null,
            "flex_flow": null,
            "grid_area": null,
            "grid_auto_columns": null,
            "grid_auto_flow": null,
            "grid_auto_rows": null,
            "grid_column": null,
            "grid_gap": null,
            "grid_row": null,
            "grid_template_areas": null,
            "grid_template_columns": null,
            "grid_template_rows": null,
            "height": null,
            "justify_content": null,
            "justify_items": null,
            "left": null,
            "margin": null,
            "max_height": null,
            "max_width": null,
            "min_height": null,
            "min_width": null,
            "object_fit": null,
            "object_position": null,
            "order": null,
            "overflow": null,
            "overflow_x": null,
            "overflow_y": null,
            "padding": null,
            "right": null,
            "top": null,
            "visibility": null,
            "width": null
          }
        },
        "a692b583bb244015b0fb2e131ea2eb49": {
          "model_module": "@jupyter-widgets/controls",
          "model_name": "DescriptionStyleModel",
          "model_module_version": "1.5.0",
          "state": {
            "_model_module": "@jupyter-widgets/controls",
            "_model_module_version": "1.5.0",
            "_model_name": "DescriptionStyleModel",
            "_view_count": null,
            "_view_module": "@jupyter-widgets/base",
            "_view_module_version": "1.2.0",
            "_view_name": "StyleView",
            "description_width": ""
          }
        }
      }
    }
  },
  "cells": [
    {
      "cell_type": "markdown",
      "source": [
        "# Text Generation using GPT (Using Huggingface)"
      ],
      "metadata": {
        "id": "KoNqC9E6K5dl"
      }
    },
    {
      "cell_type": "markdown",
      "source": [
        "## Project Setup"
      ],
      "metadata": {
        "id": "BSqHIq-o5c6a"
      }
    },
    {
      "cell_type": "code",
      "source": [
        "!pip install -q transformers"
      ],
      "metadata": {
        "id": "eMksH89z5emh"
      },
      "execution_count": null,
      "outputs": []
    },
    {
      "cell_type": "code",
      "source": [
        "import torch\n",
        "import shutil\n",
        "from torch.utils.data import Dataset, random_split\n",
        "from transformers import Trainer, TrainingArguments, GPTNeoForCausalLM, GPT2Tokenizer\n",
        "\n",
        "\n",
        "from google.colab import drive\n"
      ],
      "metadata": {
        "id": "6UPda3LTYYoo"
      },
      "execution_count": null,
      "outputs": []
    },
    {
      "cell_type": "markdown",
      "source": [
        "## Data Preparation"
      ],
      "metadata": {
        "id": "AoZgQSdSedqa"
      }
    },
    {
      "cell_type": "code",
      "source": [
        "# Load data into colab\n",
        "!wget https://raw.githubusercontent.com/brunoklein99/deep-learning-notes/master/shakespeare.txt"
      ],
      "metadata": {
        "colab": {
          "base_uri": "https://localhost:8080/"
        },
        "id": "DWZAkEC3eicq",
        "outputId": "8711bb62-da24-4296-c8e5-9e2b86113d6d"
      },
      "execution_count": null,
      "outputs": [
        {
          "output_type": "stream",
          "name": "stdout",
          "text": [
            "--2023-03-24 21:15:41--  https://raw.githubusercontent.com/brunoklein99/deep-learning-notes/master/shakespeare.txt\n",
            "Resolving raw.githubusercontent.com (raw.githubusercontent.com)... 185.199.108.133, 185.199.109.133, 185.199.110.133, ...\n",
            "Connecting to raw.githubusercontent.com (raw.githubusercontent.com)|185.199.108.133|:443... connected.\n",
            "HTTP request sent, awaiting response... 200 OK\n",
            "Length: 94275 (92K) [text/plain]\n",
            "Saving to: ‘shakespeare.txt.2’\n",
            "\n",
            "\rshakespeare.txt.2     0%[                    ]       0  --.-KB/s               \rshakespeare.txt.2   100%[===================>]  92.07K  --.-KB/s    in 0.001s  \n",
            "\n",
            "2023-03-24 21:15:41 (69.2 MB/s) - ‘shakespeare.txt.2’ saved [94275/94275]\n",
            "\n"
          ]
        }
      ]
    },
    {
      "cell_type": "code",
      "source": [
        "# Connects colab to google drive\n",
        "drive.mount('/content/drive')"
      ],
      "metadata": {
        "colab": {
          "base_uri": "https://localhost:8080/"
        },
        "id": "dvfjsVtte5Tm",
        "outputId": "e023cb6a-def3-4e50-a549-9de84e1429a4"
      },
      "execution_count": null,
      "outputs": [
        {
          "output_type": "stream",
          "name": "stdout",
          "text": [
            "Drive already mounted at /content/drive; to attempt to forcibly remount, call drive.mount(\"/content/drive\", force_remount=True).\n"
          ]
        }
      ]
    },
    {
      "cell_type": "code",
      "source": [
        "shutil.copy(\"/content/shakespeare.txt.2\",\"drive/MyDrive/AICamp/nlp\")\n"
      ],
      "metadata": {
        "id": "IE_gu48efMGH"
      },
      "execution_count": null,
      "outputs": []
    },
    {
      "cell_type": "code",
      "source": [
        "# Read the text file and returns list of lines in text\n",
        "def read_file(file_path):\n",
        "    with open(file_path) as f:\n",
        "        lines = [line for line in f]\n",
        "        # lines.remove(\"\")\n",
        "    return lines\n"
      ],
      "metadata": {
        "id": "6V9skOs9gwsc"
      },
      "execution_count": null,
      "outputs": []
    },
    {
      "cell_type": "code",
      "source": [
        "file_path = \"drive/MyDrive/AICamp/nlp/shakespeare.txt.2\"\n",
        "\n",
        "texts = read_file(file_path)\n",
        "sonnets = []\n",
        "sonnet = []\n",
        "for text in texts:\n",
        "  if len(text)>1:\n",
        "    sonnet.append(text)\n",
        "  else:\n",
        "    sonnets.append(''.join(sonnet))\n",
        "    sonnet = []\n",
        "\n",
        "# Remove unnecessary texts\n"
      ],
      "metadata": {
        "id": "el_C875YhzPd",
        "colab": {
          "base_uri": "https://localhost:8080/",
          "height": 35
        },
        "outputId": "399a7178-9951-4c08-c37a-a9010a9aaa21"
      },
      "execution_count": null,
      "outputs": [
        {
          "output_type": "execute_result",
          "data": {
            "text/plain": [
              "'THE SONNETS\\n'"
            ],
            "application/vnd.google.colaboratory.intrinsic+json": {
              "type": "string"
            }
          },
          "metadata": {},
          "execution_count": 32
        }
      ]
    },
    {
      "cell_type": "code",
      "source": [
        "# Prepare sonnets\n",
        "datas = sonnets[2:-1]\n",
        "print(len(datas))\n",
        "for data in datas:\n",
        "  if len(data)<1:\n",
        "    datas.remove(data)\n",
        "print(len(datas))"
      ],
      "metadata": {
        "colab": {
          "base_uri": "https://localhost:8080/"
        },
        "id": "2nEZwhmhmBbc",
        "outputId": "a81b3814-31ac-4873-c557-c1ceb4f4228b"
      },
      "execution_count": null,
      "outputs": [
        {
          "output_type": "stream",
          "name": "stdout",
          "text": [
            "289\n",
            "212\n"
          ]
        }
      ]
    },
    {
      "cell_type": "code",
      "source": [
        "# Custome dataset class to load dataset\n",
        "class ShakespeareDataset(Dataset):\n",
        "    def __init__(self, txt_list, tokenizer, max_length):\n",
        "        self.input_ids = []\n",
        "        self.attn_masks = []\n",
        "        self.labels = []\n",
        "        for txt in txt_list:\n",
        "            # Encode the descriptions using the GPT-Neo tokenizer\n",
        "            encodings_dict = tokenizer('<|startoftext|>' \n",
        "                                        + txt +    \n",
        "                                        '<|endoftext|>',\n",
        "                                        truncation=True,\n",
        "                                        max_length=max_length, \n",
        "                                            padding=\"max_length\")\n",
        "            input_ids = torch.tensor(encodings_dict['input_ids'])    \n",
        "            self.input_ids.append(input_ids)\n",
        "            mask = torch.tensor(encodings_dict['attention_mask'])\n",
        "            self.attn_masks.append(mask)\n",
        "    \n",
        "    def __len__(self):\n",
        "        return len(self.input_ids)\n",
        "    \n",
        "    def __getitem__(self, idx):\n",
        "        return self.input_ids[idx], self.attn_masks[idx]"
      ],
      "metadata": {
        "id": "FRVhqfCSgIOt"
      },
      "execution_count": null,
      "outputs": []
    },
    {
      "cell_type": "markdown",
      "source": [
        "## Initialize tokenizer, model"
      ],
      "metadata": {
        "id": "YyWp2-T5jU1D"
      }
    },
    {
      "cell_type": "code",
      "source": [
        "# Set the random seed to a fixed value to get reproducible results \n",
        "torch.manual_seed(42)\n",
        "\n",
        "# Download the pre-trained GPT-Neo model's tokenizer\n",
        "# Add the custom tokens denoting the beginning and the end \n",
        "# of the sequence and a special token for padding\n",
        "tokenizer = GPT2Tokenizer.from_pretrained(\"EleutherAI/gpt-neo-125M\",    \n",
        "                            bos_token='<|startoftext|>',\n",
        "                            eos_token='<|endoftext|>',\n",
        "                            pad_token='<|pad|>')\n",
        "\n",
        "# Download the pre-trained GPT-Neo model and transfer it to the GPU\n",
        "model = GPTNeoForCausalLM.from_pretrained(\"EleutherAI/gpt-neo-125M\").cuda()\n",
        "\n",
        "# Resize the token embeddings because we've just added 3 new tokens \n",
        "model.resize_token_embeddings(len(tokenizer))"
      ],
      "metadata": {
        "colab": {
          "base_uri": "https://localhost:8080/"
        },
        "id": "lwve_LeijIrB",
        "outputId": "e79885e5-1aa9-4284-f8d4-d0291faa3240"
      },
      "execution_count": null,
      "outputs": [
        {
          "output_type": "stream",
          "name": "stderr",
          "text": [
            "Special tokens have been added in the vocabulary, make sure the associated word embeddings are fine-tuned or trained.\n"
          ]
        },
        {
          "output_type": "execute_result",
          "data": {
            "text/plain": [
              "Embedding(50259, 768)"
            ]
          },
          "metadata": {},
          "execution_count": 43
        }
      ]
    },
    {
      "cell_type": "markdown",
      "source": [
        "## Train/Test Split data"
      ],
      "metadata": {
        "id": "mnaVbPqAl6pJ"
      }
    },
    {
      "cell_type": "code",
      "source": [
        "max_length = max([len(tokenizer.encode(sonnet)) for sonnet in datas])\n",
        "\n",
        "# Load dataset\n",
        "dataset = ShakespeareDataset(sonnets, tokenizer, max_length)\n",
        "\n",
        "# Split data into train/val\n",
        "train_size = int(0.9 * len(dataset))\n",
        "\n",
        "train_data, val_data = random_split(dataset, [train_size, len(dataset) - train_size])\n",
        "\n",
        "max_length"
      ],
      "metadata": {
        "id": "azAXcv50l9_S",
        "colab": {
          "base_uri": "https://localhost:8080/"
        },
        "outputId": "5a7aa239-6a6e-4f03-f8c0-dc7a5916f37c"
      },
      "execution_count": null,
      "outputs": [
        {
          "output_type": "execute_result",
          "data": {
            "text/plain": [
              "351"
            ]
          },
          "metadata": {},
          "execution_count": 45
        }
      ]
    },
    {
      "cell_type": "code",
      "source": [
        "tokenizer.batch_decode(val_data[0])"
      ],
      "metadata": {
        "colab": {
          "base_uri": "https://localhost:8080/"
        },
        "id": "JMKRswOTof4K",
        "outputId": "fea8eb94-dd62-4875-d760-71e00ce3f50f"
      },
      "execution_count": null,
      "outputs": [
        {
          "output_type": "execute_result",
          "data": {
            "text/plain": [
              "[\"<|startoftext|> When to the sessions of sweet silent thought,\\nI summon up remembrance of things past,\\nI sigh the lack of many a thing I sought,\\nAnd with old woes new wail my dear time's waste:\\nThen can I drown an eye (unused to flow)\\nFor precious friends hid in death's dateless night,\\nAnd weep afresh love's long since cancelled woe,\\nAnd moan th' expense of many a vanished sight.\\nThen can I grieve at grievances foregone,\\nAnd heavily from woe to woe tell o'er\\nThe sad account of fore-bemoaned moan,\\nWhich I new pay as if not paid before.\\nBut if the while I think on thee (dear friend)\\nAll losses are restored, and sorrows end.\\n  \\nThy bosom is endeared with all hearts,\\nWhich I by lacking have supposed dead,\\nAnd there reigns love and all love's loving parts,\\nAnd all those friends which I thought buried.\\nHow many a holy and obsequious tear\\nHath dear religious love stol'n from mine eye,\\nAs interest of the dead, which now appear,\\nBut things removed that hidden in thee lie.\\nThou art the grave where buried love doth live,\\nHung with the trophies of my lovers gone,\\nWho all their parts of me to thee did give,\\nThat due of many, now is thine alone.\\nTheir images I loved, I view in thee,\\nAnd thou (all they) hast all the all of me.\\n<|endoftext|> <|pad|> <|pad|> <|pad|> <|pad|> <|pad|> <|pad|> <|pad|> <|pad|> <|pad|> <|pad|> <|pad|> <|pad|> <|pad|> <|pad|> <|pad|> <|pad|> <|pad|> <|pad|>\",\n",
              " '\"\"\"\"\"\"\"\"\"\"\"\"\"\"\"\"\"\"\"\"\"\"\"\"\"\"\"\"\"\"\"\"\"\"\"\"\"\"\"\"\"\"\"\"\"\"\"\"\"\"\"\"\"\"\"\"\"\"\"\"\"\"\"\"\"\"\"\"\"\"\"\"\"\"\"\"\"\"\"\"\"\"\"\"\"\"\"\"\"\"\"\"\"\"\"\"\"\"\"\"\"\"\"\"\"\"\"\"\"\"\"\"\"\"\"\"\"\"\"\"\"\"\"\"\"\"\"\"\"\"\"\"\"\"\"\"\"\"\"\"\"\"\"\"\"\"\"\"\"\"\"\"\"\"\"\"\"\"\"\"\"\"\"\"\"\"\"\"\"\"\"\"\"\"\"\"\"\"\"\"\"\"\"\"\"\"\"\"\"\"\"\"\"\"\"\"\"\"\"\"\"\"\"\"\"\"\"\"\"\"\"\"\"\"\"\"\"\"\"\"\"\"\"\"\"\"\"\"\"\"\"\"\"\"\"\"\"\"\"\"\"\"\"\"\"\"\"\"\"\"\"\"\"\"\"\"\"\"\"\"\"\"\"\"\"\"\"\"\"\"\"\"\"\"\"\"\"\"\"\"\"\"\"\"\"\"\"\"\"\"\"\"\"\"\"\"\"\"\"\"\"\"\"\"\"\"\"\"\"\"\"\"\"\"\"\"\"\"\"\"\"\"\"\"\"\"\"\"\"\"\"\"\"!!!!!!!!!!!!!!!!!!']"
            ]
          },
          "metadata": {},
          "execution_count": 46
        }
      ]
    },
    {
      "cell_type": "markdown",
      "source": [
        "## Train Model"
      ],
      "metadata": {
        "id": "tZ_TRgtAmcN1"
      }
    },
    {
      "cell_type": "code",
      "source": [
        "# Here I will pass the output directory where \n",
        "# the model predictions and checkpoints will be stored, \n",
        "# batch sizes for the training and validation steps, \n",
        "# and warmup_steps to gradually increase the learning rate\n",
        "learning_rates = [5e-5, 3e-5, 1e-5]\n",
        "\n",
        "for learning_rate in learning_rates:\n",
        "\n",
        "    training_args = TrainingArguments(output_dir=f'./results_{learning_rate}',\n",
        "                                      num_train_epochs=5,\n",
        "                                      logging_steps=1000,\n",
        "                                      save_steps=1000,\n",
        "                                      evaluation_strategy='steps',\n",
        "                                      eval_steps=1000,                               \n",
        "                                      per_device_train_batch_size=2,\n",
        "                                      per_device_eval_batch_size=2,\n",
        "                                      warmup_steps=100,\n",
        "                                      learning_rate=learning_rate,\n",
        "                                      weight_decay=0.01,  \n",
        "                                      logging_dir=f'./logs_{learning_rate}')\n",
        "\n",
        "    trainer = Trainer(model=model, args=training_args,  \n",
        "                      train_dataset=train_data,\n",
        "                      eval_dataset=val_data, \n",
        "                      # This custom collate function is necessary \n",
        "                      # to built batches of data\n",
        "                      data_collator=lambda data: {'input_ids': torch.stack([f[0] for f in data]),       \n",
        "                  'attention_mask': torch.stack([f[1] for f in data]),\n",
        "                  'labels': torch.stack([f[0] for f in data])})\n",
        "\n",
        "    # Start training process!\n",
        "    print(f\"Training result for learning rate: {learning_rate}\")\n",
        "    trainer.train()\n",
        "    print(\"\\n\\n\")"
      ],
      "metadata": {
        "colab": {
          "base_uri": "https://localhost:8080/",
          "height": 995
        },
        "id": "W9eluje2md8e",
        "outputId": "6a5f7294-b7d2-43a1-aeae-6f18639ebc38"
      },
      "execution_count": null,
      "outputs": [
        {
          "output_type": "stream",
          "name": "stdout",
          "text": [
            "Training result for learning rate: 5e-05\n"
          ]
        },
        {
          "output_type": "stream",
          "name": "stderr",
          "text": [
            "/usr/local/lib/python3.9/dist-packages/transformers/optimization.py:391: FutureWarning: This implementation of AdamW is deprecated and will be removed in a future version. Use the PyTorch implementation torch.optim.AdamW instead, or set `no_deprecation_warning=True` to disable this warning\n",
            "  warnings.warn(\n"
          ]
        },
        {
          "output_type": "display_data",
          "data": {
            "text/plain": [
              "<IPython.core.display.HTML object>"
            ],
            "text/html": [
              "\n",
              "    <div>\n",
              "      \n",
              "      <progress value='5540' max='5540' style='width:300px; height:20px; vertical-align: middle;'></progress>\n",
              "      [5540/5540 10:38, Epoch 5/5]\n",
              "    </div>\n",
              "    <table border=\"1\" class=\"dataframe\">\n",
              "  <thead>\n",
              " <tr style=\"text-align: left;\">\n",
              "      <th>Step</th>\n",
              "      <th>Training Loss</th>\n",
              "      <th>Validation Loss</th>\n",
              "    </tr>\n",
              "  </thead>\n",
              "  <tbody>\n",
              "    <tr>\n",
              "      <td>1000</td>\n",
              "      <td>0.648800</td>\n",
              "      <td>4.627812</td>\n",
              "    </tr>\n",
              "    <tr>\n",
              "      <td>2000</td>\n",
              "      <td>0.614800</td>\n",
              "      <td>4.719461</td>\n",
              "    </tr>\n",
              "    <tr>\n",
              "      <td>3000</td>\n",
              "      <td>0.589600</td>\n",
              "      <td>4.778398</td>\n",
              "    </tr>\n",
              "    <tr>\n",
              "      <td>4000</td>\n",
              "      <td>0.560300</td>\n",
              "      <td>4.772144</td>\n",
              "    </tr>\n",
              "    <tr>\n",
              "      <td>5000</td>\n",
              "      <td>0.528100</td>\n",
              "      <td>4.829613</td>\n",
              "    </tr>\n",
              "  </tbody>\n",
              "</table><p>"
            ]
          },
          "metadata": {}
        },
        {
          "output_type": "stream",
          "name": "stdout",
          "text": [
            "\n",
            "\n",
            "\n",
            "Training result for learning rate: 3e-05\n"
          ]
        },
        {
          "output_type": "stream",
          "name": "stderr",
          "text": [
            "/usr/local/lib/python3.9/dist-packages/transformers/optimization.py:391: FutureWarning: This implementation of AdamW is deprecated and will be removed in a future version. Use the PyTorch implementation torch.optim.AdamW instead, or set `no_deprecation_warning=True` to disable this warning\n",
            "  warnings.warn(\n"
          ]
        },
        {
          "output_type": "display_data",
          "data": {
            "text/plain": [
              "<IPython.core.display.HTML object>"
            ],
            "text/html": [
              "\n",
              "    <div>\n",
              "      \n",
              "      <progress value='5540' max='5540' style='width:300px; height:20px; vertical-align: middle;'></progress>\n",
              "      [5540/5540 10:37, Epoch 5/5]\n",
              "    </div>\n",
              "    <table border=\"1\" class=\"dataframe\">\n",
              "  <thead>\n",
              " <tr style=\"text-align: left;\">\n",
              "      <th>Step</th>\n",
              "      <th>Training Loss</th>\n",
              "      <th>Validation Loss</th>\n",
              "    </tr>\n",
              "  </thead>\n",
              "  <tbody>\n",
              "    <tr>\n",
              "      <td>1000</td>\n",
              "      <td>0.546000</td>\n",
              "      <td>4.813454</td>\n",
              "    </tr>\n",
              "    <tr>\n",
              "      <td>2000</td>\n",
              "      <td>0.545200</td>\n",
              "      <td>4.786867</td>\n",
              "    </tr>\n",
              "    <tr>\n",
              "      <td>3000</td>\n",
              "      <td>0.537200</td>\n",
              "      <td>4.869326</td>\n",
              "    </tr>\n",
              "    <tr>\n",
              "      <td>4000</td>\n",
              "      <td>0.524900</td>\n",
              "      <td>4.870878</td>\n",
              "    </tr>\n",
              "    <tr>\n",
              "      <td>5000</td>\n",
              "      <td>0.506800</td>\n",
              "      <td>4.928403</td>\n",
              "    </tr>\n",
              "  </tbody>\n",
              "</table><p>"
            ]
          },
          "metadata": {}
        },
        {
          "output_type": "stream",
          "name": "stdout",
          "text": [
            "\n",
            "\n",
            "\n",
            "Training result for learning rate: 1e-05\n"
          ]
        },
        {
          "output_type": "stream",
          "name": "stderr",
          "text": [
            "/usr/local/lib/python3.9/dist-packages/transformers/optimization.py:391: FutureWarning: This implementation of AdamW is deprecated and will be removed in a future version. Use the PyTorch implementation torch.optim.AdamW instead, or set `no_deprecation_warning=True` to disable this warning\n",
            "  warnings.warn(\n"
          ]
        },
        {
          "output_type": "display_data",
          "data": {
            "text/plain": [
              "<IPython.core.display.HTML object>"
            ],
            "text/html": [
              "\n",
              "    <div>\n",
              "      \n",
              "      <progress value='5540' max='5540' style='width:300px; height:20px; vertical-align: middle;'></progress>\n",
              "      [5540/5540 10:18, Epoch 5/5]\n",
              "    </div>\n",
              "    <table border=\"1\" class=\"dataframe\">\n",
              "  <thead>\n",
              " <tr style=\"text-align: left;\">\n",
              "      <th>Step</th>\n",
              "      <th>Training Loss</th>\n",
              "      <th>Validation Loss</th>\n",
              "    </tr>\n",
              "  </thead>\n",
              "  <tbody>\n",
              "    <tr>\n",
              "      <td>1000</td>\n",
              "      <td>0.502200</td>\n",
              "      <td>4.942055</td>\n",
              "    </tr>\n",
              "    <tr>\n",
              "      <td>2000</td>\n",
              "      <td>0.499100</td>\n",
              "      <td>4.859634</td>\n",
              "    </tr>\n",
              "    <tr>\n",
              "      <td>3000</td>\n",
              "      <td>0.499400</td>\n",
              "      <td>4.882948</td>\n",
              "    </tr>\n",
              "    <tr>\n",
              "      <td>4000</td>\n",
              "      <td>0.495000</td>\n",
              "      <td>4.956717</td>\n",
              "    </tr>\n",
              "    <tr>\n",
              "      <td>5000</td>\n",
              "      <td>0.487600</td>\n",
              "      <td>4.955092</td>\n",
              "    </tr>\n",
              "  </tbody>\n",
              "</table><p>"
            ]
          },
          "metadata": {}
        },
        {
          "output_type": "stream",
          "name": "stdout",
          "text": [
            "\n",
            "\n",
            "\n"
          ]
        }
      ]
    },
    {
      "cell_type": "markdown",
      "source": [
        "BAsed on the results above, it looks like model trained with learning rate = 5e-5 is more promising than others."
      ],
      "metadata": {
        "id": "vAbDm1Osohai"
      }
    },
    {
      "cell_type": "code",
      "source": [
        "training_args = TrainingArguments(output_dir=f'./results',\n",
        "                                      num_train_epochs=5,\n",
        "                                      logging_steps=1000,\n",
        "                                      save_steps=5000,\n",
        "                                      evaluation_strategy='steps',\n",
        "                                      eval_steps=1000,                               \n",
        "                                      per_device_train_batch_size=2,\n",
        "                                      per_device_eval_batch_size=2,\n",
        "                                      warmup_steps=100,\n",
        "                                      learning_rate=5e-5,\n",
        "                                      weight_decay=0.01,  \n",
        "                                      logging_dir=f'./logs')\n",
        "\n",
        "trainer = Trainer(model=model, args=training_args,  \n",
        "                  train_dataset=train_data,\n",
        "                  eval_dataset=val_data, \n",
        "                  # This custom collate function is necessary \n",
        "                  # to built batches of data\n",
        "                  data_collator=lambda data: {'input_ids': torch.stack([f[0] for f in data]),       \n",
        "              'attention_mask': torch.stack([f[1] for f in data]),\n",
        "              'labels': torch.stack([f[0] for f in data])})\n",
        "\n",
        "# Start training process!\n",
        "trainer.train()\n"
      ],
      "metadata": {
        "id": "Ym8Ni5ilou6L",
        "colab": {
          "base_uri": "https://localhost:8080/",
          "height": 200
        },
        "outputId": "0b7a342a-e721-40ee-d52b-277c28064462"
      },
      "execution_count": null,
      "outputs": [
        {
          "output_type": "stream",
          "name": "stderr",
          "text": [
            "/usr/local/lib/python3.9/dist-packages/transformers/optimization.py:391: FutureWarning: This implementation of AdamW is deprecated and will be removed in a future version. Use the PyTorch implementation torch.optim.AdamW instead, or set `no_deprecation_warning=True` to disable this warning\n",
            "  warnings.warn(\n"
          ]
        },
        {
          "output_type": "display_data",
          "data": {
            "text/plain": [
              "<IPython.core.display.HTML object>"
            ],
            "text/html": [
              "\n",
              "    <div>\n",
              "      \n",
              "      <progress value='655' max='655' style='width:300px; height:20px; vertical-align: middle;'></progress>\n",
              "      [655/655 02:40, Epoch 5/5]\n",
              "    </div>\n",
              "    <table border=\"1\" class=\"dataframe\">\n",
              "  <thead>\n",
              " <tr style=\"text-align: left;\">\n",
              "      <th>Step</th>\n",
              "      <th>Training Loss</th>\n",
              "      <th>Validation Loss</th>\n",
              "    </tr>\n",
              "  </thead>\n",
              "  <tbody>\n",
              "  </tbody>\n",
              "</table><p>"
            ]
          },
          "metadata": {}
        },
        {
          "output_type": "execute_result",
          "data": {
            "text/plain": [
              "TrainOutput(global_step=655, training_loss=1.0412405698354008, metrics={'train_runtime': 163.5666, 'train_samples_per_second': 8.009, 'train_steps_per_second': 4.004, 'total_flos': 234581319198720.0, 'train_loss': 1.0412405698354008, 'epoch': 5.0})"
            ]
          },
          "metadata": {},
          "execution_count": 47
        }
      ]
    },
    {
      "cell_type": "code",
      "source": [
        "# Save model in the specified file path\n",
        "trainer.save_model(\"drive/MyDrive/AICamp/nlp/\")"
      ],
      "metadata": {
        "id": "t9emExFBzf8n"
      },
      "execution_count": null,
      "outputs": []
    },
    {
      "cell_type": "code",
      "source": [
        "tokenizer.save_pretrained(\"drive/MyDrive/AICamp/nlp/\")"
      ],
      "metadata": {
        "colab": {
          "base_uri": "https://localhost:8080/"
        },
        "id": "vsyAFv1az_sq",
        "outputId": "8787d0d3-b882-49dd-c4b3-9dd64528058b"
      },
      "execution_count": null,
      "outputs": [
        {
          "output_type": "execute_result",
          "data": {
            "text/plain": [
              "('drive/MyDrive/AICamp/nlp/tokenizer_config.json',\n",
              " 'drive/MyDrive/AICamp/nlp/special_tokens_map.json',\n",
              " 'drive/MyDrive/AICamp/nlp/vocab.json',\n",
              " 'drive/MyDrive/AICamp/nlp/merges.txt',\n",
              " 'drive/MyDrive/AICamp/nlp/added_tokens.json')"
            ]
          },
          "metadata": {},
          "execution_count": 49
        }
      ]
    },
    {
      "cell_type": "markdown",
      "source": [
        "## Checking Model Output"
      ],
      "metadata": {
        "id": "1gHIDQpWo_uU"
      }
    },
    {
      "cell_type": "code",
      "source": [
        "generated = tokenizer(\"<|startoftext|>\", return_tensors=\"pt\").input_ids.cuda()\n",
        "sample_outputs = model.generate(generated, do_sample=True, top_k=50,\n",
        "                                # bos_token='<|startoftext|>',\n",
        "                                # eos_token='<|endoftext|>', pad_token='<|pad|>',\n",
        "                                max_length=300, top_p=0.95, temperature=1.9, num_return_sequences=20)\n",
        "for i, sample_output in enumerate(sample_outputs):\n",
        "    print(\"{}: {}\".format(i, tokenizer.decode(sample_output, skip_special_tokens=True)))\n"
      ],
      "metadata": {
        "colab": {
          "base_uri": "https://localhost:8080/"
        },
        "id": "xl9xISOxo-2A",
        "outputId": "c5c87e67-f0d6-4814-edcb-b8bb8dc33411"
      },
      "execution_count": null,
      "outputs": [
        {
          "output_type": "stream",
          "name": "stderr",
          "text": [
            "The attention mask and the pad token id were not set. As a consequence, you may observe unexpected behavior. Please pass your input's `attention_mask` to obtain reliable results.\n",
            "Setting `pad_token_id` to `eos_token_id`:50256 for open-end generation.\n"
          ]
        },
        {
          "output_type": "stream",
          "name": "stdout",
          "text": [
            "0: \n",
            "1: \n",
            "2: Where should that evil cease, or those things would return to their owners'?\n",
            "To prove their good grace (That thou must find worthy still remains unhearest, thou must seek this end, and that this which thine (Nor if this be so thy worst must be my joy)?\n",
            "Let me return not once nor hold still an unseeing eye\n",
            "A pity where's this coming help bestow thee?\n",
            "Then thine eye be thy back-ticks where it most hinds theego\n",
            "Where reason guides both minds whence thou wost and me to seek!?\n",
            "\n",
            "\n",
            "3: In the earth it holds but gentleclips and jewels,\n",
            "Lest things that belong alone, should themselves boast,\n",
            "The precious parts so grounded to nature'er line,   \n",
            "Without having checked this abundance themselves bear,   \n",
            "SIXth many miles in motion from the desert place.   \n",
            "Nor are stars in all kinds of stars less grounded,\n",
            "They dwell on me by giving account to my skill:\n",
            "And though some are not more great or more than others,\n",
            "More even or even all their compass height than others.\n",
            "All this hath in the world nothing else for compare,\n",
            "So we both are like our most constant friend now,\n",
            "For to our best age no age shall see our happy days.\n",
            "\n",
            "4:  \n",
            "waste his brain time so which he will think his mind must be, \n",
            "Though this too must waste his time upon this crime or world.\n",
            "His tongue says thee art as a swirled and ungrewed canail,\n",
            "So if that false\n",
            "5: \n",
            "6: Those wills that she knows, were born\n",
            "These gentle fingerspring strong,\n",
            "Against her lips so as she laid out:\n",
            "Him she loves quite as the sun doth sunset;\n",
            "Loving it is love that shines upon any,\n",
            "Which on her mightier is converted into blazon, or string as many as she wills against whom her loving will will depart, so doing them though he was far gone.\n",
            "When she thought of that dearest of weeks dost men do decay:\n",
            "Her love for that second new sun they have:\n",
            "This constant mowing doth daily commence:\n",
            "But that same winter in this earth she sees now;\n",
            "That time having so short tenure, the day which follows her grows dreiest after her birth: so that even when in spring time leaves her, then time is near then\n",
            "Which leaves do return, from death which makes time grow old to stay this perpetual absence which doth linger it from\n",
            "7: When thou have myt, I dost give thee\n",
            "These that may live: for they may stay from my woe alone\n",
            "When thou in ambush, or concealed cunning doth lie,\n",
            "While dart in thrace, or\n",
            "8: Unkind that could but gaze outward where she wist: where beauty should but tread, see ill, have not her ]) ());\n",
            "9: A better heart may love more that which she needs she had not seen, when those words which yet are fresh, were true they were not words of truth but those of which I now in one hand and all that is better fitted translated themselves, 'Love more loving'. It was thus that sweetheart so dear loved in this heavenly place sweet as the buds they had boughing rose above him like buds, so like those which form the buds of sweethearts of other hearts, so\n",
            "10: Since then love must depend solely upon self-love, whereupon no hand doth strong possess the controlling power\n",
            "To make of lovers love grow not from an appetite in\n",
            "Orthodox flesh, but from something greater becoming.\n",
            "O no, for it cannot have that growth to increase,\n",
            "Without being strengthened yet not strengthened from something more by it grew; and seeing no power in other than the\n",
            "inf part of self, so heaped now before him up the earth,\n",
            "Then no body but him and him self-armed was ever stronger\n",
            "Tha earth in number and in abundance of life, than he now bears up me and my body beside you.\n",
            "Therefore he that live in your wealth of thine own loves in to thee more do prove virtuous then for toiled you.\n",
            "  \n",
            "Be thou, now more did pleasure grow in it, which for pleasure hath grown older, so when should thou gird thy mind up what old thou wilt now think of having no mind then? then you might conceivably grow old faster,\n",
            "Now be young old to keep old in place more,\n",
            "Yet in such case as you you may keep men longer since you hold them in thy fingers lest they old grow up out of thine or let you put an injury\n",
            "11: \n",
            "12: O let be of )]++++++++nsicasury divertedpeatownt\n",
            "13: \n",
            "14: Unswearing your mind the night your little boat took shape as some mad thing with which to live seemed strange to you but I know how hard you were willing my guess to get, for I am most ])astery\n",
            "15: When he saw her wondrous beaut,But she as the lamb's head\n",
            "From hell is sweetmeat, where it was cut:The flesh is vile,\n",
            "And beauty hath pleasure in him,Where for want best thou use:  \n",
            "O what an ungodly praise canst thou excuse\n",
            "As beauty's excuse when thou thyself amaplusst it,\n",
            "Thy ungoold',Unupping'end from too dearly shall say.\n",
            "And so her beauty, therefore dost thou abuse,\n",
            "Are not to love beauty so vile where she leads,  \n",
            "Nor besiege to keep what it may lead thee to fear,\n",
            "Sweet that when you have given birth to strong wills to abuse'.\n",
            "- The Last Line (Hoss 526)astery pen\n",
            "\n",
            "16: But you are kind still when thou art alone and nothing grows\n",
            "That still shall cover wane and substance for\n",
            "This world's unkind nature laid waste, whose paws are the rest dutless!\n",
            "Yet was thou slain for wanting thy self-love all thy wending,\n",
            "These three old mounds which thy servant-like bark and fawn\n",
            "The proud owners of thy bark and their fawn would bear,\n",
            "Not once lest their master should pare away an unused rage\n",
            "(Since appetite is but a means of spoiling appetite)  \n",
            "Nor when thine ownt most gracious\n",
            "17: My mistress gives a meagre hand some heed before he\n",
            "When days still seem past their leisure day's faring the way in grief to those whose limbs are used by other morn till full asleep from their daily pain'. So thou be the first to repent if I trespass against thy laws 'gainst thou then an adjunct of the womb that dost swear this privilege away?\n",
            "\n",
            "18: Unendbreakers with Time, the very light that lives after these oaths  \n",
            "Upon those which seem to give the world such delight.\n",
            "Thine eyes shall say Thy name anew if such thy deserts,\n",
            "Compare his glory with thy grief, to show how rich:\n",
            "For each bears injury only as unthrifty clay,\n",
            "The outward show doth best define what is ill,  \n",
            "Then the truth they all impart in abundance;\n",
            "Or what dost they suppose themselves for war;\n",
            "Even a well-conceived fleet without might:  \n",
            "But by no means well when I write it out!  \n",
            "These thoughts have grown a better bound than any.\n",
            "As every in him is given over, not to love or boast,\n",
            "My memory is strengthened with them still.  \n",
            "These thoughts seem happy in thy outward show,\n",
            "Which doth preserve for him in thee, what thou mayst be.\n",
            "And not for themselves in mine in thee I go:  \n",
            "For wherefore should such thoughts live?\n",
            "Since when my state now is what this toth'st lie alone,\n",
            "And thy spirit not left an unbidden,\n",
            "But must not go forth where they will? for mine must bow.\n",
            "\n",
            "\n",
            "19: \n"
          ]
        }
      ]
    },
    {
      "cell_type": "code",
      "source": [
        "! transformers-cli env"
      ],
      "metadata": {
        "colab": {
          "base_uri": "https://localhost:8080/"
        },
        "id": "rSq0sIaT08Eb",
        "outputId": "8eb89110-7629-4c92-df33-b8d6a4062404"
      },
      "execution_count": null,
      "outputs": [
        {
          "output_type": "stream",
          "name": "stdout",
          "text": [
            "2023-03-24 22:53:44.974369: W tensorflow/compiler/xla/stream_executor/platform/default/dso_loader.cc:64] Could not load dynamic library 'libnvinfer.so.7'; dlerror: libnvinfer.so.7: cannot open shared object file: No such file or directory; LD_LIBRARY_PATH: /usr/lib64-nvidia\n",
            "2023-03-24 22:53:44.974575: W tensorflow/compiler/xla/stream_executor/platform/default/dso_loader.cc:64] Could not load dynamic library 'libnvinfer_plugin.so.7'; dlerror: libnvinfer_plugin.so.7: cannot open shared object file: No such file or directory; LD_LIBRARY_PATH: /usr/lib64-nvidia\n",
            "2023-03-24 22:53:44.974603: W tensorflow/compiler/tf2tensorrt/utils/py_utils.cc:38] TF-TRT Warning: Cannot dlopen some TensorRT libraries. If you would like to use Nvidia GPU with TensorRT, please make sure the missing libraries mentioned above are installed properly.\n",
            "WARNING:tensorflow:From /usr/local/lib/python3.9/dist-packages/transformers/commands/env.py:52: is_gpu_available (from tensorflow.python.framework.test_util) is deprecated and will be removed in a future version.\n",
            "Instructions for updating:\n",
            "Use `tf.config.list_physical_devices('GPU')` instead.\n",
            "2023-03-24 22:53:55.043416: W tensorflow/core/common_runtime/gpu/gpu_bfc_allocator.cc:42] Overriding orig_value setting because the TF_FORCE_GPU_ALLOW_GROWTH environment variable is set. Original config value was 0.\n",
            "/usr/local/lib/python3.9/dist-packages/flax/core/frozen_dict.py:169: FutureWarning: jax.tree_util.register_keypaths is deprecated, and will be removed in a future release. Please use `register_pytree_with_keys()` instead.\n",
            "  jax.tree_util.register_keypaths(\n",
            "\n",
            "Copy-and-paste the text below in your GitHub issue and FILL OUT the two last points.\n",
            "\n",
            "- `transformers` version: 4.27.3\n",
            "- Platform: Linux-5.10.147+-x86_64-with-glibc2.31\n",
            "- Python version: 3.9.16\n",
            "- Huggingface_hub version: 0.13.3\n",
            "- PyTorch version (GPU?): 1.7.1 (True)\n",
            "- Tensorflow version (GPU?): 2.11.0 (True)\n",
            "- Flax version (CPU?/GPU?/TPU?): 0.6.7 (gpu)\n",
            "- Jax version: 0.4.6\n",
            "- JaxLib version: 0.4.6\n",
            "- Using GPU in script?: <fill in>\n",
            "- Using distributed or parallel set-up in script?: <fill in>\n",
            "\n"
          ]
        }
      ]
    },
    {
      "cell_type": "markdown",
      "source": [
        "## Upload model to huggingface"
      ],
      "metadata": {
        "id": "DwSbqbWmME5l"
      }
    },
    {
      "cell_type": "code",
      "source": [
        "from huggingface_hub import notebook_login\n",
        "\n",
        "notebook_login()"
      ],
      "metadata": {
        "id": "Nb5NjZnuMIYu",
        "colab": {
          "base_uri": "https://localhost:8080/",
          "height": 415,
          "referenced_widgets": [
            "05dbc94a363747848490c56e52e5a8e5",
            "5c3de6705a5c479d9454693dc8ca24ab",
            "a5000c87257248ae8442da3b13877189",
            "6f9f7112a76e4dd8ae36314b0e4f0238",
            "dde25817a6b74cd286c6909c5cb25b9f",
            "0af526549fa14be0927f09594b2a4eba",
            "df435558393a484a9ab2fed0e5eafd79",
            "0cedcd2b408b419085326ce6507b3cd2",
            "ee2b25ac02e84186a5d9ac737f07a34d",
            "52c2debbf6cc41a8ab30ee5927e4d9b7",
            "1d162d0f846f48fd95b3d3522911ace3",
            "9d59c0d5300d4c3eb9bf4324092c92fd",
            "d00ea00093d244688a32d4e1dccbac18",
            "74576d5501e341cebc40967754ff786e",
            "bd71f548670446c288a1e8b55ec6ec84",
            "55823e8ca7724321bb6faf4f5487c11d",
            "a190d024912140eab45e1192dedcb30c"
          ]
        },
        "outputId": "c1d76697-adc1-430d-e542-bff6bc1640ab"
      },
      "execution_count": null,
      "outputs": [
        {
          "output_type": "stream",
          "name": "stdout",
          "text": [
            "Token is valid.\n",
            "Your token has been saved in your configured git credential helpers (store).\n",
            "Your token has been saved to /root/.cache/huggingface/token\n",
            "Login successful\n"
          ]
        }
      ]
    },
    {
      "cell_type": "code",
      "source": [
        "from huggingface_hub import HfApi\n",
        "\n",
        "api = HfApi()"
      ],
      "metadata": {
        "id": "pzOXqg0LpbaI"
      },
      "execution_count": null,
      "outputs": []
    },
    {
      "cell_type": "code",
      "source": [
        "# Create your repo first to upload the model\n",
        "api.create_repo(repo_id=\"gpt2-sonnet-generators\")"
      ],
      "metadata": {
        "id": "FTajb3uFpeuC",
        "colab": {
          "base_uri": "https://localhost:8080/",
          "height": 69
        },
        "outputId": "3a2d56a1-e6e1-4c60-89aa-487b144ba359"
      },
      "execution_count": null,
      "outputs": [
        {
          "output_type": "execute_result",
          "data": {
            "text/plain": [
              "RepoUrl('https://huggingface.co/niki-stha/gpt2-sonnet-generators', endpoint='https://huggingface.co', repo_type='model', repo_id='niki-stha/gpt2-sonnet-generators')"
            ],
            "application/vnd.google.colaboratory.intrinsic+json": {
              "type": "string"
            }
          },
          "metadata": {},
          "execution_count": 53
        }
      ]
    },
    {
      "cell_type": "code",
      "source": [
        "# Upload your model to huggingface. You can clone the repo anytime to use the model.\n",
        "import os\n",
        "\n",
        "model_pth = \"drive/MyDrive/AICamp/nlp/models\"\n",
        "\n",
        "files = os.listdir(model_pth)\n",
        "for fi in files:\n",
        "    print(os.path.join(model_pth, fi))\n",
        "\n",
        "    api.upload_file(\n",
        "        path_or_fileobj=os.path.join(model_pth, fi),\n",
        "        path_in_repo=fi,\n",
        "        repo_id=\"niki-stha/gpt2-sonnet-generators\",\n",
        "        repo_type=\"model\",\n",
        "    )"
      ],
      "metadata": {
        "id": "Bk0RPeLMphCy",
        "colab": {
          "base_uri": "https://localhost:8080/",
          "height": 301,
          "referenced_widgets": [
            "718d8ec228574702bc54d580e42fe17e",
            "ad671f4b9fcd416fa65b3e116640de9b",
            "376593835fbc4c0f9caf45411518b96c",
            "3a72233bb3484d9ca366e6f6f98218d0",
            "ac4feb303878485598aa67ab164ce1e8",
            "ed6aa5ee5a4d4920a1b93923a367da63",
            "d4f96a880f584cc7888d8e05c8d62c4c",
            "cf8185692bd14f2a8a6da5a4ba9647c2",
            "574576886f604215bbc10a7d48e50da1",
            "f445f0bfbf09429ca2c6c9fcb11bdd6e",
            "e62eb07dab3148daa55c4fce54e95c47",
            "405a2435fe224c0dbd595fabadb68f32",
            "65c24bb5cbe54ea39195f34e8201caff",
            "b2a4e0e40ae64cd8b179acdd68d23c93",
            "c5363f4f303549d7ae3b3d9dc2b21e88",
            "40ed61479cfe41fe9c65ef3ae7585a11",
            "69b91abd0bff451d977146d22062609f",
            "ff68975ba92a4e0eaed848bfb784c75d",
            "c10b9d0073c148dd80e71b9266a4c49d",
            "56db06e03ac6495db4b220693cd13a37",
            "e094d08ae0804c49b064a985498922f6",
            "1e1f59395dbb44cb955ff7bbd2c170d9",
            "a8921e1fe83744fb80ce631bf544a055",
            "42a3eec1cdd84f21807285b9d8c72924",
            "2a54ac254df24526bbd90604600ead0a",
            "7860e235c9494f0287b0c023051f571a",
            "12cabf3ff7bb4c888764778c34868067",
            "0d4eaf80f4ad4d69995f543cb7466cea",
            "a51112555e944731aec4ab482991dd98",
            "6037a24998874f1b898530d2f22d7cb2",
            "9f9ef29a6e64428ca89f60a8600001c6",
            "63baa4fb490f4405ada381c637958b3c",
            "f1c80435f97c4fad84552f7ef9b8cfb8",
            "3995230fdfa541ae9da39f9454e84319",
            "748ffb139b864606a145f10a827654c4",
            "858d7a9660144818aaede07228b7aeb6",
            "0a100fea5e7d42a1b004b7a706223bf0",
            "ff83611c3ed649209bc791a44ddaa666",
            "72f54dff85364411a8002a6551744633",
            "c1a4ae23d1994d1fbb06dfbe12f15871",
            "2414d9dcf4524bc4b81480e35bb0a907",
            "75be88f740d94622b1598fe1e7739ae9",
            "63d0119b0f6847739263befedf6304f0",
            "a692b583bb244015b0fb2e131ea2eb49"
          ]
        },
        "outputId": "2288c169-71c3-4145-e601-a50ebc4de98e"
      },
      "execution_count": null,
      "outputs": [
        {
          "output_type": "stream",
          "name": "stdout",
          "text": [
            "drive/MyDrive/AICamp/nlp/models/config.json\n",
            "drive/MyDrive/AICamp/nlp/models/generation_config.json\n",
            "drive/MyDrive/AICamp/nlp/models/pytorch_model.bin\n"
          ]
        },
        {
          "output_type": "display_data",
          "data": {
            "text/plain": [
              "Upload 1 LFS files:   0%|          | 0/1 [00:00<?, ?it/s]"
            ],
            "application/vnd.jupyter.widget-view+json": {
              "version_major": 2,
              "version_minor": 0,
              "model_id": "718d8ec228574702bc54d580e42fe17e"
            }
          },
          "metadata": {}
        },
        {
          "output_type": "display_data",
          "data": {
            "text/plain": [
              "pytorch_model.bin:   0%|          | 0.00/551M [00:00<?, ?B/s]"
            ],
            "application/vnd.jupyter.widget-view+json": {
              "version_major": 2,
              "version_minor": 0,
              "model_id": "405a2435fe224c0dbd595fabadb68f32"
            }
          },
          "metadata": {}
        },
        {
          "output_type": "stream",
          "name": "stdout",
          "text": [
            "drive/MyDrive/AICamp/nlp/models/training_args.bin\n"
          ]
        },
        {
          "output_type": "display_data",
          "data": {
            "text/plain": [
              "Upload 1 LFS files:   0%|          | 0/1 [00:00<?, ?it/s]"
            ],
            "application/vnd.jupyter.widget-view+json": {
              "version_major": 2,
              "version_minor": 0,
              "model_id": "a8921e1fe83744fb80ce631bf544a055"
            }
          },
          "metadata": {}
        },
        {
          "output_type": "display_data",
          "data": {
            "text/plain": [
              "training_args.bin:   0%|          | 0.00/3.52k [00:00<?, ?B/s]"
            ],
            "application/vnd.jupyter.widget-view+json": {
              "version_major": 2,
              "version_minor": 0,
              "model_id": "3995230fdfa541ae9da39f9454e84319"
            }
          },
          "metadata": {}
        },
        {
          "output_type": "stream",
          "name": "stdout",
          "text": [
            "drive/MyDrive/AICamp/nlp/models/tokenizer_config.json\n",
            "drive/MyDrive/AICamp/nlp/models/special_tokens_map.json\n",
            "drive/MyDrive/AICamp/nlp/models/added_tokens.json\n",
            "drive/MyDrive/AICamp/nlp/models/vocab.json\n",
            "drive/MyDrive/AICamp/nlp/models/merges.txt\n"
          ]
        }
      ]
    }
  ]
}