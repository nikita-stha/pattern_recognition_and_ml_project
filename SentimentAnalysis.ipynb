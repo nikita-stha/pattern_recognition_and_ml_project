{
  "cells": [
    {
      "cell_type": "markdown",
      "metadata": {
        "id": "7zxwF-XewfA7"
      },
      "source": [
        "# Problem Statement\n",
        "Sentiment Analysis using text is the field of research in Natural Language Processing (NLP) that helps to identify the sentiments of the human being such as positive, negative, or neutral. It is basically a multi-class classification problem using text."
      ]
    },
    {
      "cell_type": "markdown",
      "metadata": {
        "id": "4VMfKWmxxbXN"
      },
      "source": [
        "# Dataset\n",
        "For this project, we are using a dataset called **MELD**. This dataset consists of contains a total of 7551 training samples, 984 testing samples, 954 validation samples with labeled utterances from 2000 dialogues. Each utterance in dialogues is labeled with one of two sentiments, plus the neutral sentiment. Each labeling was accomplished by 5 workers, and for each utterance in a label, the sentiment category with the highest votes was set as the label of the utterance. Those utterances voted as more than two different sentiments were put into the non-neutral category. Therefore the dataset has a total of 3 types of sentiments ( positive, negative, or neutral )."
      ]
    },
    {
      "cell_type": "markdown",
      "metadata": {
        "id": "YWNaMmzQ1iMB"
      },
      "source": [
        "# Implementations"
      ]
    },
    {
      "cell_type": "code",
      "execution_count": null,
      "metadata": {
        "id": "84beKF9qxUyZ"
      },
      "outputs": [],
      "source": [
        "# Importing useful libraries\n",
        "import numpy as np\n",
        "import pandas as pd\n",
        "import seaborn as sns\n",
        "import matplotlib.pyplot as plt"
      ]
    },
    {
      "cell_type": "code",
      "execution_count": null,
      "metadata": {
        "id": "kOoSK_abwa44",
        "colab": {
          "base_uri": "https://localhost:8080/"
        },
        "outputId": "a3548a95-95fe-4cb3-9529-37fa773c475a"
      },
      "outputs": [
        {
          "output_type": "stream",
          "name": "stdout",
          "text": [
            "Mounted at /content/drive\n"
          ]
        }
      ],
      "source": [
        "# Mount your colab to google drive\n",
        "from google.colab import drive\n",
        "drive.mount('/content/drive')"
      ]
    },
    {
      "cell_type": "code",
      "execution_count": null,
      "metadata": {
        "colab": {
          "base_uri": "https://localhost:8080/"
        },
        "id": "gpkV68r33BUF",
        "outputId": "b7791853-c98e-4f64-ea25-8df160c67c5c"
      },
      "outputs": [
        {
          "output_type": "stream",
          "name": "stdout",
          "text": [
            "/content/drive/MyDrive\n"
          ]
        }
      ],
      "source": [
        "# Change to working directory to Mydrive\n",
        "%cd /content/drive/MyDrive/"
      ]
    },
    {
      "cell_type": "code",
      "execution_count": null,
      "metadata": {
        "id": "1w5LXMcS3J9w"
      },
      "outputs": [],
      "source": [
        "# Load dataset\n",
        "df1 = pd.read_csv(\"PatternRecognition/train_sent_emo.csv\")\n",
        "df2 = pd.read_csv(\"PatternRecognition/dev_sent_emo.csv\")\n",
        "df3 = pd.read_csv(\"PatternRecognition/test_sent_emo.csv\")\n",
        "\n",
        "# Concanenate all three dataframes df1, df2, and df2\n",
        "df = pd.concat([df1, df2, df3])"
      ]
    },
    {
      "cell_type": "markdown",
      "metadata": {
        "id": "d-Ita6t14B0E"
      },
      "source": [
        "## Exploratory Data Analysis (EDA)"
      ]
    },
    {
      "cell_type": "code",
      "execution_count": null,
      "metadata": {
        "colab": {
          "base_uri": "https://localhost:8080/",
          "height": 320
        },
        "id": "raSRufyr32se",
        "outputId": "f273c495-5c01-4521-a077-2c6daa2dcad2"
      },
      "outputs": [
        {
          "output_type": "execute_result",
          "data": {
            "text/plain": [
              "   Sr No.                                          Utterance          Speaker  \\\n",
              "0       1  also I was the point person on my company’s tr...         Chandler   \n",
              "1       2                   You must’ve had your hands full.  The Interviewer   \n",
              "2       3                            That I did. That I did.         Chandler   \n",
              "3       4      So let’s talk a little bit about your duties.  The Interviewer   \n",
              "4       5                             My duties?  All right.         Chandler   \n",
              "\n",
              "    Emotion Sentiment  Dialogue_ID  Utterance_ID  Season  Episode  \\\n",
              "0   neutral   neutral            0             0       8       21   \n",
              "1   neutral   neutral            0             1       8       21   \n",
              "2   neutral   neutral            0             2       8       21   \n",
              "3   neutral   neutral            0             3       8       21   \n",
              "4  surprise  positive            0             4       8       21   \n",
              "\n",
              "      StartTime       EndTime  \n",
              "0  00:16:16,059  00:16:21,731  \n",
              "1  00:16:21,940  00:16:23,442  \n",
              "2  00:16:23,442  00:16:26,389  \n",
              "3  00:16:26,820  00:16:29,572  \n",
              "4  00:16:34,452  00:16:40,917  "
            ],
            "text/html": [
              "\n",
              "  <div id=\"df-9bdcdc8f-4d17-4ed6-b24c-39b85df89613\">\n",
              "    <div class=\"colab-df-container\">\n",
              "      <div>\n",
              "<style scoped>\n",
              "    .dataframe tbody tr th:only-of-type {\n",
              "        vertical-align: middle;\n",
              "    }\n",
              "\n",
              "    .dataframe tbody tr th {\n",
              "        vertical-align: top;\n",
              "    }\n",
              "\n",
              "    .dataframe thead th {\n",
              "        text-align: right;\n",
              "    }\n",
              "</style>\n",
              "<table border=\"1\" class=\"dataframe\">\n",
              "  <thead>\n",
              "    <tr style=\"text-align: right;\">\n",
              "      <th></th>\n",
              "      <th>Sr No.</th>\n",
              "      <th>Utterance</th>\n",
              "      <th>Speaker</th>\n",
              "      <th>Emotion</th>\n",
              "      <th>Sentiment</th>\n",
              "      <th>Dialogue_ID</th>\n",
              "      <th>Utterance_ID</th>\n",
              "      <th>Season</th>\n",
              "      <th>Episode</th>\n",
              "      <th>StartTime</th>\n",
              "      <th>EndTime</th>\n",
              "    </tr>\n",
              "  </thead>\n",
              "  <tbody>\n",
              "    <tr>\n",
              "      <th>0</th>\n",
              "      <td>1</td>\n",
              "      <td>also I was the point person on my company’s tr...</td>\n",
              "      <td>Chandler</td>\n",
              "      <td>neutral</td>\n",
              "      <td>neutral</td>\n",
              "      <td>0</td>\n",
              "      <td>0</td>\n",
              "      <td>8</td>\n",
              "      <td>21</td>\n",
              "      <td>00:16:16,059</td>\n",
              "      <td>00:16:21,731</td>\n",
              "    </tr>\n",
              "    <tr>\n",
              "      <th>1</th>\n",
              "      <td>2</td>\n",
              "      <td>You must’ve had your hands full.</td>\n",
              "      <td>The Interviewer</td>\n",
              "      <td>neutral</td>\n",
              "      <td>neutral</td>\n",
              "      <td>0</td>\n",
              "      <td>1</td>\n",
              "      <td>8</td>\n",
              "      <td>21</td>\n",
              "      <td>00:16:21,940</td>\n",
              "      <td>00:16:23,442</td>\n",
              "    </tr>\n",
              "    <tr>\n",
              "      <th>2</th>\n",
              "      <td>3</td>\n",
              "      <td>That I did. That I did.</td>\n",
              "      <td>Chandler</td>\n",
              "      <td>neutral</td>\n",
              "      <td>neutral</td>\n",
              "      <td>0</td>\n",
              "      <td>2</td>\n",
              "      <td>8</td>\n",
              "      <td>21</td>\n",
              "      <td>00:16:23,442</td>\n",
              "      <td>00:16:26,389</td>\n",
              "    </tr>\n",
              "    <tr>\n",
              "      <th>3</th>\n",
              "      <td>4</td>\n",
              "      <td>So let’s talk a little bit about your duties.</td>\n",
              "      <td>The Interviewer</td>\n",
              "      <td>neutral</td>\n",
              "      <td>neutral</td>\n",
              "      <td>0</td>\n",
              "      <td>3</td>\n",
              "      <td>8</td>\n",
              "      <td>21</td>\n",
              "      <td>00:16:26,820</td>\n",
              "      <td>00:16:29,572</td>\n",
              "    </tr>\n",
              "    <tr>\n",
              "      <th>4</th>\n",
              "      <td>5</td>\n",
              "      <td>My duties?  All right.</td>\n",
              "      <td>Chandler</td>\n",
              "      <td>surprise</td>\n",
              "      <td>positive</td>\n",
              "      <td>0</td>\n",
              "      <td>4</td>\n",
              "      <td>8</td>\n",
              "      <td>21</td>\n",
              "      <td>00:16:34,452</td>\n",
              "      <td>00:16:40,917</td>\n",
              "    </tr>\n",
              "  </tbody>\n",
              "</table>\n",
              "</div>\n",
              "      <button class=\"colab-df-convert\" onclick=\"convertToInteractive('df-9bdcdc8f-4d17-4ed6-b24c-39b85df89613')\"\n",
              "              title=\"Convert this dataframe to an interactive table.\"\n",
              "              style=\"display:none;\">\n",
              "        \n",
              "  <svg xmlns=\"http://www.w3.org/2000/svg\" height=\"24px\"viewBox=\"0 0 24 24\"\n",
              "       width=\"24px\">\n",
              "    <path d=\"M0 0h24v24H0V0z\" fill=\"none\"/>\n",
              "    <path d=\"M18.56 5.44l.94 2.06.94-2.06 2.06-.94-2.06-.94-.94-2.06-.94 2.06-2.06.94zm-11 1L8.5 8.5l.94-2.06 2.06-.94-2.06-.94L8.5 2.5l-.94 2.06-2.06.94zm10 10l.94 2.06.94-2.06 2.06-.94-2.06-.94-.94-2.06-.94 2.06-2.06.94z\"/><path d=\"M17.41 7.96l-1.37-1.37c-.4-.4-.92-.59-1.43-.59-.52 0-1.04.2-1.43.59L10.3 9.45l-7.72 7.72c-.78.78-.78 2.05 0 2.83L4 21.41c.39.39.9.59 1.41.59.51 0 1.02-.2 1.41-.59l7.78-7.78 2.81-2.81c.8-.78.8-2.07 0-2.86zM5.41 20L4 18.59l7.72-7.72 1.47 1.35L5.41 20z\"/>\n",
              "  </svg>\n",
              "      </button>\n",
              "      \n",
              "  <style>\n",
              "    .colab-df-container {\n",
              "      display:flex;\n",
              "      flex-wrap:wrap;\n",
              "      gap: 12px;\n",
              "    }\n",
              "\n",
              "    .colab-df-convert {\n",
              "      background-color: #E8F0FE;\n",
              "      border: none;\n",
              "      border-radius: 50%;\n",
              "      cursor: pointer;\n",
              "      display: none;\n",
              "      fill: #1967D2;\n",
              "      height: 32px;\n",
              "      padding: 0 0 0 0;\n",
              "      width: 32px;\n",
              "    }\n",
              "\n",
              "    .colab-df-convert:hover {\n",
              "      background-color: #E2EBFA;\n",
              "      box-shadow: 0px 1px 2px rgba(60, 64, 67, 0.3), 0px 1px 3px 1px rgba(60, 64, 67, 0.15);\n",
              "      fill: #174EA6;\n",
              "    }\n",
              "\n",
              "    [theme=dark] .colab-df-convert {\n",
              "      background-color: #3B4455;\n",
              "      fill: #D2E3FC;\n",
              "    }\n",
              "\n",
              "    [theme=dark] .colab-df-convert:hover {\n",
              "      background-color: #434B5C;\n",
              "      box-shadow: 0px 1px 3px 1px rgba(0, 0, 0, 0.15);\n",
              "      filter: drop-shadow(0px 1px 2px rgba(0, 0, 0, 0.3));\n",
              "      fill: #FFFFFF;\n",
              "    }\n",
              "  </style>\n",
              "\n",
              "      <script>\n",
              "        const buttonEl =\n",
              "          document.querySelector('#df-9bdcdc8f-4d17-4ed6-b24c-39b85df89613 button.colab-df-convert');\n",
              "        buttonEl.style.display =\n",
              "          google.colab.kernel.accessAllowed ? 'block' : 'none';\n",
              "\n",
              "        async function convertToInteractive(key) {\n",
              "          const element = document.querySelector('#df-9bdcdc8f-4d17-4ed6-b24c-39b85df89613');\n",
              "          const dataTable =\n",
              "            await google.colab.kernel.invokeFunction('convertToInteractive',\n",
              "                                                     [key], {});\n",
              "          if (!dataTable) return;\n",
              "\n",
              "          const docLinkHtml = 'Like what you see? Visit the ' +\n",
              "            '<a target=\"_blank\" href=https://colab.research.google.com/notebooks/data_table.ipynb>data table notebook</a>'\n",
              "            + ' to learn more about interactive tables.';\n",
              "          element.innerHTML = '';\n",
              "          dataTable['output_type'] = 'display_data';\n",
              "          await google.colab.output.renderOutput(dataTable, element);\n",
              "          const docLink = document.createElement('div');\n",
              "          docLink.innerHTML = docLinkHtml;\n",
              "          element.appendChild(docLink);\n",
              "        }\n",
              "      </script>\n",
              "    </div>\n",
              "  </div>\n",
              "  "
            ]
          },
          "metadata": {},
          "execution_count": 7
        }
      ],
      "source": [
        "# Read first five records in the dataframe\n",
        "df.head()"
      ]
    },
    {
      "cell_type": "markdown",
      "metadata": {
        "id": "3o0U_ZTr4QFk"
      },
      "source": [
        "### Overview of Dataset\n",
        "Altogether there are nine different columns in the dataset. They are Utterance, Speaker, Emotion, Sentiment, Scene_ID, Utterance_ID, Season, Episode, Start_Time, and End_Time."
      ]
    },
    {
      "cell_type": "code",
      "execution_count": null,
      "metadata": {
        "colab": {
          "base_uri": "https://localhost:8080/"
        },
        "id": "dTsBiMsC4xR4",
        "outputId": "113b5cb8-6795-40b9-cb15-0362ded3300e"
      },
      "outputs": [
        {
          "output_type": "execute_result",
          "data": {
            "text/plain": [
              "(13708, 11)"
            ]
          },
          "metadata": {},
          "execution_count": 6
        }
      ],
      "source": [
        "# Lets check the total number of rows and column in the dataframe\n",
        "df.shape"
      ]
    },
    {
      "cell_type": "code",
      "execution_count": null,
      "metadata": {
        "colab": {
          "base_uri": "https://localhost:8080/"
        },
        "id": "MJPB42Ot5IFQ",
        "outputId": "c4e96296-f591-4ba1-8d9e-1e75a29efcc4"
      },
      "outputs": [
        {
          "output_type": "execute_result",
          "data": {
            "text/plain": [
              "Sr No.           int64\n",
              "Utterance       object\n",
              "Speaker         object\n",
              "Emotion         object\n",
              "Sentiment       object\n",
              "Dialogue_ID      int64\n",
              "Utterance_ID     int64\n",
              "Season           int64\n",
              "Episode          int64\n",
              "StartTime       object\n",
              "EndTime         object\n",
              "dtype: object"
            ]
          },
          "metadata": {},
          "execution_count": 10
        }
      ],
      "source": [
        "# Lets check the datatypes of columns in the dataframe\n",
        "df.dtypes"
      ]
    },
    {
      "cell_type": "code",
      "execution_count": null,
      "metadata": {
        "colab": {
          "base_uri": "https://localhost:8080/"
        },
        "id": "3kl5CqlO5Xpi",
        "outputId": "2ce1b759-9759-4715-8e7d-ef300f2ee511"
      },
      "outputs": [
        {
          "output_type": "execute_result",
          "data": {
            "text/plain": [
              "array(['neutral', 'positive', 'negative'], dtype=object)"
            ]
          },
          "metadata": {},
          "execution_count": 7
        }
      ],
      "source": [
        "# Lets check different emotion labels present in the dataframe\n",
        "emotion = df[\"Sentiment\"].unique()\n",
        "emotion"
      ]
    },
    {
      "cell_type": "markdown",
      "metadata": {
        "id": "fpvPVQBw5rtS"
      },
      "source": [
        "There are seven/three? different labelled emotions in the dataframe. They are:\n",
        "'neutral', 'positive', 'negative'"
      ]
    },
    {
      "cell_type": "code",
      "execution_count": null,
      "metadata": {
        "colab": {
          "base_uri": "https://localhost:8080/"
        },
        "id": "jm6Buo5u7Ed1",
        "outputId": "bebb856c-9884-4e0a-f5dd-7888852692b1"
      },
      "outputs": [
        {
          "output_type": "execute_result",
          "data": {
            "text/plain": [
              "Sr No.          0\n",
              "Utterance       0\n",
              "Speaker         0\n",
              "Emotion         0\n",
              "Sentiment       0\n",
              "Dialogue_ID     0\n",
              "Utterance_ID    0\n",
              "Season          0\n",
              "Episode         0\n",
              "StartTime       0\n",
              "EndTime         0\n",
              "dtype: int64"
            ]
          },
          "metadata": {},
          "execution_count": 8
        }
      ],
      "source": [
        "# check for null values\n",
        "df.isnull().sum()"
      ]
    },
    {
      "cell_type": "code",
      "execution_count": null,
      "metadata": {
        "colab": {
          "base_uri": "https://localhost:8080/",
          "height": 295
        },
        "id": "2ugvty1156RR",
        "outputId": "fc8d4ee7-44d0-4c2c-d384-3d6fa3a13799"
      },
      "outputs": [
        {
          "output_type": "display_data",
          "data": {
            "text/plain": [
              "<Figure size 432x288 with 1 Axes>"
            ],
            "image/png": "[encoded data removed]"
          },
          "metadata": {
            "needs_background": "light"
          }
        }
      ],
      "source": [
        "# Lets check the distribution of data for each class.\n",
        "data_dist = list(df.sort_values(by=[\"Sentiment\"]).groupby(by=[\"Sentiment\"]).count()[\"Utterance\"])\n",
        "label = sorted(emotion)\n",
        "\n",
        "for index, value in enumerate(data_dist):\n",
        "    plt.text(index,value+50, str(value))\n",
        "\n",
        "plt.bar(x=label, height=data_dist)\n",
        "plt.title(\"Data Distribution for each class\")\n",
        "plt.xlabel(\"Sentiment\")\n",
        "plt.ylabel(\"No. of distinct utterance\")\n",
        "plt.show()"
      ]
    },
    {
      "cell_type": "markdown",
      "metadata": {
        "id": "d-jcczwE-r3v"
      },
      "source": [
        "From the above bar diagram we can see that maximum utterance belong to class **Neutral** followed by **Negative** and **Positive**. Minimum utterenace belong to class **Positive**. This means data distribution more aligned towards the sentiment : Neutral, Negative and finally Positive. Normally, the dataset appears to be distributed in non uniform manner. So, the model build from such dataset could be biased. But, in real life, human sentiments is not always quantized to certain category. Also, we might not always be positive, and negative towards a situation. Most of our sentiments are neutral. Thus, basesd on the scenario, the distribution present in the dataset resembles the real world scenario and thus fit for our analysis."
      ]
    },
    {
      "cell_type": "markdown",
      "source": [
        "### Let's calculate number of words in each utterance\n"
      ],
      "metadata": {
        "id": "InupVz5fBDQE"
      }
    },
    {
      "cell_type": "code",
      "source": [
        "df[\"WordList\"] = df[\"Utterance\"].str.split(' ')\n",
        "df[\"WordCount\"] = df[\"WordList\"].str.len()\n",
        "df.head()"
      ],
      "metadata": {
        "colab": {
          "base_uri": "https://localhost:8080/",
          "height": 582
        },
        "id": "HDFy5UoL7UQN",
        "outputId": "6e48b688-8a84-43f7-eed0-280c89c5616c"
      },
      "execution_count": null,
      "outputs": [
        {
          "output_type": "execute_result",
          "data": {
            "text/plain": [
              "   Sr No.                                          Utterance          Speaker  \\\n",
              "0       1  also I was the point person on my company’s tr...         Chandler   \n",
              "1       2                   You must’ve had your hands full.  The Interviewer   \n",
              "2       3                            That I did. That I did.         Chandler   \n",
              "3       4      So let’s talk a little bit about your duties.  The Interviewer   \n",
              "4       5                             My duties?  All right.         Chandler   \n",
              "\n",
              "    Emotion Sentiment  Dialogue_ID  Utterance_ID  Season  Episode  \\\n",
              "0   neutral   neutral            0             0       8       21   \n",
              "1   neutral   neutral            0             1       8       21   \n",
              "2   neutral   neutral            0             2       8       21   \n",
              "3   neutral   neutral            0             3       8       21   \n",
              "4  surprise  positive            0             4       8       21   \n",
              "\n",
              "      StartTime       EndTime  \\\n",
              "0  00:16:16,059  00:16:21,731   \n",
              "1  00:16:21,940  00:16:23,442   \n",
              "2  00:16:23,442  00:16:26,389   \n",
              "3  00:16:26,820  00:16:29,572   \n",
              "4  00:16:34,452  00:16:40,917   \n",
              "\n",
              "                                            WordList  WordCount  \n",
              "0  [also, I, was, the, point, person, on, my, com...         16  \n",
              "1            [You, must’ve, had, your, hands, full.]          6  \n",
              "2                     [That, I, did., That, I, did.]          6  \n",
              "3  [So, let’s, talk, a, little, bit, about, your,...          9  \n",
              "4                       [My, duties?, , All, right.]          5  "
            ],
            "text/html": [
              "\n",
              "  <div id=\"df-01ef08b4-c366-40ee-9810-3683a04ddcdd\">\n",
              "    <div class=\"colab-df-container\">\n",
              "      <div>\n",
              "<style scoped>\n",
              "    .dataframe tbody tr th:only-of-type {\n",
              "        vertical-align: middle;\n",
              "    }\n",
              "\n",
              "    .dataframe tbody tr th {\n",
              "        vertical-align: top;\n",
              "    }\n",
              "\n",
              "    .dataframe thead th {\n",
              "        text-align: right;\n",
              "    }\n",
              "</style>\n",
              "<table border=\"1\" class=\"dataframe\">\n",
              "  <thead>\n",
              "    <tr style=\"text-align: right;\">\n",
              "      <th></th>\n",
              "      <th>Sr No.</th>\n",
              "      <th>Utterance</th>\n",
              "      <th>Speaker</th>\n",
              "      <th>Emotion</th>\n",
              "      <th>Sentiment</th>\n",
              "      <th>Dialogue_ID</th>\n",
              "      <th>Utterance_ID</th>\n",
              "      <th>Season</th>\n",
              "      <th>Episode</th>\n",
              "      <th>StartTime</th>\n",
              "      <th>EndTime</th>\n",
              "      <th>WordList</th>\n",
              "      <th>WordCount</th>\n",
              "    </tr>\n",
              "  </thead>\n",
              "  <tbody>\n",
              "    <tr>\n",
              "      <th>0</th>\n",
              "      <td>1</td>\n",
              "      <td>also I was the point person on my company’s tr...</td>\n",
              "      <td>Chandler</td>\n",
              "      <td>neutral</td>\n",
              "      <td>neutral</td>\n",
              "      <td>0</td>\n",
              "      <td>0</td>\n",
              "      <td>8</td>\n",
              "      <td>21</td>\n",
              "      <td>00:16:16,059</td>\n",
              "      <td>00:16:21,731</td>\n",
              "      <td>[also, I, was, the, point, person, on, my, com...</td>\n",
              "      <td>16</td>\n",
              "    </tr>\n",
              "    <tr>\n",
              "      <th>1</th>\n",
              "      <td>2</td>\n",
              "      <td>You must’ve had your hands full.</td>\n",
              "      <td>The Interviewer</td>\n",
              "      <td>neutral</td>\n",
              "      <td>neutral</td>\n",
              "      <td>0</td>\n",
              "      <td>1</td>\n",
              "      <td>8</td>\n",
              "      <td>21</td>\n",
              "      <td>00:16:21,940</td>\n",
              "      <td>00:16:23,442</td>\n",
              "      <td>[You, must’ve, had, your, hands, full.]</td>\n",
              "      <td>6</td>\n",
              "    </tr>\n",
              "    <tr>\n",
              "      <th>2</th>\n",
              "      <td>3</td>\n",
              "      <td>That I did. That I did.</td>\n",
              "      <td>Chandler</td>\n",
              "      <td>neutral</td>\n",
              "      <td>neutral</td>\n",
              "      <td>0</td>\n",
              "      <td>2</td>\n",
              "      <td>8</td>\n",
              "      <td>21</td>\n",
              "      <td>00:16:23,442</td>\n",
              "      <td>00:16:26,389</td>\n",
              "      <td>[That, I, did., That, I, did.]</td>\n",
              "      <td>6</td>\n",
              "    </tr>\n",
              "    <tr>\n",
              "      <th>3</th>\n",
              "      <td>4</td>\n",
              "      <td>So let’s talk a little bit about your duties.</td>\n",
              "      <td>The Interviewer</td>\n",
              "      <td>neutral</td>\n",
              "      <td>neutral</td>\n",
              "      <td>0</td>\n",
              "      <td>3</td>\n",
              "      <td>8</td>\n",
              "      <td>21</td>\n",
              "      <td>00:16:26,820</td>\n",
              "      <td>00:16:29,572</td>\n",
              "      <td>[So, let’s, talk, a, little, bit, about, your,...</td>\n",
              "      <td>9</td>\n",
              "    </tr>\n",
              "    <tr>\n",
              "      <th>4</th>\n",
              "      <td>5</td>\n",
              "      <td>My duties?  All right.</td>\n",
              "      <td>Chandler</td>\n",
              "      <td>surprise</td>\n",
              "      <td>positive</td>\n",
              "      <td>0</td>\n",
              "      <td>4</td>\n",
              "      <td>8</td>\n",
              "      <td>21</td>\n",
              "      <td>00:16:34,452</td>\n",
              "      <td>00:16:40,917</td>\n",
              "      <td>[My, duties?, , All, right.]</td>\n",
              "      <td>5</td>\n",
              "    </tr>\n",
              "  </tbody>\n",
              "</table>\n",
              "</div>\n",
              "      <button class=\"colab-df-convert\" onclick=\"convertToInteractive('df-01ef08b4-c366-40ee-9810-3683a04ddcdd')\"\n",
              "              title=\"Convert this dataframe to an interactive table.\"\n",
              "              style=\"display:none;\">\n",
              "        \n",
              "  <svg xmlns=\"http://www.w3.org/2000/svg\" height=\"24px\"viewBox=\"0 0 24 24\"\n",
              "       width=\"24px\">\n",
              "    <path d=\"M0 0h24v24H0V0z\" fill=\"none\"/>\n",
              "    <path d=\"M18.56 5.44l.94 2.06.94-2.06 2.06-.94-2.06-.94-.94-2.06-.94 2.06-2.06.94zm-11 1L8.5 8.5l.94-2.06 2.06-.94-2.06-.94L8.5 2.5l-.94 2.06-2.06.94zm10 10l.94 2.06.94-2.06 2.06-.94-2.06-.94-.94-2.06-.94 2.06-2.06.94z\"/><path d=\"M17.41 7.96l-1.37-1.37c-.4-.4-.92-.59-1.43-.59-.52 0-1.04.2-1.43.59L10.3 9.45l-7.72 7.72c-.78.78-.78 2.05 0 2.83L4 21.41c.39.39.9.59 1.41.59.51 0 1.02-.2 1.41-.59l7.78-7.78 2.81-2.81c.8-.78.8-2.07 0-2.86zM5.41 20L4 18.59l7.72-7.72 1.47 1.35L5.41 20z\"/>\n",
              "  </svg>\n",
              "      </button>\n",
              "      \n",
              "  <style>\n",
              "    .colab-df-container {\n",
              "      display:flex;\n",
              "      flex-wrap:wrap;\n",
              "      gap: 12px;\n",
              "    }\n",
              "\n",
              "    .colab-df-convert {\n",
              "      background-color: #E8F0FE;\n",
              "      border: none;\n",
              "      border-radius: 50%;\n",
              "      cursor: pointer;\n",
              "      display: none;\n",
              "      fill: #1967D2;\n",
              "      height: 32px;\n",
              "      padding: 0 0 0 0;\n",
              "      width: 32px;\n",
              "    }\n",
              "\n",
              "    .colab-df-convert:hover {\n",
              "      background-color: #E2EBFA;\n",
              "      box-shadow: 0px 1px 2px rgba(60, 64, 67, 0.3), 0px 1px 3px 1px rgba(60, 64, 67, 0.15);\n",
              "      fill: #174EA6;\n",
              "    }\n",
              "\n",
              "    [theme=dark] .colab-df-convert {\n",
              "      background-color: #3B4455;\n",
              "      fill: #D2E3FC;\n",
              "    }\n",
              "\n",
              "    [theme=dark] .colab-df-convert:hover {\n",
              "      background-color: #434B5C;\n",
              "      box-shadow: 0px 1px 3px 1px rgba(0, 0, 0, 0.15);\n",
              "      filter: drop-shadow(0px 1px 2px rgba(0, 0, 0, 0.3));\n",
              "      fill: #FFFFFF;\n",
              "    }\n",
              "  </style>\n",
              "\n",
              "      <script>\n",
              "        const buttonEl =\n",
              "          document.querySelector('#df-01ef08b4-c366-40ee-9810-3683a04ddcdd button.colab-df-convert');\n",
              "        buttonEl.style.display =\n",
              "          google.colab.kernel.accessAllowed ? 'block' : 'none';\n",
              "\n",
              "        async function convertToInteractive(key) {\n",
              "          const element = document.querySelector('#df-01ef08b4-c366-40ee-9810-3683a04ddcdd');\n",
              "          const dataTable =\n",
              "            await google.colab.kernel.invokeFunction('convertToInteractive',\n",
              "                                                     [key], {});\n",
              "          if (!dataTable) return;\n",
              "\n",
              "          const docLinkHtml = 'Like what you see? Visit the ' +\n",
              "            '<a target=\"_blank\" href=https://colab.research.google.com/notebooks/data_table.ipynb>data table notebook</a>'\n",
              "            + ' to learn more about interactive tables.';\n",
              "          element.innerHTML = '';\n",
              "          dataTable['output_type'] = 'display_data';\n",
              "          await google.colab.output.renderOutput(dataTable, element);\n",
              "          const docLink = document.createElement('div');\n",
              "          docLink.innerHTML = docLinkHtml;\n",
              "          element.appendChild(docLink);\n",
              "        }\n",
              "      </script>\n",
              "    </div>\n",
              "  </div>\n",
              "  "
            ]
          },
          "metadata": {},
          "execution_count": 5
        }
      ]
    },
    {
      "cell_type": "code",
      "execution_count": null,
      "metadata": {
        "colab": {
          "base_uri": "https://localhost:8080/",
          "height": 458
        },
        "id": "9M5_y6w-NCKy",
        "outputId": "76c0b4da-1c64-4b2e-baae-7f2d16349fd7"
      },
      "outputs": [
        {
          "output_type": "display_data",
          "data": {
            "text/plain": [
              "<Figure size 720x504 with 1 Axes>"
            ],
            "image/png": "[encoded data removed]"
          },
          "metadata": {
            "needs_background": "light"
          }
        }
      ],
      "source": [
        "# Plot histogram of word counts\n",
        "fig, ax = plt.subplots(figsize =(10, 7))\n",
        "ax.hist(df[\"WordCount\"])\n",
        "\n",
        "plt.title(\"Histogram of word count\")\n",
        "plt.xlabel(\"Word Count\")\n",
        "plt.ylabel(\"Frequency\")\n",
        "# Show plot\n",
        "plt.show()"
      ]
    },
    {
      "cell_type": "markdown",
      "metadata": {
        "id": "PoztRAQgNy3M"
      },
      "source": [
        "If we look at the above histogram plot, we can see that maximum utterances have word length from 0-10. Such analysis is useful in order to select maximum word length to create word vector. Based on the maximum word length, we can either truncate the longer utterance or pad the shorter utterance accordingly to create equal length vectors."
      ]
    },
    {
      "cell_type": "markdown",
      "metadata": {
        "id": "AuIu40-_Pkdq"
      },
      "source": [
        "## Data Preprocessing\n",
        "Data Preprocessing is the crucial step in any pattern recognition and machine learning problem. In real world, no data are perfectly fine and clean to use directly. Some level of analysis and preprocessing is always required before it is fed to the machine learning model. There are several steps that are followed during data preprocessing and application of each step depends on the problem domain and nature of data. So, for our emotion recognition project, as we are using text data, we will be using the following pre-processing techniques:\n",
        "\n",
        "1. Remove null values -- This is already done in the previous steps and since there are no null values, we can move on to the next step.\n",
        "\n",
        "2. Special character removal -- The primary step in data preprocessing is cleaning the dataset by removing special characters/punctuations. We will perform this by using Regular Expression (RE). It will allow us to determine whether our text data matches the given regular expression and replace it with clean text using str.replace function.  \n",
        "\n",
        "3. Word Tokenization -- It is the process of splitting raw text data into a list of tokens. This process wil help us understand the data better to develop the model. We will do this with the help of Naural Language Tool Kit (NLTK) function called word_tokenize(). The function will break the text data on the basis of white space and punctuation.\n",
        "\n",
        "4. Stop words removal -- Stop words are the words that repeatedly appear in the text however they do not add much value to it. Words like is, am, the, our, etc. are some of the examples of Stop Words. Since, they do not have any semantic weight, removing them will shift the focus on more unique data that hold significant information.\n",
        "\n",
        "\n",
        "\n"
      ]
    },
    {
      "cell_type": "markdown",
      "metadata": {
        "id": "uofXrFs_PBq_"
      },
      "source": [
        "### Selecting useful columns\n",
        "For our analysis, we only need columns Utterance, and Emotion. Thus, we will be using only those columsn to prepare our dataset."
      ]
    },
    {
      "cell_type": "code",
      "execution_count": null,
      "metadata": {
        "colab": {
          "base_uri": "https://localhost:8080/",
          "height": 206
        },
        "id": "FZKfVuD_O9zF",
        "outputId": "3953cbe5-36cd-43f0-d789-b0d46eb983a5"
      },
      "outputs": [
        {
          "output_type": "execute_result",
          "data": {
            "text/plain": [
              "                                           Utterance Sentiment\n",
              "0  also I was the point person on my company’s tr...   neutral\n",
              "1                   You must’ve had your hands full.   neutral\n",
              "2                            That I did. That I did.   neutral\n",
              "3      So let’s talk a little bit about your duties.   neutral\n",
              "4                             My duties?  All right.  positive"
            ],
            "text/html": [
              "\n",
              "  <div id=\"df-800a8f4d-ea9b-4a36-a43a-49d275459afd\">\n",
              "    <div class=\"colab-df-container\">\n",
              "      <div>\n",
              "<style scoped>\n",
              "    .dataframe tbody tr th:only-of-type {\n",
              "        vertical-align: middle;\n",
              "    }\n",
              "\n",
              "    .dataframe tbody tr th {\n",
              "        vertical-align: top;\n",
              "    }\n",
              "\n",
              "    .dataframe thead th {\n",
              "        text-align: right;\n",
              "    }\n",
              "</style>\n",
              "<table border=\"1\" class=\"dataframe\">\n",
              "  <thead>\n",
              "    <tr style=\"text-align: right;\">\n",
              "      <th></th>\n",
              "      <th>Utterance</th>\n",
              "      <th>Sentiment</th>\n",
              "    </tr>\n",
              "  </thead>\n",
              "  <tbody>\n",
              "    <tr>\n",
              "      <th>0</th>\n",
              "      <td>also I was the point person on my company’s tr...</td>\n",
              "      <td>neutral</td>\n",
              "    </tr>\n",
              "    <tr>\n",
              "      <th>1</th>\n",
              "      <td>You must’ve had your hands full.</td>\n",
              "      <td>neutral</td>\n",
              "    </tr>\n",
              "    <tr>\n",
              "      <th>2</th>\n",
              "      <td>That I did. That I did.</td>\n",
              "      <td>neutral</td>\n",
              "    </tr>\n",
              "    <tr>\n",
              "      <th>3</th>\n",
              "      <td>So let’s talk a little bit about your duties.</td>\n",
              "      <td>neutral</td>\n",
              "    </tr>\n",
              "    <tr>\n",
              "      <th>4</th>\n",
              "      <td>My duties?  All right.</td>\n",
              "      <td>positive</td>\n",
              "    </tr>\n",
              "  </tbody>\n",
              "</table>\n",
              "</div>\n",
              "      <button class=\"colab-df-convert\" onclick=\"convertToInteractive('df-800a8f4d-ea9b-4a36-a43a-49d275459afd')\"\n",
              "              title=\"Convert this dataframe to an interactive table.\"\n",
              "              style=\"display:none;\">\n",
              "        \n",
              "  <svg xmlns=\"http://www.w3.org/2000/svg\" height=\"24px\"viewBox=\"0 0 24 24\"\n",
              "       width=\"24px\">\n",
              "    <path d=\"M0 0h24v24H0V0z\" fill=\"none\"/>\n",
              "    <path d=\"M18.56 5.44l.94 2.06.94-2.06 2.06-.94-2.06-.94-.94-2.06-.94 2.06-2.06.94zm-11 1L8.5 8.5l.94-2.06 2.06-.94-2.06-.94L8.5 2.5l-.94 2.06-2.06.94zm10 10l.94 2.06.94-2.06 2.06-.94-2.06-.94-.94-2.06-.94 2.06-2.06.94z\"/><path d=\"M17.41 7.96l-1.37-1.37c-.4-.4-.92-.59-1.43-.59-.52 0-1.04.2-1.43.59L10.3 9.45l-7.72 7.72c-.78.78-.78 2.05 0 2.83L4 21.41c.39.39.9.59 1.41.59.51 0 1.02-.2 1.41-.59l7.78-7.78 2.81-2.81c.8-.78.8-2.07 0-2.86zM5.41 20L4 18.59l7.72-7.72 1.47 1.35L5.41 20z\"/>\n",
              "  </svg>\n",
              "      </button>\n",
              "      \n",
              "  <style>\n",
              "    .colab-df-container {\n",
              "      display:flex;\n",
              "      flex-wrap:wrap;\n",
              "      gap: 12px;\n",
              "    }\n",
              "\n",
              "    .colab-df-convert {\n",
              "      background-color: #E8F0FE;\n",
              "      border: none;\n",
              "      border-radius: 50%;\n",
              "      cursor: pointer;\n",
              "      display: none;\n",
              "      fill: #1967D2;\n",
              "      height: 32px;\n",
              "      padding: 0 0 0 0;\n",
              "      width: 32px;\n",
              "    }\n",
              "\n",
              "    .colab-df-convert:hover {\n",
              "      background-color: #E2EBFA;\n",
              "      box-shadow: 0px 1px 2px rgba(60, 64, 67, 0.3), 0px 1px 3px 1px rgba(60, 64, 67, 0.15);\n",
              "      fill: #174EA6;\n",
              "    }\n",
              "\n",
              "    [theme=dark] .colab-df-convert {\n",
              "      background-color: #3B4455;\n",
              "      fill: #D2E3FC;\n",
              "    }\n",
              "\n",
              "    [theme=dark] .colab-df-convert:hover {\n",
              "      background-color: #434B5C;\n",
              "      box-shadow: 0px 1px 3px 1px rgba(0, 0, 0, 0.15);\n",
              "      filter: drop-shadow(0px 1px 2px rgba(0, 0, 0, 0.3));\n",
              "      fill: #FFFFFF;\n",
              "    }\n",
              "  </style>\n",
              "\n",
              "      <script>\n",
              "        const buttonEl =\n",
              "          document.querySelector('#df-800a8f4d-ea9b-4a36-a43a-49d275459afd button.colab-df-convert');\n",
              "        buttonEl.style.display =\n",
              "          google.colab.kernel.accessAllowed ? 'block' : 'none';\n",
              "\n",
              "        async function convertToInteractive(key) {\n",
              "          const element = document.querySelector('#df-800a8f4d-ea9b-4a36-a43a-49d275459afd');\n",
              "          const dataTable =\n",
              "            await google.colab.kernel.invokeFunction('convertToInteractive',\n",
              "                                                     [key], {});\n",
              "          if (!dataTable) return;\n",
              "\n",
              "          const docLinkHtml = 'Like what you see? Visit the ' +\n",
              "            '<a target=\"_blank\" href=https://colab.research.google.com/notebooks/data_table.ipynb>data table notebook</a>'\n",
              "            + ' to learn more about interactive tables.';\n",
              "          element.innerHTML = '';\n",
              "          dataTable['output_type'] = 'display_data';\n",
              "          await google.colab.output.renderOutput(dataTable, element);\n",
              "          const docLink = document.createElement('div');\n",
              "          docLink.innerHTML = docLinkHtml;\n",
              "          element.appendChild(docLink);\n",
              "        }\n",
              "      </script>\n",
              "    </div>\n",
              "  </div>\n",
              "  "
            ]
          },
          "metadata": {},
          "execution_count": 8
        }
      ],
      "source": [
        "data = df[[\"Utterance\", \"Sentiment\"]]\n",
        "data.head()"
      ]
    },
    {
      "cell_type": "markdown",
      "metadata": {
        "id": "AkMZaaYr1gSc"
      },
      "source": [
        "### Remove Punctuation and Special Characters\n",
        "\n",
        "\n",
        "\n"
      ]
    },
    {
      "cell_type": "code",
      "execution_count": null,
      "metadata": {
        "id": "diNCKl041sLh"
      },
      "outputs": [],
      "source": [
        "#importing necessary library\n",
        "import re"
      ]
    },
    {
      "cell_type": "code",
      "execution_count": null,
      "metadata": {
        "colab": {
          "base_uri": "https://localhost:8080/",
          "height": 310
        },
        "id": "D-WjfQpN3dsZ",
        "outputId": "d7e23bf5-cf98-4811-d205-c6ab81b9779f"
      },
      "outputs": [
        {
          "output_type": "stream",
          "name": "stderr",
          "text": [
            "<ipython-input-10-8a2a10a8bab9>:2: SettingWithCopyWarning: \n",
            "A value is trying to be set on a copy of a slice from a DataFrame.\n",
            "Try using .loc[row_indexer,col_indexer] = value instead\n",
            "\n",
            "See the caveats in the documentation: https://pandas.pydata.org/pandas-docs/stable/user_guide/indexing.html#returning-a-view-versus-a-copy\n",
            "  data['lowercase_utterance'] = data['Utterance'].apply(lambda x: \" \".join(x.lower() for x in x.split()))\n"
          ]
        },
        {
          "output_type": "execute_result",
          "data": {
            "text/plain": [
              "                                           Utterance  \\\n",
              "0  also I was the point person on my company’s tr...   \n",
              "1                   You must’ve had your hands full.   \n",
              "2                            That I did. That I did.   \n",
              "3      So let’s talk a little bit about your duties.   \n",
              "4                             My duties?  All right.   \n",
              "\n",
              "                                 lowercase_utterance  \n",
              "0  also i was the point person on my company’s tr...  \n",
              "1                   you must’ve had your hands full.  \n",
              "2                            that i did. that i did.  \n",
              "3      so let’s talk a little bit about your duties.  \n",
              "4                              my duties? all right.  "
            ],
            "text/html": [
              "\n",
              "  <div id=\"df-68e2baa0-e8ca-442a-ac09-bff8e68b4864\">\n",
              "    <div class=\"colab-df-container\">\n",
              "      <div>\n",
              "<style scoped>\n",
              "    .dataframe tbody tr th:only-of-type {\n",
              "        vertical-align: middle;\n",
              "    }\n",
              "\n",
              "    .dataframe tbody tr th {\n",
              "        vertical-align: top;\n",
              "    }\n",
              "\n",
              "    .dataframe thead th {\n",
              "        text-align: right;\n",
              "    }\n",
              "</style>\n",
              "<table border=\"1\" class=\"dataframe\">\n",
              "  <thead>\n",
              "    <tr style=\"text-align: right;\">\n",
              "      <th></th>\n",
              "      <th>Utterance</th>\n",
              "      <th>lowercase_utterance</th>\n",
              "    </tr>\n",
              "  </thead>\n",
              "  <tbody>\n",
              "    <tr>\n",
              "      <th>0</th>\n",
              "      <td>also I was the point person on my company’s tr...</td>\n",
              "      <td>also i was the point person on my company’s tr...</td>\n",
              "    </tr>\n",
              "    <tr>\n",
              "      <th>1</th>\n",
              "      <td>You must’ve had your hands full.</td>\n",
              "      <td>you must’ve had your hands full.</td>\n",
              "    </tr>\n",
              "    <tr>\n",
              "      <th>2</th>\n",
              "      <td>That I did. That I did.</td>\n",
              "      <td>that i did. that i did.</td>\n",
              "    </tr>\n",
              "    <tr>\n",
              "      <th>3</th>\n",
              "      <td>So let’s talk a little bit about your duties.</td>\n",
              "      <td>so let’s talk a little bit about your duties.</td>\n",
              "    </tr>\n",
              "    <tr>\n",
              "      <th>4</th>\n",
              "      <td>My duties?  All right.</td>\n",
              "      <td>my duties? all right.</td>\n",
              "    </tr>\n",
              "  </tbody>\n",
              "</table>\n",
              "</div>\n",
              "      <button class=\"colab-df-convert\" onclick=\"convertToInteractive('df-68e2baa0-e8ca-442a-ac09-bff8e68b4864')\"\n",
              "              title=\"Convert this dataframe to an interactive table.\"\n",
              "              style=\"display:none;\">\n",
              "        \n",
              "  <svg xmlns=\"http://www.w3.org/2000/svg\" height=\"24px\"viewBox=\"0 0 24 24\"\n",
              "       width=\"24px\">\n",
              "    <path d=\"M0 0h24v24H0V0z\" fill=\"none\"/>\n",
              "    <path d=\"M18.56 5.44l.94 2.06.94-2.06 2.06-.94-2.06-.94-.94-2.06-.94 2.06-2.06.94zm-11 1L8.5 8.5l.94-2.06 2.06-.94-2.06-.94L8.5 2.5l-.94 2.06-2.06.94zm10 10l.94 2.06.94-2.06 2.06-.94-2.06-.94-.94-2.06-.94 2.06-2.06.94z\"/><path d=\"M17.41 7.96l-1.37-1.37c-.4-.4-.92-.59-1.43-.59-.52 0-1.04.2-1.43.59L10.3 9.45l-7.72 7.72c-.78.78-.78 2.05 0 2.83L4 21.41c.39.39.9.59 1.41.59.51 0 1.02-.2 1.41-.59l7.78-7.78 2.81-2.81c.8-.78.8-2.07 0-2.86zM5.41 20L4 18.59l7.72-7.72 1.47 1.35L5.41 20z\"/>\n",
              "  </svg>\n",
              "      </button>\n",
              "      \n",
              "  <style>\n",
              "    .colab-df-container {\n",
              "      display:flex;\n",
              "      flex-wrap:wrap;\n",
              "      gap: 12px;\n",
              "    }\n",
              "\n",
              "    .colab-df-convert {\n",
              "      background-color: #E8F0FE;\n",
              "      border: none;\n",
              "      border-radius: 50%;\n",
              "      cursor: pointer;\n",
              "      display: none;\n",
              "      fill: #1967D2;\n",
              "      height: 32px;\n",
              "      padding: 0 0 0 0;\n",
              "      width: 32px;\n",
              "    }\n",
              "\n",
              "    .colab-df-convert:hover {\n",
              "      background-color: #E2EBFA;\n",
              "      box-shadow: 0px 1px 2px rgba(60, 64, 67, 0.3), 0px 1px 3px 1px rgba(60, 64, 67, 0.15);\n",
              "      fill: #174EA6;\n",
              "    }\n",
              "\n",
              "    [theme=dark] .colab-df-convert {\n",
              "      background-color: #3B4455;\n",
              "      fill: #D2E3FC;\n",
              "    }\n",
              "\n",
              "    [theme=dark] .colab-df-convert:hover {\n",
              "      background-color: #434B5C;\n",
              "      box-shadow: 0px 1px 3px 1px rgba(0, 0, 0, 0.15);\n",
              "      filter: drop-shadow(0px 1px 2px rgba(0, 0, 0, 0.3));\n",
              "      fill: #FFFFFF;\n",
              "    }\n",
              "  </style>\n",
              "\n",
              "      <script>\n",
              "        const buttonEl =\n",
              "          document.querySelector('#df-68e2baa0-e8ca-442a-ac09-bff8e68b4864 button.colab-df-convert');\n",
              "        buttonEl.style.display =\n",
              "          google.colab.kernel.accessAllowed ? 'block' : 'none';\n",
              "\n",
              "        async function convertToInteractive(key) {\n",
              "          const element = document.querySelector('#df-68e2baa0-e8ca-442a-ac09-bff8e68b4864');\n",
              "          const dataTable =\n",
              "            await google.colab.kernel.invokeFunction('convertToInteractive',\n",
              "                                                     [key], {});\n",
              "          if (!dataTable) return;\n",
              "\n",
              "          const docLinkHtml = 'Like what you see? Visit the ' +\n",
              "            '<a target=\"_blank\" href=https://colab.research.google.com/notebooks/data_table.ipynb>data table notebook</a>'\n",
              "            + ' to learn more about interactive tables.';\n",
              "          element.innerHTML = '';\n",
              "          dataTable['output_type'] = 'display_data';\n",
              "          await google.colab.output.renderOutput(dataTable, element);\n",
              "          const docLink = document.createElement('div');\n",
              "          docLink.innerHTML = docLinkHtml;\n",
              "          element.appendChild(docLink);\n",
              "        }\n",
              "      </script>\n",
              "    </div>\n",
              "  </div>\n",
              "  "
            ]
          },
          "metadata": {},
          "execution_count": 10
        }
      ],
      "source": [
        "#converting to lowercase\n",
        "data['lowercase_utterance'] = data['Utterance'].apply(lambda x: \" \".join(x.lower() for x in x.split()))\n",
        "data[['Utterance','lowercase_utterance']].head()"
      ]
    },
    {
      "cell_type": "markdown",
      "metadata": {
        "id": "8pEV7FEBH1R3"
      },
      "source": [
        "Converting the data to lowercase wil make it uniform and easier to work with."
      ]
    },
    {
      "cell_type": "code",
      "execution_count": null,
      "metadata": {
        "colab": {
          "base_uri": "https://localhost:8080/",
          "height": 815
        },
        "id": "TD4DoaP3OYG8",
        "outputId": "ffbc907a-7d31-4a90-bcc4-675509f191ee"
      },
      "outputs": [
        {
          "output_type": "stream",
          "name": "stderr",
          "text": [
            "<ipython-input-11-f767ff14a49f>:2: FutureWarning: The default value of regex will change from True to False in a future version.\n",
            "  data['utterance_without_punc'] = data['lowercase_utterance'].str.replace('[^\\w\\s]',' ')\n",
            "<ipython-input-11-f767ff14a49f>:2: SettingWithCopyWarning: \n",
            "A value is trying to be set on a copy of a slice from a DataFrame.\n",
            "Try using .loc[row_indexer,col_indexer] = value instead\n",
            "\n",
            "See the caveats in the documentation: https://pandas.pydata.org/pandas-docs/stable/user_guide/indexing.html#returning-a-view-versus-a-copy\n",
            "  data['utterance_without_punc'] = data['lowercase_utterance'].str.replace('[^\\w\\s]',' ')\n"
          ]
        },
        {
          "output_type": "execute_result",
          "data": {
            "text/plain": [
              "                                            Utterance  \\\n",
              "0   also I was the point person on my company’s tr...   \n",
              "1                    You must’ve had your hands full.   \n",
              "2                             That I did. That I did.   \n",
              "3       So let’s talk a little bit about your duties.   \n",
              "4                              My duties?  All right.   \n",
              "5   Now you’ll be heading a whole division, so you...   \n",
              "6                                              I see.   \n",
              "7   But there’ll be perhaps 30 people under you so...   \n",
              "8                                       Good to know.   \n",
              "9                               We can go into detail   \n",
              "10                             No don’t I beg of you!   \n",
              "11  All right then, we’ll have a definite answer f...   \n",
              "12                                           Really?!   \n",
              "13                         Absolutely.  You can relax   \n",
              "14  But then who? The waitress I went out with las...   \n",
              "15                               You know? Forget it!   \n",
              "16  No-no-no-no, no! Who, who were you talking about?   \n",
              "17           No, I-I-I-I don't, I actually don't know   \n",
              "18                                                Ok!   \n",
              "19                                 All right, well...   \n",
              "\n",
              "                                  lowercase_utterance  \\\n",
              "0   also i was the point person on my company’s tr...   \n",
              "1                    you must’ve had your hands full.   \n",
              "2                             that i did. that i did.   \n",
              "3       so let’s talk a little bit about your duties.   \n",
              "4                               my duties? all right.   \n",
              "5   now you’ll be heading a whole division, so you...   \n",
              "6                                              i see.   \n",
              "7   but there’ll be perhaps 30 people under you so...   \n",
              "8                                       good to know.   \n",
              "9                               we can go into detail   \n",
              "10                             no don’t i beg of you!   \n",
              "11  all right then, we’ll have a definite answer f...   \n",
              "12                                           really?!   \n",
              "13                          absolutely. you can relax   \n",
              "14  but then who? the waitress i went out with las...   \n",
              "15                               you know? forget it!   \n",
              "16  no-no-no-no, no! who, who were you talking about?   \n",
              "17           no, i-i-i-i don't, i actually don't know   \n",
              "18                                                ok!   \n",
              "19                                 all right, well...   \n",
              "\n",
              "                               utterance_without_punc  \n",
              "0   also i was the point person on my company s tr...  \n",
              "1                    you must ve had your hands full   \n",
              "2                             that i did  that i did   \n",
              "3       so let s talk a little bit about your duties   \n",
              "4                               my duties  all right   \n",
              "5   now you ll be heading a whole division  so you...  \n",
              "6                                              i see   \n",
              "7   but there ll be perhaps 30 people under you so...  \n",
              "8                                       good to know   \n",
              "9                               we can go into detail  \n",
              "10                             no don t i beg of you   \n",
              "11  all right then  we ll have a definite answer f...  \n",
              "12                                           really    \n",
              "13                          absolutely  you can relax  \n",
              "14  but then who  the waitress i went out with las...  \n",
              "15                               you know  forget it   \n",
              "16  no no no no  no  who  who were you talking about   \n",
              "17           no  i i i i don t  i actually don t know  \n",
              "18                                                ok   \n",
              "19                                 all right  well     "
            ],
            "text/html": [
              "\n",
              "  <div id=\"df-d1b8338f-7d14-410b-ac17-58a8c123ece2\">\n",
              "    <div class=\"colab-df-container\">\n",
              "      <div>\n",
              "<style scoped>\n",
              "    .dataframe tbody tr th:only-of-type {\n",
              "        vertical-align: middle;\n",
              "    }\n",
              "\n",
              "    .dataframe tbody tr th {\n",
              "        vertical-align: top;\n",
              "    }\n",
              "\n",
              "    .dataframe thead th {\n",
              "        text-align: right;\n",
              "    }\n",
              "</style>\n",
              "<table border=\"1\" class=\"dataframe\">\n",
              "  <thead>\n",
              "    <tr style=\"text-align: right;\">\n",
              "      <th></th>\n",
              "      <th>Utterance</th>\n",
              "      <th>lowercase_utterance</th>\n",
              "      <th>utterance_without_punc</th>\n",
              "    </tr>\n",
              "  </thead>\n",
              "  <tbody>\n",
              "    <tr>\n",
              "      <th>0</th>\n",
              "      <td>also I was the point person on my company’s tr...</td>\n",
              "      <td>also i was the point person on my company’s tr...</td>\n",
              "      <td>also i was the point person on my company s tr...</td>\n",
              "    </tr>\n",
              "    <tr>\n",
              "      <th>1</th>\n",
              "      <td>You must’ve had your hands full.</td>\n",
              "      <td>you must’ve had your hands full.</td>\n",
              "      <td>you must ve had your hands full</td>\n",
              "    </tr>\n",
              "    <tr>\n",
              "      <th>2</th>\n",
              "      <td>That I did. That I did.</td>\n",
              "      <td>that i did. that i did.</td>\n",
              "      <td>that i did  that i did</td>\n",
              "    </tr>\n",
              "    <tr>\n",
              "      <th>3</th>\n",
              "      <td>So let’s talk a little bit about your duties.</td>\n",
              "      <td>so let’s talk a little bit about your duties.</td>\n",
              "      <td>so let s talk a little bit about your duties</td>\n",
              "    </tr>\n",
              "    <tr>\n",
              "      <th>4</th>\n",
              "      <td>My duties?  All right.</td>\n",
              "      <td>my duties? all right.</td>\n",
              "      <td>my duties  all right</td>\n",
              "    </tr>\n",
              "    <tr>\n",
              "      <th>5</th>\n",
              "      <td>Now you’ll be heading a whole division, so you...</td>\n",
              "      <td>now you’ll be heading a whole division, so you...</td>\n",
              "      <td>now you ll be heading a whole division  so you...</td>\n",
              "    </tr>\n",
              "    <tr>\n",
              "      <th>6</th>\n",
              "      <td>I see.</td>\n",
              "      <td>i see.</td>\n",
              "      <td>i see</td>\n",
              "    </tr>\n",
              "    <tr>\n",
              "      <th>7</th>\n",
              "      <td>But there’ll be perhaps 30 people under you so...</td>\n",
              "      <td>but there’ll be perhaps 30 people under you so...</td>\n",
              "      <td>but there ll be perhaps 30 people under you so...</td>\n",
              "    </tr>\n",
              "    <tr>\n",
              "      <th>8</th>\n",
              "      <td>Good to know.</td>\n",
              "      <td>good to know.</td>\n",
              "      <td>good to know</td>\n",
              "    </tr>\n",
              "    <tr>\n",
              "      <th>9</th>\n",
              "      <td>We can go into detail</td>\n",
              "      <td>we can go into detail</td>\n",
              "      <td>we can go into detail</td>\n",
              "    </tr>\n",
              "    <tr>\n",
              "      <th>10</th>\n",
              "      <td>No don’t I beg of you!</td>\n",
              "      <td>no don’t i beg of you!</td>\n",
              "      <td>no don t i beg of you</td>\n",
              "    </tr>\n",
              "    <tr>\n",
              "      <th>11</th>\n",
              "      <td>All right then, we’ll have a definite answer f...</td>\n",
              "      <td>all right then, we’ll have a definite answer f...</td>\n",
              "      <td>all right then  we ll have a definite answer f...</td>\n",
              "    </tr>\n",
              "    <tr>\n",
              "      <th>12</th>\n",
              "      <td>Really?!</td>\n",
              "      <td>really?!</td>\n",
              "      <td>really</td>\n",
              "    </tr>\n",
              "    <tr>\n",
              "      <th>13</th>\n",
              "      <td>Absolutely.  You can relax</td>\n",
              "      <td>absolutely. you can relax</td>\n",
              "      <td>absolutely  you can relax</td>\n",
              "    </tr>\n",
              "    <tr>\n",
              "      <th>14</th>\n",
              "      <td>But then who? The waitress I went out with las...</td>\n",
              "      <td>but then who? the waitress i went out with las...</td>\n",
              "      <td>but then who  the waitress i went out with las...</td>\n",
              "    </tr>\n",
              "    <tr>\n",
              "      <th>15</th>\n",
              "      <td>You know? Forget it!</td>\n",
              "      <td>you know? forget it!</td>\n",
              "      <td>you know  forget it</td>\n",
              "    </tr>\n",
              "    <tr>\n",
              "      <th>16</th>\n",
              "      <td>No-no-no-no, no! Who, who were you talking about?</td>\n",
              "      <td>no-no-no-no, no! who, who were you talking about?</td>\n",
              "      <td>no no no no  no  who  who were you talking about</td>\n",
              "    </tr>\n",
              "    <tr>\n",
              "      <th>17</th>\n",
              "      <td>No, I-I-I-I don't, I actually don't know</td>\n",
              "      <td>no, i-i-i-i don't, i actually don't know</td>\n",
              "      <td>no  i i i i don t  i actually don t know</td>\n",
              "    </tr>\n",
              "    <tr>\n",
              "      <th>18</th>\n",
              "      <td>Ok!</td>\n",
              "      <td>ok!</td>\n",
              "      <td>ok</td>\n",
              "    </tr>\n",
              "    <tr>\n",
              "      <th>19</th>\n",
              "      <td>All right, well...</td>\n",
              "      <td>all right, well...</td>\n",
              "      <td>all right  well</td>\n",
              "    </tr>\n",
              "  </tbody>\n",
              "</table>\n",
              "</div>\n",
              "      <button class=\"colab-df-convert\" onclick=\"convertToInteractive('df-d1b8338f-7d14-410b-ac17-58a8c123ece2')\"\n",
              "              title=\"Convert this dataframe to an interactive table.\"\n",
              "              style=\"display:none;\">\n",
              "        \n",
              "  <svg xmlns=\"http://www.w3.org/2000/svg\" height=\"24px\"viewBox=\"0 0 24 24\"\n",
              "       width=\"24px\">\n",
              "    <path d=\"M0 0h24v24H0V0z\" fill=\"none\"/>\n",
              "    <path d=\"M18.56 5.44l.94 2.06.94-2.06 2.06-.94-2.06-.94-.94-2.06-.94 2.06-2.06.94zm-11 1L8.5 8.5l.94-2.06 2.06-.94-2.06-.94L8.5 2.5l-.94 2.06-2.06.94zm10 10l.94 2.06.94-2.06 2.06-.94-2.06-.94-.94-2.06-.94 2.06-2.06.94z\"/><path d=\"M17.41 7.96l-1.37-1.37c-.4-.4-.92-.59-1.43-.59-.52 0-1.04.2-1.43.59L10.3 9.45l-7.72 7.72c-.78.78-.78 2.05 0 2.83L4 21.41c.39.39.9.59 1.41.59.51 0 1.02-.2 1.41-.59l7.78-7.78 2.81-2.81c.8-.78.8-2.07 0-2.86zM5.41 20L4 18.59l7.72-7.72 1.47 1.35L5.41 20z\"/>\n",
              "  </svg>\n",
              "      </button>\n",
              "      \n",
              "  <style>\n",
              "    .colab-df-container {\n",
              "      display:flex;\n",
              "      flex-wrap:wrap;\n",
              "      gap: 12px;\n",
              "    }\n",
              "\n",
              "    .colab-df-convert {\n",
              "      background-color: #E8F0FE;\n",
              "      border: none;\n",
              "      border-radius: 50%;\n",
              "      cursor: pointer;\n",
              "      display: none;\n",
              "      fill: #1967D2;\n",
              "      height: 32px;\n",
              "      padding: 0 0 0 0;\n",
              "      width: 32px;\n",
              "    }\n",
              "\n",
              "    .colab-df-convert:hover {\n",
              "      background-color: #E2EBFA;\n",
              "      box-shadow: 0px 1px 2px rgba(60, 64, 67, 0.3), 0px 1px 3px 1px rgba(60, 64, 67, 0.15);\n",
              "      fill: #174EA6;\n",
              "    }\n",
              "\n",
              "    [theme=dark] .colab-df-convert {\n",
              "      background-color: #3B4455;\n",
              "      fill: #D2E3FC;\n",
              "    }\n",
              "\n",
              "    [theme=dark] .colab-df-convert:hover {\n",
              "      background-color: #434B5C;\n",
              "      box-shadow: 0px 1px 3px 1px rgba(0, 0, 0, 0.15);\n",
              "      filter: drop-shadow(0px 1px 2px rgba(0, 0, 0, 0.3));\n",
              "      fill: #FFFFFF;\n",
              "    }\n",
              "  </style>\n",
              "\n",
              "      <script>\n",
              "        const buttonEl =\n",
              "          document.querySelector('#df-d1b8338f-7d14-410b-ac17-58a8c123ece2 button.colab-df-convert');\n",
              "        buttonEl.style.display =\n",
              "          google.colab.kernel.accessAllowed ? 'block' : 'none';\n",
              "\n",
              "        async function convertToInteractive(key) {\n",
              "          const element = document.querySelector('#df-d1b8338f-7d14-410b-ac17-58a8c123ece2');\n",
              "          const dataTable =\n",
              "            await google.colab.kernel.invokeFunction('convertToInteractive',\n",
              "                                                     [key], {});\n",
              "          if (!dataTable) return;\n",
              "\n",
              "          const docLinkHtml = 'Like what you see? Visit the ' +\n",
              "            '<a target=\"_blank\" href=https://colab.research.google.com/notebooks/data_table.ipynb>data table notebook</a>'\n",
              "            + ' to learn more about interactive tables.';\n",
              "          element.innerHTML = '';\n",
              "          dataTable['output_type'] = 'display_data';\n",
              "          await google.colab.output.renderOutput(dataTable, element);\n",
              "          const docLink = document.createElement('div');\n",
              "          docLink.innerHTML = docLinkHtml;\n",
              "          element.appendChild(docLink);\n",
              "        }\n",
              "      </script>\n",
              "    </div>\n",
              "  </div>\n",
              "  "
            ]
          },
          "metadata": {},
          "execution_count": 11
        }
      ],
      "source": [
        "#clean punctuations\n",
        "data['utterance_without_punc'] = data['lowercase_utterance'].str.replace('[^\\w\\s]',' ')\n",
        "data[['Utterance', 'lowercase_utterance', 'utterance_without_punc']].head(20)"
      ]
    },
    {
      "cell_type": "markdown",
      "metadata": {
        "id": "v9p4MQzYI4Ox"
      },
      "source": [
        "In the table above, we can see that the punctuations have been removed from the second and third row, making it more clean."
      ]
    },
    {
      "cell_type": "markdown",
      "metadata": {
        "id": "ZXs35eNQMtaw"
      },
      "source": [
        "### Word Tokenization"
      ]
    },
    {
      "cell_type": "code",
      "execution_count": null,
      "metadata": {
        "id": "bDrJYMJDMv_W"
      },
      "outputs": [],
      "source": [
        "#importing necessary library\n",
        "import nltk\n",
        "from nltk.tokenize import word_tokenize"
      ]
    },
    {
      "cell_type": "code",
      "execution_count": null,
      "metadata": {
        "colab": {
          "base_uri": "https://localhost:8080/"
        },
        "id": "JeSJI-i9M1bv",
        "outputId": "63d52bf3-30ae-456e-db45-51729049b6e8"
      },
      "outputs": [
        {
          "output_type": "stream",
          "name": "stderr",
          "text": [
            "[nltk_data] Downloading package punkt to /root/nltk_data...\n",
            "[nltk_data]   Unzipping tokenizers/punkt.zip.\n",
            "[nltk_data] Downloading package wordnet to /root/nltk_data...\n"
          ]
        },
        {
          "output_type": "execute_result",
          "data": {
            "text/plain": [
              "True"
            ]
          },
          "metadata": {},
          "execution_count": 13
        }
      ],
      "source": [
        "#downloading the necessary functions in nltk library\n",
        "nltk.download('punkt')\n",
        "nltk.download('wordnet')"
      ]
    },
    {
      "cell_type": "code",
      "execution_count": null,
      "metadata": {
        "colab": {
          "base_uri": "https://localhost:8080/",
          "height": 372
        },
        "id": "FFCJfu0lROvS",
        "outputId": "44e91969-d42d-4a17-d530-374bd6cd9da6"
      },
      "outputs": [
        {
          "output_type": "stream",
          "name": "stderr",
          "text": [
            "<ipython-input-14-a5a0d360973c>:1: SettingWithCopyWarning: \n",
            "A value is trying to be set on a copy of a slice from a DataFrame.\n",
            "Try using .loc[row_indexer,col_indexer] = value instead\n",
            "\n",
            "See the caveats in the documentation: https://pandas.pydata.org/pandas-docs/stable/user_guide/indexing.html#returning-a-view-versus-a-copy\n",
            "  data['tokenized_utterance'] = data['utterance_without_punc'].apply(word_tokenize)\n"
          ]
        },
        {
          "output_type": "execute_result",
          "data": {
            "text/plain": [
              "                                           Utterance  \\\n",
              "0  also I was the point person on my company’s tr...   \n",
              "1                   You must’ve had your hands full.   \n",
              "2                            That I did. That I did.   \n",
              "3      So let’s talk a little bit about your duties.   \n",
              "4                             My duties?  All right.   \n",
              "\n",
              "                                 lowercase_utterance  \\\n",
              "0  also i was the point person on my company’s tr...   \n",
              "1                   you must’ve had your hands full.   \n",
              "2                            that i did. that i did.   \n",
              "3      so let’s talk a little bit about your duties.   \n",
              "4                              my duties? all right.   \n",
              "\n",
              "                              utterance_without_punc  \\\n",
              "0  also i was the point person on my company s tr...   \n",
              "1                   you must ve had your hands full    \n",
              "2                            that i did  that i did    \n",
              "3      so let s talk a little bit about your duties    \n",
              "4                              my duties  all right    \n",
              "\n",
              "                                 tokenized_utterance  \n",
              "0  [also, i, was, the, point, person, on, my, com...  \n",
              "1            [you, must, ve, had, your, hands, full]  \n",
              "2                       [that, i, did, that, i, did]  \n",
              "3  [so, let, s, talk, a, little, bit, about, your...  \n",
              "4                           [my, duties, all, right]  "
            ],
            "text/html": [
              "\n",
              "  <div id=\"df-b185b0c1-504b-4b9d-b918-6b171c795183\">\n",
              "    <div class=\"colab-df-container\">\n",
              "      <div>\n",
              "<style scoped>\n",
              "    .dataframe tbody tr th:only-of-type {\n",
              "        vertical-align: middle;\n",
              "    }\n",
              "\n",
              "    .dataframe tbody tr th {\n",
              "        vertical-align: top;\n",
              "    }\n",
              "\n",
              "    .dataframe thead th {\n",
              "        text-align: right;\n",
              "    }\n",
              "</style>\n",
              "<table border=\"1\" class=\"dataframe\">\n",
              "  <thead>\n",
              "    <tr style=\"text-align: right;\">\n",
              "      <th></th>\n",
              "      <th>Utterance</th>\n",
              "      <th>lowercase_utterance</th>\n",
              "      <th>utterance_without_punc</th>\n",
              "      <th>tokenized_utterance</th>\n",
              "    </tr>\n",
              "  </thead>\n",
              "  <tbody>\n",
              "    <tr>\n",
              "      <th>0</th>\n",
              "      <td>also I was the point person on my company’s tr...</td>\n",
              "      <td>also i was the point person on my company’s tr...</td>\n",
              "      <td>also i was the point person on my company s tr...</td>\n",
              "      <td>[also, i, was, the, point, person, on, my, com...</td>\n",
              "    </tr>\n",
              "    <tr>\n",
              "      <th>1</th>\n",
              "      <td>You must’ve had your hands full.</td>\n",
              "      <td>you must’ve had your hands full.</td>\n",
              "      <td>you must ve had your hands full</td>\n",
              "      <td>[you, must, ve, had, your, hands, full]</td>\n",
              "    </tr>\n",
              "    <tr>\n",
              "      <th>2</th>\n",
              "      <td>That I did. That I did.</td>\n",
              "      <td>that i did. that i did.</td>\n",
              "      <td>that i did  that i did</td>\n",
              "      <td>[that, i, did, that, i, did]</td>\n",
              "    </tr>\n",
              "    <tr>\n",
              "      <th>3</th>\n",
              "      <td>So let’s talk a little bit about your duties.</td>\n",
              "      <td>so let’s talk a little bit about your duties.</td>\n",
              "      <td>so let s talk a little bit about your duties</td>\n",
              "      <td>[so, let, s, talk, a, little, bit, about, your...</td>\n",
              "    </tr>\n",
              "    <tr>\n",
              "      <th>4</th>\n",
              "      <td>My duties?  All right.</td>\n",
              "      <td>my duties? all right.</td>\n",
              "      <td>my duties  all right</td>\n",
              "      <td>[my, duties, all, right]</td>\n",
              "    </tr>\n",
              "  </tbody>\n",
              "</table>\n",
              "</div>\n",
              "      <button class=\"colab-df-convert\" onclick=\"convertToInteractive('df-b185b0c1-504b-4b9d-b918-6b171c795183')\"\n",
              "              title=\"Convert this dataframe to an interactive table.\"\n",
              "              style=\"display:none;\">\n",
              "        \n",
              "  <svg xmlns=\"http://www.w3.org/2000/svg\" height=\"24px\"viewBox=\"0 0 24 24\"\n",
              "       width=\"24px\">\n",
              "    <path d=\"M0 0h24v24H0V0z\" fill=\"none\"/>\n",
              "    <path d=\"M18.56 5.44l.94 2.06.94-2.06 2.06-.94-2.06-.94-.94-2.06-.94 2.06-2.06.94zm-11 1L8.5 8.5l.94-2.06 2.06-.94-2.06-.94L8.5 2.5l-.94 2.06-2.06.94zm10 10l.94 2.06.94-2.06 2.06-.94-2.06-.94-.94-2.06-.94 2.06-2.06.94z\"/><path d=\"M17.41 7.96l-1.37-1.37c-.4-.4-.92-.59-1.43-.59-.52 0-1.04.2-1.43.59L10.3 9.45l-7.72 7.72c-.78.78-.78 2.05 0 2.83L4 21.41c.39.39.9.59 1.41.59.51 0 1.02-.2 1.41-.59l7.78-7.78 2.81-2.81c.8-.78.8-2.07 0-2.86zM5.41 20L4 18.59l7.72-7.72 1.47 1.35L5.41 20z\"/>\n",
              "  </svg>\n",
              "      </button>\n",
              "      \n",
              "  <style>\n",
              "    .colab-df-container {\n",
              "      display:flex;\n",
              "      flex-wrap:wrap;\n",
              "      gap: 12px;\n",
              "    }\n",
              "\n",
              "    .colab-df-convert {\n",
              "      background-color: #E8F0FE;\n",
              "      border: none;\n",
              "      border-radius: 50%;\n",
              "      cursor: pointer;\n",
              "      display: none;\n",
              "      fill: #1967D2;\n",
              "      height: 32px;\n",
              "      padding: 0 0 0 0;\n",
              "      width: 32px;\n",
              "    }\n",
              "\n",
              "    .colab-df-convert:hover {\n",
              "      background-color: #E2EBFA;\n",
              "      box-shadow: 0px 1px 2px rgba(60, 64, 67, 0.3), 0px 1px 3px 1px rgba(60, 64, 67, 0.15);\n",
              "      fill: #174EA6;\n",
              "    }\n",
              "\n",
              "    [theme=dark] .colab-df-convert {\n",
              "      background-color: #3B4455;\n",
              "      fill: #D2E3FC;\n",
              "    }\n",
              "\n",
              "    [theme=dark] .colab-df-convert:hover {\n",
              "      background-color: #434B5C;\n",
              "      box-shadow: 0px 1px 3px 1px rgba(0, 0, 0, 0.15);\n",
              "      filter: drop-shadow(0px 1px 2px rgba(0, 0, 0, 0.3));\n",
              "      fill: #FFFFFF;\n",
              "    }\n",
              "  </style>\n",
              "\n",
              "      <script>\n",
              "        const buttonEl =\n",
              "          document.querySelector('#df-b185b0c1-504b-4b9d-b918-6b171c795183 button.colab-df-convert');\n",
              "        buttonEl.style.display =\n",
              "          google.colab.kernel.accessAllowed ? 'block' : 'none';\n",
              "\n",
              "        async function convertToInteractive(key) {\n",
              "          const element = document.querySelector('#df-b185b0c1-504b-4b9d-b918-6b171c795183');\n",
              "          const dataTable =\n",
              "            await google.colab.kernel.invokeFunction('convertToInteractive',\n",
              "                                                     [key], {});\n",
              "          if (!dataTable) return;\n",
              "\n",
              "          const docLinkHtml = 'Like what you see? Visit the ' +\n",
              "            '<a target=\"_blank\" href=https://colab.research.google.com/notebooks/data_table.ipynb>data table notebook</a>'\n",
              "            + ' to learn more about interactive tables.';\n",
              "          element.innerHTML = '';\n",
              "          dataTable['output_type'] = 'display_data';\n",
              "          await google.colab.output.renderOutput(dataTable, element);\n",
              "          const docLink = document.createElement('div');\n",
              "          docLink.innerHTML = docLinkHtml;\n",
              "          element.appendChild(docLink);\n",
              "        }\n",
              "      </script>\n",
              "    </div>\n",
              "  </div>\n",
              "  "
            ]
          },
          "metadata": {},
          "execution_count": 14
        }
      ],
      "source": [
        "data['tokenized_utterance'] = data['utterance_without_punc'].apply(word_tokenize)\n",
        "data[['Utterance', 'lowercase_utterance', 'utterance_without_punc', 'tokenized_utterance']].head()"
      ]
    },
    {
      "cell_type": "markdown",
      "metadata": {
        "id": "XvUlaeuaKa7F"
      },
      "source": [
        "Word tokenization will split the words making it easier to work with"
      ]
    },
    {
      "cell_type": "markdown",
      "metadata": {
        "id": "GCCDFiA27J7D"
      },
      "source": [
        "### Remove Stop Words\n",
        "\n",
        "\n",
        "\n",
        "To remove the stopwords, we will use the Naural Language Tool Kit (NLTK) library. Firstly, we will divide our text data into words, compare them to list of stopwords available in the corpus module of this library and finally, remove them if it exists in the list. "
      ]
    },
    {
      "cell_type": "code",
      "execution_count": null,
      "metadata": {
        "id": "lJBVQxGG7OKk"
      },
      "outputs": [],
      "source": [
        "#importing necessary library\n",
        "from nltk.corpus import stopwords"
      ]
    },
    {
      "cell_type": "code",
      "execution_count": null,
      "metadata": {
        "colab": {
          "base_uri": "https://localhost:8080/"
        },
        "id": "Qi7sf7PY8wOa",
        "outputId": "399f332d-3877-437a-98f0-b23f505eb59b"
      },
      "outputs": [
        {
          "output_type": "stream",
          "name": "stderr",
          "text": [
            "[nltk_data] Downloading package stopwords to /root/nltk_data...\n",
            "[nltk_data]   Unzipping corpora/stopwords.zip.\n"
          ]
        },
        {
          "output_type": "execute_result",
          "data": {
            "text/plain": [
              "True"
            ]
          },
          "metadata": {},
          "execution_count": 16
        }
      ],
      "source": [
        "#downloading the 'stopwords' in nltk library\n",
        "nltk.download('stopwords')"
      ]
    },
    {
      "cell_type": "code",
      "execution_count": null,
      "metadata": {
        "id": "gZA_b6mM88os"
      },
      "outputs": [],
      "source": [
        "#declare stop words\n",
        "stopWords = stopwords.words('english')"
      ]
    },
    {
      "cell_type": "markdown",
      "metadata": {
        "id": "3cIAz1dDB3_Q"
      },
      "source": [
        "We can see the list of predefined stopwords available in the NLTK library above. "
      ]
    },
    {
      "cell_type": "code",
      "execution_count": null,
      "metadata": {
        "colab": {
          "base_uri": "https://localhost:8080/",
          "height": 510
        },
        "id": "irtL5rdPWl-L",
        "outputId": "1d635871-1d62-43a4-de35-00b88dc3b3d7"
      },
      "outputs": [
        {
          "output_type": "stream",
          "name": "stderr",
          "text": [
            "<ipython-input-18-19206ff08df3>:1: SettingWithCopyWarning: \n",
            "A value is trying to be set on a copy of a slice from a DataFrame.\n",
            "Try using .loc[row_indexer,col_indexer] = value instead\n",
            "\n",
            "See the caveats in the documentation: https://pandas.pydata.org/pandas-docs/stable/user_guide/indexing.html#returning-a-view-versus-a-copy\n",
            "  data['cleaned_utterance'] = data['tokenized_utterance'].apply(lambda x: [word for word in x if word not in (stopWords)])\n",
            "<ipython-input-18-19206ff08df3>:2: SettingWithCopyWarning: \n",
            "A value is trying to be set on a copy of a slice from a DataFrame.\n",
            "Try using .loc[row_indexer,col_indexer] = value instead\n",
            "\n",
            "See the caveats in the documentation: https://pandas.pydata.org/pandas-docs/stable/user_guide/indexing.html#returning-a-view-versus-a-copy\n",
            "  data['cleaned_utterance'] = data['tokenized_utterance'].apply(lambda x: \" \".join(x) if len(x)>1 else None)\n"
          ]
        },
        {
          "output_type": "execute_result",
          "data": {
            "text/plain": [
              "                                           Utterance  \\\n",
              "0  also I was the point person on my company’s tr...   \n",
              "1                   You must’ve had your hands full.   \n",
              "2                            That I did. That I did.   \n",
              "3      So let’s talk a little bit about your duties.   \n",
              "4                             My duties?  All right.   \n",
              "\n",
              "                                 lowercase_utterance  \\\n",
              "0  also i was the point person on my company’s tr...   \n",
              "1                   you must’ve had your hands full.   \n",
              "2                            that i did. that i did.   \n",
              "3      so let’s talk a little bit about your duties.   \n",
              "4                              my duties? all right.   \n",
              "\n",
              "                              utterance_without_punc  \\\n",
              "0  also i was the point person on my company s tr...   \n",
              "1                   you must ve had your hands full    \n",
              "2                            that i did  that i did    \n",
              "3      so let s talk a little bit about your duties    \n",
              "4                              my duties  all right    \n",
              "\n",
              "                                 tokenized_utterance  \\\n",
              "0  [also, i, was, the, point, person, on, my, com...   \n",
              "1            [you, must, ve, had, your, hands, full]   \n",
              "2                       [that, i, did, that, i, did]   \n",
              "3  [so, let, s, talk, a, little, bit, about, your...   \n",
              "4                           [my, duties, all, right]   \n",
              "\n",
              "                                   cleaned_utterance  \n",
              "0  also i was the point person on my company s tr...  \n",
              "1                    you must ve had your hands full  \n",
              "2                              that i did that i did  \n",
              "3       so let s talk a little bit about your duties  \n",
              "4                                my duties all right  "
            ],
            "text/html": [
              "\n",
              "  <div id=\"df-3a4e92e4-e8cc-4e47-95c8-c711c733a17d\">\n",
              "    <div class=\"colab-df-container\">\n",
              "      <div>\n",
              "<style scoped>\n",
              "    .dataframe tbody tr th:only-of-type {\n",
              "        vertical-align: middle;\n",
              "    }\n",
              "\n",
              "    .dataframe tbody tr th {\n",
              "        vertical-align: top;\n",
              "    }\n",
              "\n",
              "    .dataframe thead th {\n",
              "        text-align: right;\n",
              "    }\n",
              "</style>\n",
              "<table border=\"1\" class=\"dataframe\">\n",
              "  <thead>\n",
              "    <tr style=\"text-align: right;\">\n",
              "      <th></th>\n",
              "      <th>Utterance</th>\n",
              "      <th>lowercase_utterance</th>\n",
              "      <th>utterance_without_punc</th>\n",
              "      <th>tokenized_utterance</th>\n",
              "      <th>cleaned_utterance</th>\n",
              "    </tr>\n",
              "  </thead>\n",
              "  <tbody>\n",
              "    <tr>\n",
              "      <th>0</th>\n",
              "      <td>also I was the point person on my company’s tr...</td>\n",
              "      <td>also i was the point person on my company’s tr...</td>\n",
              "      <td>also i was the point person on my company s tr...</td>\n",
              "      <td>[also, i, was, the, point, person, on, my, com...</td>\n",
              "      <td>also i was the point person on my company s tr...</td>\n",
              "    </tr>\n",
              "    <tr>\n",
              "      <th>1</th>\n",
              "      <td>You must’ve had your hands full.</td>\n",
              "      <td>you must’ve had your hands full.</td>\n",
              "      <td>you must ve had your hands full</td>\n",
              "      <td>[you, must, ve, had, your, hands, full]</td>\n",
              "      <td>you must ve had your hands full</td>\n",
              "    </tr>\n",
              "    <tr>\n",
              "      <th>2</th>\n",
              "      <td>That I did. That I did.</td>\n",
              "      <td>that i did. that i did.</td>\n",
              "      <td>that i did  that i did</td>\n",
              "      <td>[that, i, did, that, i, did]</td>\n",
              "      <td>that i did that i did</td>\n",
              "    </tr>\n",
              "    <tr>\n",
              "      <th>3</th>\n",
              "      <td>So let’s talk a little bit about your duties.</td>\n",
              "      <td>so let’s talk a little bit about your duties.</td>\n",
              "      <td>so let s talk a little bit about your duties</td>\n",
              "      <td>[so, let, s, talk, a, little, bit, about, your...</td>\n",
              "      <td>so let s talk a little bit about your duties</td>\n",
              "    </tr>\n",
              "    <tr>\n",
              "      <th>4</th>\n",
              "      <td>My duties?  All right.</td>\n",
              "      <td>my duties? all right.</td>\n",
              "      <td>my duties  all right</td>\n",
              "      <td>[my, duties, all, right]</td>\n",
              "      <td>my duties all right</td>\n",
              "    </tr>\n",
              "  </tbody>\n",
              "</table>\n",
              "</div>\n",
              "      <button class=\"colab-df-convert\" onclick=\"convertToInteractive('df-3a4e92e4-e8cc-4e47-95c8-c711c733a17d')\"\n",
              "              title=\"Convert this dataframe to an interactive table.\"\n",
              "              style=\"display:none;\">\n",
              "        \n",
              "  <svg xmlns=\"http://www.w3.org/2000/svg\" height=\"24px\"viewBox=\"0 0 24 24\"\n",
              "       width=\"24px\">\n",
              "    <path d=\"M0 0h24v24H0V0z\" fill=\"none\"/>\n",
              "    <path d=\"M18.56 5.44l.94 2.06.94-2.06 2.06-.94-2.06-.94-.94-2.06-.94 2.06-2.06.94zm-11 1L8.5 8.5l.94-2.06 2.06-.94-2.06-.94L8.5 2.5l-.94 2.06-2.06.94zm10 10l.94 2.06.94-2.06 2.06-.94-2.06-.94-.94-2.06-.94 2.06-2.06.94z\"/><path d=\"M17.41 7.96l-1.37-1.37c-.4-.4-.92-.59-1.43-.59-.52 0-1.04.2-1.43.59L10.3 9.45l-7.72 7.72c-.78.78-.78 2.05 0 2.83L4 21.41c.39.39.9.59 1.41.59.51 0 1.02-.2 1.41-.59l7.78-7.78 2.81-2.81c.8-.78.8-2.07 0-2.86zM5.41 20L4 18.59l7.72-7.72 1.47 1.35L5.41 20z\"/>\n",
              "  </svg>\n",
              "      </button>\n",
              "      \n",
              "  <style>\n",
              "    .colab-df-container {\n",
              "      display:flex;\n",
              "      flex-wrap:wrap;\n",
              "      gap: 12px;\n",
              "    }\n",
              "\n",
              "    .colab-df-convert {\n",
              "      background-color: #E8F0FE;\n",
              "      border: none;\n",
              "      border-radius: 50%;\n",
              "      cursor: pointer;\n",
              "      display: none;\n",
              "      fill: #1967D2;\n",
              "      height: 32px;\n",
              "      padding: 0 0 0 0;\n",
              "      width: 32px;\n",
              "    }\n",
              "\n",
              "    .colab-df-convert:hover {\n",
              "      background-color: #E2EBFA;\n",
              "      box-shadow: 0px 1px 2px rgba(60, 64, 67, 0.3), 0px 1px 3px 1px rgba(60, 64, 67, 0.15);\n",
              "      fill: #174EA6;\n",
              "    }\n",
              "\n",
              "    [theme=dark] .colab-df-convert {\n",
              "      background-color: #3B4455;\n",
              "      fill: #D2E3FC;\n",
              "    }\n",
              "\n",
              "    [theme=dark] .colab-df-convert:hover {\n",
              "      background-color: #434B5C;\n",
              "      box-shadow: 0px 1px 3px 1px rgba(0, 0, 0, 0.15);\n",
              "      filter: drop-shadow(0px 1px 2px rgba(0, 0, 0, 0.3));\n",
              "      fill: #FFFFFF;\n",
              "    }\n",
              "  </style>\n",
              "\n",
              "      <script>\n",
              "        const buttonEl =\n",
              "          document.querySelector('#df-3a4e92e4-e8cc-4e47-95c8-c711c733a17d button.colab-df-convert');\n",
              "        buttonEl.style.display =\n",
              "          google.colab.kernel.accessAllowed ? 'block' : 'none';\n",
              "\n",
              "        async function convertToInteractive(key) {\n",
              "          const element = document.querySelector('#df-3a4e92e4-e8cc-4e47-95c8-c711c733a17d');\n",
              "          const dataTable =\n",
              "            await google.colab.kernel.invokeFunction('convertToInteractive',\n",
              "                                                     [key], {});\n",
              "          if (!dataTable) return;\n",
              "\n",
              "          const docLinkHtml = 'Like what you see? Visit the ' +\n",
              "            '<a target=\"_blank\" href=https://colab.research.google.com/notebooks/data_table.ipynb>data table notebook</a>'\n",
              "            + ' to learn more about interactive tables.';\n",
              "          element.innerHTML = '';\n",
              "          dataTable['output_type'] = 'display_data';\n",
              "          await google.colab.output.renderOutput(dataTable, element);\n",
              "          const docLink = document.createElement('div');\n",
              "          docLink.innerHTML = docLinkHtml;\n",
              "          element.appendChild(docLink);\n",
              "        }\n",
              "      </script>\n",
              "    </div>\n",
              "  </div>\n",
              "  "
            ]
          },
          "metadata": {},
          "execution_count": 18
        }
      ],
      "source": [
        "data['cleaned_utterance'] = data['tokenized_utterance'].apply(lambda x: [word for word in x if word not in (stopWords)])\n",
        "data['cleaned_utterance'] = data['tokenized_utterance'].apply(lambda x: \" \".join(x) if len(x)>1 else None)\n",
        "data[['Utterance', 'lowercase_utterance', 'utterance_without_punc', 'tokenized_utterance', 'cleaned_utterance']].head()"
      ]
    },
    {
      "cell_type": "markdown",
      "metadata": {
        "id": "8oBTOfKxK8pT"
      },
      "source": [
        "We can see in the first line that stop words like: 'what' , 'you' , 'for', etc have been removed, in the table above. The same applies to every row of the table."
      ]
    },
    {
      "cell_type": "code",
      "source": [
        "# check for null values after we apply all pre-processing techniques\n",
        "data.isnull().sum()"
      ],
      "metadata": {
        "id": "WnYkIEsS8QjL",
        "colab": {
          "base_uri": "https://localhost:8080/"
        },
        "outputId": "fbbdb936-c88b-44bb-c78f-19c317c26ea1"
      },
      "execution_count": null,
      "outputs": [
        {
          "output_type": "execute_result",
          "data": {
            "text/plain": [
              "Utterance                    0\n",
              "Sentiment                    0\n",
              "lowercase_utterance          0\n",
              "utterance_without_punc       0\n",
              "tokenized_utterance          0\n",
              "cleaned_utterance         1555\n",
              "dtype: int64"
            ]
          },
          "metadata": {},
          "execution_count": 19
        }
      ]
    },
    {
      "cell_type": "markdown",
      "source": [
        "We can see that there are 1555 records with NULL values after we applied pre-processing. This means they are no-longer adding value to our analysis. Thus, we will drop these records as well"
      ],
      "metadata": {
        "id": "iPo81bhOOLhT"
      }
    },
    {
      "cell_type": "code",
      "execution_count": null,
      "metadata": {
        "colab": {
          "base_uri": "https://localhost:8080/"
        },
        "id": "8f4Qc_zTEsp4",
        "outputId": "3030aa9d-969e-42e1-83ed-9d93167f0a5d"
      },
      "outputs": [
        {
          "output_type": "stream",
          "name": "stderr",
          "text": [
            "/usr/local/lib/python3.8/dist-packages/pandas/util/_decorators.py:311: SettingWithCopyWarning: \n",
            "A value is trying to be set on a copy of a slice from a DataFrame\n",
            "\n",
            "See the caveats in the documentation: https://pandas.pydata.org/pandas-docs/stable/user_guide/indexing.html#returning-a-view-versus-a-copy\n",
            "  return func(*args, **kwargs)\n"
          ]
        }
      ],
      "source": [
        "# Drop all NULL values rows\n",
        "data.dropna(axis=0, inplace=True)"
      ]
    },
    {
      "cell_type": "markdown",
      "metadata": {
        "id": "T_cvwSVxN379"
      },
      "source": [
        "## Feature Extraction\n",
        "Feature Extraction is the process of extracting useful features necessary for training our machine learning model by using several techniques. It is also an important step in any pattern recognition and machine learning project because:\n",
        "1. Feature extraction helps to identify the useful features reducing the dimension of features to be used in training machine learning model. Thus, this also reduces compational complexity at the end.\n",
        "2. It helps to derive new features which might be more meaningful for our analysis by using the existing set of features.\n",
        "3. It helps to select or derive features which will help our machine learning model to learn more from the data.\n",
        "There are different techniques followed for feature extraction which ultimately depends on the nature of project. For NLP based project, most popular methods of feature extraction are:\n",
        "  - Bag of Words\n",
        "  - TF-IDF\n",
        "  - Word2vec\n",
        "\n",
        "We have used three different feature extraction method mentioned above and trained our SVM model to see how the model performs using different features.\n",
        "\n",
        "REFERENCES:\n",
        "https://www.geeksforgeeks.org/feature-extraction-techniques-nlp/\n",
        "\n",
        "https://www.analyticsvidhya.com/blog/2021/07/feature-extraction-and-embeddings-in-nlp-a-beginners-guide-to-understand-natural-language-processing/\n"
      ]
    },
    {
      "cell_type": "markdown",
      "source": [
        "### Bag of Words (BOW) features"
      ],
      "metadata": {
        "id": "NdVaVPFsDWQO"
      }
    },
    {
      "cell_type": "code",
      "execution_count": null,
      "metadata": {
        "id": "1kVvIAEVN25x"
      },
      "outputs": [],
      "source": [
        "# Feature Extraction Using Bag of Words\n",
        "from sklearn.feature_extraction.text import CountVectorizer\n",
        "\n",
        "# creating the feature matrix \n",
        "\n",
        "bow_matrix = CountVectorizer()\n",
        "bow_features = bow_matrix.fit_transform(data['cleaned_utterance']).toarray()"
      ]
    },
    {
      "cell_type": "code",
      "source": [
        "data[[\"Sentiment\", \"cleaned_utterance\"]].head()"
      ],
      "metadata": {
        "colab": {
          "base_uri": "https://localhost:8080/",
          "height": 206
        },
        "id": "oi0rigBm9veO",
        "outputId": "63911e4d-08ff-4a2f-fc68-424be980f5e6"
      },
      "execution_count": null,
      "outputs": [
        {
          "output_type": "execute_result",
          "data": {
            "text/plain": [
              "  Sentiment                                  cleaned_utterance\n",
              "0   neutral  also i was the point person on my company s tr...\n",
              "1   neutral                    you must ve had your hands full\n",
              "2   neutral                              that i did that i did\n",
              "3   neutral       so let s talk a little bit about your duties\n",
              "4  positive                                my duties all right"
            ],
            "text/html": [
              "\n",
              "  <div id=\"df-d5c7b158-7594-49e8-b371-31e00c05af63\">\n",
              "    <div class=\"colab-df-container\">\n",
              "      <div>\n",
              "<style scoped>\n",
              "    .dataframe tbody tr th:only-of-type {\n",
              "        vertical-align: middle;\n",
              "    }\n",
              "\n",
              "    .dataframe tbody tr th {\n",
              "        vertical-align: top;\n",
              "    }\n",
              "\n",
              "    .dataframe thead th {\n",
              "        text-align: right;\n",
              "    }\n",
              "</style>\n",
              "<table border=\"1\" class=\"dataframe\">\n",
              "  <thead>\n",
              "    <tr style=\"text-align: right;\">\n",
              "      <th></th>\n",
              "      <th>Sentiment</th>\n",
              "      <th>cleaned_utterance</th>\n",
              "    </tr>\n",
              "  </thead>\n",
              "  <tbody>\n",
              "    <tr>\n",
              "      <th>0</th>\n",
              "      <td>neutral</td>\n",
              "      <td>also i was the point person on my company s tr...</td>\n",
              "    </tr>\n",
              "    <tr>\n",
              "      <th>1</th>\n",
              "      <td>neutral</td>\n",
              "      <td>you must ve had your hands full</td>\n",
              "    </tr>\n",
              "    <tr>\n",
              "      <th>2</th>\n",
              "      <td>neutral</td>\n",
              "      <td>that i did that i did</td>\n",
              "    </tr>\n",
              "    <tr>\n",
              "      <th>3</th>\n",
              "      <td>neutral</td>\n",
              "      <td>so let s talk a little bit about your duties</td>\n",
              "    </tr>\n",
              "    <tr>\n",
              "      <th>4</th>\n",
              "      <td>positive</td>\n",
              "      <td>my duties all right</td>\n",
              "    </tr>\n",
              "  </tbody>\n",
              "</table>\n",
              "</div>\n",
              "      <button class=\"colab-df-convert\" onclick=\"convertToInteractive('df-d5c7b158-7594-49e8-b371-31e00c05af63')\"\n",
              "              title=\"Convert this dataframe to an interactive table.\"\n",
              "              style=\"display:none;\">\n",
              "        \n",
              "  <svg xmlns=\"http://www.w3.org/2000/svg\" height=\"24px\"viewBox=\"0 0 24 24\"\n",
              "       width=\"24px\">\n",
              "    <path d=\"M0 0h24v24H0V0z\" fill=\"none\"/>\n",
              "    <path d=\"M18.56 5.44l.94 2.06.94-2.06 2.06-.94-2.06-.94-.94-2.06-.94 2.06-2.06.94zm-11 1L8.5 8.5l.94-2.06 2.06-.94-2.06-.94L8.5 2.5l-.94 2.06-2.06.94zm10 10l.94 2.06.94-2.06 2.06-.94-2.06-.94-.94-2.06-.94 2.06-2.06.94z\"/><path d=\"M17.41 7.96l-1.37-1.37c-.4-.4-.92-.59-1.43-.59-.52 0-1.04.2-1.43.59L10.3 9.45l-7.72 7.72c-.78.78-.78 2.05 0 2.83L4 21.41c.39.39.9.59 1.41.59.51 0 1.02-.2 1.41-.59l7.78-7.78 2.81-2.81c.8-.78.8-2.07 0-2.86zM5.41 20L4 18.59l7.72-7.72 1.47 1.35L5.41 20z\"/>\n",
              "  </svg>\n",
              "      </button>\n",
              "      \n",
              "  <style>\n",
              "    .colab-df-container {\n",
              "      display:flex;\n",
              "      flex-wrap:wrap;\n",
              "      gap: 12px;\n",
              "    }\n",
              "\n",
              "    .colab-df-convert {\n",
              "      background-color: #E8F0FE;\n",
              "      border: none;\n",
              "      border-radius: 50%;\n",
              "      cursor: pointer;\n",
              "      display: none;\n",
              "      fill: #1967D2;\n",
              "      height: 32px;\n",
              "      padding: 0 0 0 0;\n",
              "      width: 32px;\n",
              "    }\n",
              "\n",
              "    .colab-df-convert:hover {\n",
              "      background-color: #E2EBFA;\n",
              "      box-shadow: 0px 1px 2px rgba(60, 64, 67, 0.3), 0px 1px 3px 1px rgba(60, 64, 67, 0.15);\n",
              "      fill: #174EA6;\n",
              "    }\n",
              "\n",
              "    [theme=dark] .colab-df-convert {\n",
              "      background-color: #3B4455;\n",
              "      fill: #D2E3FC;\n",
              "    }\n",
              "\n",
              "    [theme=dark] .colab-df-convert:hover {\n",
              "      background-color: #434B5C;\n",
              "      box-shadow: 0px 1px 3px 1px rgba(0, 0, 0, 0.15);\n",
              "      filter: drop-shadow(0px 1px 2px rgba(0, 0, 0, 0.3));\n",
              "      fill: #FFFFFF;\n",
              "    }\n",
              "  </style>\n",
              "\n",
              "      <script>\n",
              "        const buttonEl =\n",
              "          document.querySelector('#df-d5c7b158-7594-49e8-b371-31e00c05af63 button.colab-df-convert');\n",
              "        buttonEl.style.display =\n",
              "          google.colab.kernel.accessAllowed ? 'block' : 'none';\n",
              "\n",
              "        async function convertToInteractive(key) {\n",
              "          const element = document.querySelector('#df-d5c7b158-7594-49e8-b371-31e00c05af63');\n",
              "          const dataTable =\n",
              "            await google.colab.kernel.invokeFunction('convertToInteractive',\n",
              "                                                     [key], {});\n",
              "          if (!dataTable) return;\n",
              "\n",
              "          const docLinkHtml = 'Like what you see? Visit the ' +\n",
              "            '<a target=\"_blank\" href=https://colab.research.google.com/notebooks/data_table.ipynb>data table notebook</a>'\n",
              "            + ' to learn more about interactive tables.';\n",
              "          element.innerHTML = '';\n",
              "          dataTable['output_type'] = 'display_data';\n",
              "          await google.colab.output.renderOutput(dataTable, element);\n",
              "          const docLink = document.createElement('div');\n",
              "          docLink.innerHTML = docLinkHtml;\n",
              "          element.appendChild(docLink);\n",
              "        }\n",
              "      </script>\n",
              "    </div>\n",
              "  </div>\n",
              "  "
            ]
          },
          "metadata": {},
          "execution_count": 22
        }
      ]
    },
    {
      "cell_type": "code",
      "source": [
        "# Visualized BOW features\n",
        "bow_matrix.fit_transform([\"my duties all right\"]).toarray()"
      ],
      "metadata": {
        "colab": {
          "base_uri": "https://localhost:8080/"
        },
        "id": "PeIOwpnw-LjI",
        "outputId": "f37d748b-a406-47df-84e1-8ab789aad2ae"
      },
      "execution_count": null,
      "outputs": [
        {
          "output_type": "execute_result",
          "data": {
            "text/plain": [
              "array([[1, 1, 1, 1]])"
            ]
          },
          "metadata": {},
          "execution_count": 73
        }
      ]
    },
    {
      "cell_type": "code",
      "source": [
        "bow_matrix.fit_transform([\"so let s talk a little bit about your duties\"]).toarray()"
      ],
      "metadata": {
        "colab": {
          "base_uri": "https://localhost:8080/"
        },
        "id": "VoTHT1LB-Wwi",
        "outputId": "c9210ac4-b23a-4c71-c88f-52fda7b1aecf"
      },
      "execution_count": null,
      "outputs": [
        {
          "output_type": "execute_result",
          "data": {
            "text/plain": [
              "array([[1, 1, 1, 1, 1, 1, 1, 1]])"
            ]
          },
          "metadata": {},
          "execution_count": 74
        }
      ]
    },
    {
      "cell_type": "markdown",
      "source": [
        "### TF-IDF features"
      ],
      "metadata": {
        "id": "RcCnxQMlDaX5"
      }
    },
    {
      "cell_type": "code",
      "execution_count": null,
      "metadata": {
        "id": "iza170yjpIH2"
      },
      "outputs": [],
      "source": [
        "# Feature Extraction Using TF-IDF\n",
        "from sklearn.feature_extraction.text import TfidfVectorizer\n",
        "\n",
        "# Creating the feature matrix\n",
        "tf_matrix = TfidfVectorizer()\n",
        "tf_features = tf_matrix.fit_transform(data['cleaned_utterance']).toarray()"
      ]
    },
    {
      "cell_type": "code",
      "source": [
        "# Visualize TF-IDF features\n",
        "tf_matrix.fit_transform([\"my duties all right\"]).toarray()"
      ],
      "metadata": {
        "colab": {
          "base_uri": "https://localhost:8080/"
        },
        "id": "pIVtpk8a_KoM",
        "outputId": "5ffe516f-9dad-4f12-b513-00e67bad7ac1"
      },
      "execution_count": null,
      "outputs": [
        {
          "output_type": "execute_result",
          "data": {
            "text/plain": [
              "array([[0.5, 0.5, 0.5, 0.5]])"
            ]
          },
          "metadata": {},
          "execution_count": 76
        }
      ]
    },
    {
      "cell_type": "code",
      "source": [
        "tf_matrix.fit_transform([\"so let s talk a little bit about your duties\"]).toarray()"
      ],
      "metadata": {
        "colab": {
          "base_uri": "https://localhost:8080/"
        },
        "id": "5I3zBf8n_UCp",
        "outputId": "62fbb696-1144-4422-e106-4b68f4bd0c86"
      },
      "execution_count": null,
      "outputs": [
        {
          "output_type": "execute_result",
          "data": {
            "text/plain": [
              "array([[0.35355339, 0.35355339, 0.35355339, 0.35355339, 0.35355339,\n",
              "        0.35355339, 0.35355339, 0.35355339]])"
            ]
          },
          "metadata": {},
          "execution_count": 77
        }
      ]
    },
    {
      "cell_type": "markdown",
      "source": [
        "### Word2Vec Features"
      ],
      "metadata": {
        "id": "7CtEIKYdDeTu"
      }
    },
    {
      "cell_type": "code",
      "source": [
        "data[\"cleaned_utterance_list\"] = data.cleaned_utterance.str[1:-1].str.split(' ').tolist()"
      ],
      "metadata": {
        "id": "BqRUMZuqScyn"
      },
      "execution_count": null,
      "outputs": []
    },
    {
      "cell_type": "code",
      "execution_count": null,
      "metadata": {
        "id": "FW-A0dDfqpNs"
      },
      "outputs": [],
      "source": [
        "# Feature Extraction Using Word2Vec\n",
        "\n",
        "from gensim.models import Word2Vec\n",
        "\n",
        "word2vec_model = Word2Vec(data['cleaned_utterance_list'],##list of sentences, if you don;t have all the data in RAM, you can give file name to corpus_file \n",
        "                          size=1000, ##output size of word emebedding \n",
        "                          window=4, ##window size\n",
        "                          min_count=1, ## ignors all the words with total frquency lower than this\n",
        "                          workers=5, ##number of workers to use\n",
        "                          sg=1, ## skip gram\n",
        "                          hs=0, ## 1 --> hierarchical, 0 --> Negative sampling\n",
        "                          negative=5, ##How many negative samples\n",
        "                          alpha=0.03, ##The initial learning rate\n",
        "                          min_alpha=0.0001, ##Learning rate will linearly drop\\\n",
        "                          #to min_alpha as training progresses.\n",
        "                          seed = 54, ##random seed\n",
        "                          iter=10,\n",
        "                         compute_loss=True)##number of iterations\n"
      ]
    },
    {
      "cell_type": "code",
      "source": [
        "data.head()"
      ],
      "metadata": {
        "colab": {
          "base_uri": "https://localhost:8080/",
          "height": 389
        },
        "id": "2AvdgXG2CvIT",
        "outputId": "7d62864a-abc3-47b7-9224-f5de49389e54"
      },
      "execution_count": null,
      "outputs": [
        {
          "output_type": "execute_result",
          "data": {
            "text/plain": [
              "                                           Utterance Sentiment  \\\n",
              "0  also I was the point person on my company’s tr...   neutral   \n",
              "1                   You must’ve had your hands full.   neutral   \n",
              "2                            That I did. That I did.   neutral   \n",
              "3      So let’s talk a little bit about your duties.   neutral   \n",
              "4                             My duties?  All right.  positive   \n",
              "\n",
              "                                 lowercase_utterance  \\\n",
              "0  also i was the point person on my company’s tr...   \n",
              "1                   you must’ve had your hands full.   \n",
              "2                            that i did. that i did.   \n",
              "3      so let’s talk a little bit about your duties.   \n",
              "4                              my duties? all right.   \n",
              "\n",
              "                              utterance_without_punc  \\\n",
              "0  also i was the point person on my company s tr...   \n",
              "1                   you must ve had your hands full    \n",
              "2                            that i did  that i did    \n",
              "3      so let s talk a little bit about your duties    \n",
              "4                              my duties  all right    \n",
              "\n",
              "                                 tokenized_utterance  \\\n",
              "0  [also, i, was, the, point, person, on, my, com...   \n",
              "1            [you, must, ve, had, your, hands, full]   \n",
              "2                       [that, i, did, that, i, did]   \n",
              "3  [so, let, s, talk, a, little, bit, about, your...   \n",
              "4                           [my, duties, all, right]   \n",
              "\n",
              "                                   cleaned_utterance  \\\n",
              "0  also i was the point person on my company s tr...   \n",
              "1                    you must ve had your hands full   \n",
              "2                              that i did that i did   \n",
              "3       so let s talk a little bit about your duties   \n",
              "4                                my duties all right   \n",
              "\n",
              "                              cleaned_utterance_list  \n",
              "0  [lso, i, was, the, point, person, on, my, comp...  \n",
              "1              [ou, must, ve, had, your, hands, ful]  \n",
              "2                         [hat, i, did, that, i, di]  \n",
              "3  [o, let, s, talk, a, little, bit, about, your,...  \n",
              "4                             [y, duties, all, righ]  "
            ],
            "text/html": [
              "\n",
              "  <div id=\"df-2097fac7-f8a2-476b-98ed-6e82b5ff3e6c\">\n",
              "    <div class=\"colab-df-container\">\n",
              "      <div>\n",
              "<style scoped>\n",
              "    .dataframe tbody tr th:only-of-type {\n",
              "        vertical-align: middle;\n",
              "    }\n",
              "\n",
              "    .dataframe tbody tr th {\n",
              "        vertical-align: top;\n",
              "    }\n",
              "\n",
              "    .dataframe thead th {\n",
              "        text-align: right;\n",
              "    }\n",
              "</style>\n",
              "<table border=\"1\" class=\"dataframe\">\n",
              "  <thead>\n",
              "    <tr style=\"text-align: right;\">\n",
              "      <th></th>\n",
              "      <th>Utterance</th>\n",
              "      <th>Sentiment</th>\n",
              "      <th>lowercase_utterance</th>\n",
              "      <th>utterance_without_punc</th>\n",
              "      <th>tokenized_utterance</th>\n",
              "      <th>cleaned_utterance</th>\n",
              "      <th>cleaned_utterance_list</th>\n",
              "    </tr>\n",
              "  </thead>\n",
              "  <tbody>\n",
              "    <tr>\n",
              "      <th>0</th>\n",
              "      <td>also I was the point person on my company’s tr...</td>\n",
              "      <td>neutral</td>\n",
              "      <td>also i was the point person on my company’s tr...</td>\n",
              "      <td>also i was the point person on my company s tr...</td>\n",
              "      <td>[also, i, was, the, point, person, on, my, com...</td>\n",
              "      <td>also i was the point person on my company s tr...</td>\n",
              "      <td>[lso, i, was, the, point, person, on, my, comp...</td>\n",
              "    </tr>\n",
              "    <tr>\n",
              "      <th>1</th>\n",
              "      <td>You must’ve had your hands full.</td>\n",
              "      <td>neutral</td>\n",
              "      <td>you must’ve had your hands full.</td>\n",
              "      <td>you must ve had your hands full</td>\n",
              "      <td>[you, must, ve, had, your, hands, full]</td>\n",
              "      <td>you must ve had your hands full</td>\n",
              "      <td>[ou, must, ve, had, your, hands, ful]</td>\n",
              "    </tr>\n",
              "    <tr>\n",
              "      <th>2</th>\n",
              "      <td>That I did. That I did.</td>\n",
              "      <td>neutral</td>\n",
              "      <td>that i did. that i did.</td>\n",
              "      <td>that i did  that i did</td>\n",
              "      <td>[that, i, did, that, i, did]</td>\n",
              "      <td>that i did that i did</td>\n",
              "      <td>[hat, i, did, that, i, di]</td>\n",
              "    </tr>\n",
              "    <tr>\n",
              "      <th>3</th>\n",
              "      <td>So let’s talk a little bit about your duties.</td>\n",
              "      <td>neutral</td>\n",
              "      <td>so let’s talk a little bit about your duties.</td>\n",
              "      <td>so let s talk a little bit about your duties</td>\n",
              "      <td>[so, let, s, talk, a, little, bit, about, your...</td>\n",
              "      <td>so let s talk a little bit about your duties</td>\n",
              "      <td>[o, let, s, talk, a, little, bit, about, your,...</td>\n",
              "    </tr>\n",
              "    <tr>\n",
              "      <th>4</th>\n",
              "      <td>My duties?  All right.</td>\n",
              "      <td>positive</td>\n",
              "      <td>my duties? all right.</td>\n",
              "      <td>my duties  all right</td>\n",
              "      <td>[my, duties, all, right]</td>\n",
              "      <td>my duties all right</td>\n",
              "      <td>[y, duties, all, righ]</td>\n",
              "    </tr>\n",
              "  </tbody>\n",
              "</table>\n",
              "</div>\n",
              "      <button class=\"colab-df-convert\" onclick=\"convertToInteractive('df-2097fac7-f8a2-476b-98ed-6e82b5ff3e6c')\"\n",
              "              title=\"Convert this dataframe to an interactive table.\"\n",
              "              style=\"display:none;\">\n",
              "        \n",
              "  <svg xmlns=\"http://www.w3.org/2000/svg\" height=\"24px\"viewBox=\"0 0 24 24\"\n",
              "       width=\"24px\">\n",
              "    <path d=\"M0 0h24v24H0V0z\" fill=\"none\"/>\n",
              "    <path d=\"M18.56 5.44l.94 2.06.94-2.06 2.06-.94-2.06-.94-.94-2.06-.94 2.06-2.06.94zm-11 1L8.5 8.5l.94-2.06 2.06-.94-2.06-.94L8.5 2.5l-.94 2.06-2.06.94zm10 10l.94 2.06.94-2.06 2.06-.94-2.06-.94-.94-2.06-.94 2.06-2.06.94z\"/><path d=\"M17.41 7.96l-1.37-1.37c-.4-.4-.92-.59-1.43-.59-.52 0-1.04.2-1.43.59L10.3 9.45l-7.72 7.72c-.78.78-.78 2.05 0 2.83L4 21.41c.39.39.9.59 1.41.59.51 0 1.02-.2 1.41-.59l7.78-7.78 2.81-2.81c.8-.78.8-2.07 0-2.86zM5.41 20L4 18.59l7.72-7.72 1.47 1.35L5.41 20z\"/>\n",
              "  </svg>\n",
              "      </button>\n",
              "      \n",
              "  <style>\n",
              "    .colab-df-container {\n",
              "      display:flex;\n",
              "      flex-wrap:wrap;\n",
              "      gap: 12px;\n",
              "    }\n",
              "\n",
              "    .colab-df-convert {\n",
              "      background-color: #E8F0FE;\n",
              "      border: none;\n",
              "      border-radius: 50%;\n",
              "      cursor: pointer;\n",
              "      display: none;\n",
              "      fill: #1967D2;\n",
              "      height: 32px;\n",
              "      padding: 0 0 0 0;\n",
              "      width: 32px;\n",
              "    }\n",
              "\n",
              "    .colab-df-convert:hover {\n",
              "      background-color: #E2EBFA;\n",
              "      box-shadow: 0px 1px 2px rgba(60, 64, 67, 0.3), 0px 1px 3px 1px rgba(60, 64, 67, 0.15);\n",
              "      fill: #174EA6;\n",
              "    }\n",
              "\n",
              "    [theme=dark] .colab-df-convert {\n",
              "      background-color: #3B4455;\n",
              "      fill: #D2E3FC;\n",
              "    }\n",
              "\n",
              "    [theme=dark] .colab-df-convert:hover {\n",
              "      background-color: #434B5C;\n",
              "      box-shadow: 0px 1px 3px 1px rgba(0, 0, 0, 0.15);\n",
              "      filter: drop-shadow(0px 1px 2px rgba(0, 0, 0, 0.3));\n",
              "      fill: #FFFFFF;\n",
              "    }\n",
              "  </style>\n",
              "\n",
              "      <script>\n",
              "        const buttonEl =\n",
              "          document.querySelector('#df-2097fac7-f8a2-476b-98ed-6e82b5ff3e6c button.colab-df-convert');\n",
              "        buttonEl.style.display =\n",
              "          google.colab.kernel.accessAllowed ? 'block' : 'none';\n",
              "\n",
              "        async function convertToInteractive(key) {\n",
              "          const element = document.querySelector('#df-2097fac7-f8a2-476b-98ed-6e82b5ff3e6c');\n",
              "          const dataTable =\n",
              "            await google.colab.kernel.invokeFunction('convertToInteractive',\n",
              "                                                     [key], {});\n",
              "          if (!dataTable) return;\n",
              "\n",
              "          const docLinkHtml = 'Like what you see? Visit the ' +\n",
              "            '<a target=\"_blank\" href=https://colab.research.google.com/notebooks/data_table.ipynb>data table notebook</a>'\n",
              "            + ' to learn more about interactive tables.';\n",
              "          element.innerHTML = '';\n",
              "          dataTable['output_type'] = 'display_data';\n",
              "          await google.colab.output.renderOutput(dataTable, element);\n",
              "          const docLink = document.createElement('div');\n",
              "          docLink.innerHTML = docLinkHtml;\n",
              "          element.appendChild(docLink);\n",
              "        }\n",
              "      </script>\n",
              "    </div>\n",
              "  </div>\n",
              "  "
            ]
          },
          "metadata": {},
          "execution_count": 81
        }
      ]
    },
    {
      "cell_type": "code",
      "source": [
        "print(\"The word2vec features for utterance \\\"{0}\\\"\".\\\n",
        "      format(\" \".join(data.iloc[3, 2])))\n",
        "word2vec_features = word2vec_model.wv[data.iloc[3, -1]]\n",
        "word2vec_features"
      ],
      "metadata": {
        "colab": {
          "base_uri": "https://localhost:8080/"
        },
        "id": "V82t2vl7PbM0",
        "outputId": "eaff386a-e396-4102-dc77-b0ea39409b13"
      },
      "execution_count": null,
      "outputs": [
        {
          "output_type": "stream",
          "name": "stdout",
          "text": [
            "The word2vec features for utterance \"s o   l e t ’ s   t a l k   a   l i t t l e   b i t   a b o u t   y o u r   d u t i e s .\"\n"
          ]
        },
        {
          "output_type": "execute_result",
          "data": {
            "text/plain": [
              "array([[ 0.1330549 , -0.16355707,  0.11317386, ..., -0.03471365,\n",
              "         0.06891493, -0.2423047 ],\n",
              "       [-0.07925256, -0.22999685, -0.01559349, ...,  0.00083553,\n",
              "         0.08923047, -0.07365897],\n",
              "       [-0.05802983, -0.17406917,  0.04201366, ...,  0.0486402 ,\n",
              "         0.08641972, -0.14859465],\n",
              "       ...,\n",
              "       [ 0.02953228, -0.07548721, -0.02167794, ..., -0.07030132,\n",
              "         0.09404206, -0.10502516],\n",
              "       [-0.02639442, -0.04569157, -0.12111261, ..., -0.08817914,\n",
              "        -0.02029708, -0.15809456],\n",
              "       [-0.01632398,  0.01484693,  0.00733165, ..., -0.03208819,\n",
              "         0.0115808 , -0.05058937]], dtype=float32)"
            ]
          },
          "metadata": {},
          "execution_count": 82
        }
      ]
    },
    {
      "cell_type": "code",
      "source": [
        "# Store the vectors for data in following file\n",
        "word2vec_filename = \"PatternRecognition/\" + 'word2vec.csv'\n",
        "with open(word2vec_filename, 'w+') as word2vec_file:\n",
        "    for index, row in data.iterrows():\n",
        "        model_vector = (np.mean([word2vec_model[token] for token in row['cleaned_utterance_list']], axis=0)).tolist()\n",
        "        if index == 0:\n",
        "            header = \",\".join(str(ele) for ele in range(1000))\n",
        "            header = header +\",\" + \"Sentiment\"\n",
        "            word2vec_file.write(header)\n",
        "            word2vec_file.write(\"\\n\")\n",
        "        # Check if the line exists else it is vector of zeros\n",
        "        if type(model_vector) is list:  \n",
        "            line1 = \",\".join( [str(vector_element) for vector_element in model_vector] )\n",
        "            line1 = line1 + \",\" + row[\"Sentiment\"]\n",
        "        else:\n",
        "            line1 = \",\".join([str(0) for i in range(1000)])\n",
        "            line1 = line1 + \",\" + row[\"Sentiment\"]\n",
        "        word2vec_file.write(line1)\n",
        "        word2vec_file.write('\\n')"
      ],
      "metadata": {
        "colab": {
          "base_uri": "https://localhost:8080/"
        },
        "id": "TqfCFFefQ0cZ",
        "outputId": "579bf126-be74-44b5-a1bd-fca7e68bf851"
      },
      "execution_count": null,
      "outputs": [
        {
          "output_type": "stream",
          "name": "stderr",
          "text": [
            "/usr/local/lib/python3.7/dist-packages/ipykernel_launcher.py:5: DeprecationWarning: Call to deprecated `__getitem__` (Method will be removed in 4.0.0, use self.wv.__getitem__() instead).\n",
            "  \"\"\"\n"
          ]
        }
      ]
    },
    {
      "cell_type": "code",
      "source": [
        "word2vec_features = pd.read_csv(\"PatternRecognition/word2vec.csv\")"
      ],
      "metadata": {
        "id": "YmMm7K6qTKCa"
      },
      "execution_count": null,
      "outputs": []
    },
    {
      "cell_type": "code",
      "source": [
        "word2vec_features.head()"
      ],
      "metadata": {
        "colab": {
          "base_uri": "https://localhost:8080/",
          "height": 299
        },
        "id": "wDuwXBeJTZ8F",
        "outputId": "350db1a3-03cc-4c51-b400-f39eb4cf62e7"
      },
      "execution_count": null,
      "outputs": [
        {
          "output_type": "execute_result",
          "data": {
            "text/plain": [
              "          0         1         2         3         4         5         6  \\\n",
              "0  0.048207 -0.004277  0.062701 -0.073631  0.027275  0.003710 -0.069035   \n",
              "1  0.048055 -0.060263  0.099163 -0.078419  0.037886 -0.022325 -0.080933   \n",
              "2  0.072713 -0.047607  0.117641 -0.123075 -0.010092  0.016381 -0.064931   \n",
              "3  0.053971 -0.057757  0.081370 -0.118362  0.052273  0.006955 -0.087275   \n",
              "4  0.014256 -0.087074  0.098679 -0.063994 -0.004494 -0.027992 -0.067087   \n",
              "\n",
              "          7         8         9  ...       991       992       993       994  \\\n",
              "0 -0.029194  0.095515  0.018733  ... -0.042741 -0.013984  0.086986  0.007873   \n",
              "1 -0.000072  0.052236 -0.024549  ... -0.043753 -0.021736  0.080815  0.001617   \n",
              "2 -0.040833  0.080134  0.033509  ... -0.103538 -0.000858  0.170037 -0.006261   \n",
              "3  0.006062  0.104743  0.029499  ... -0.081745 -0.028842  0.119872  0.031083   \n",
              "4 -0.010328  0.080664  0.021614  ... -0.077703 -0.077672  0.048772  0.076154   \n",
              "\n",
              "        995       996       997       998       999  Sentiment  \n",
              "0 -0.054118  0.006866  0.003887  0.044458  0.071479    neutral  \n",
              "1 -0.032047  0.041390  0.030776  0.068316  0.043192    neutral  \n",
              "2 -0.109342  0.021420  0.027759  0.072830  0.152903    neutral  \n",
              "3 -0.061785  0.037159  0.010258  0.057458  0.094034    neutral  \n",
              "4 -0.127802  0.004187 -0.015060 -0.036765  0.017421   positive  \n",
              "\n",
              "[5 rows x 1001 columns]"
            ],
            "text/html": [
              "\n",
              "  <div id=\"df-bc0816c7-be1a-4b46-9f89-d57d8724f33e\">\n",
              "    <div class=\"colab-df-container\">\n",
              "      <div>\n",
              "<style scoped>\n",
              "    .dataframe tbody tr th:only-of-type {\n",
              "        vertical-align: middle;\n",
              "    }\n",
              "\n",
              "    .dataframe tbody tr th {\n",
              "        vertical-align: top;\n",
              "    }\n",
              "\n",
              "    .dataframe thead th {\n",
              "        text-align: right;\n",
              "    }\n",
              "</style>\n",
              "<table border=\"1\" class=\"dataframe\">\n",
              "  <thead>\n",
              "    <tr style=\"text-align: right;\">\n",
              "      <th></th>\n",
              "      <th>0</th>\n",
              "      <th>1</th>\n",
              "      <th>2</th>\n",
              "      <th>3</th>\n",
              "      <th>4</th>\n",
              "      <th>5</th>\n",
              "      <th>6</th>\n",
              "      <th>7</th>\n",
              "      <th>8</th>\n",
              "      <th>9</th>\n",
              "      <th>...</th>\n",
              "      <th>991</th>\n",
              "      <th>992</th>\n",
              "      <th>993</th>\n",
              "      <th>994</th>\n",
              "      <th>995</th>\n",
              "      <th>996</th>\n",
              "      <th>997</th>\n",
              "      <th>998</th>\n",
              "      <th>999</th>\n",
              "      <th>Sentiment</th>\n",
              "    </tr>\n",
              "  </thead>\n",
              "  <tbody>\n",
              "    <tr>\n",
              "      <th>0</th>\n",
              "      <td>0.048207</td>\n",
              "      <td>-0.004277</td>\n",
              "      <td>0.062701</td>\n",
              "      <td>-0.073631</td>\n",
              "      <td>0.027275</td>\n",
              "      <td>0.003710</td>\n",
              "      <td>-0.069035</td>\n",
              "      <td>-0.029194</td>\n",
              "      <td>0.095515</td>\n",
              "      <td>0.018733</td>\n",
              "      <td>...</td>\n",
              "      <td>-0.042741</td>\n",
              "      <td>-0.013984</td>\n",
              "      <td>0.086986</td>\n",
              "      <td>0.007873</td>\n",
              "      <td>-0.054118</td>\n",
              "      <td>0.006866</td>\n",
              "      <td>0.003887</td>\n",
              "      <td>0.044458</td>\n",
              "      <td>0.071479</td>\n",
              "      <td>neutral</td>\n",
              "    </tr>\n",
              "    <tr>\n",
              "      <th>1</th>\n",
              "      <td>0.048055</td>\n",
              "      <td>-0.060263</td>\n",
              "      <td>0.099163</td>\n",
              "      <td>-0.078419</td>\n",
              "      <td>0.037886</td>\n",
              "      <td>-0.022325</td>\n",
              "      <td>-0.080933</td>\n",
              "      <td>-0.000072</td>\n",
              "      <td>0.052236</td>\n",
              "      <td>-0.024549</td>\n",
              "      <td>...</td>\n",
              "      <td>-0.043753</td>\n",
              "      <td>-0.021736</td>\n",
              "      <td>0.080815</td>\n",
              "      <td>0.001617</td>\n",
              "      <td>-0.032047</td>\n",
              "      <td>0.041390</td>\n",
              "      <td>0.030776</td>\n",
              "      <td>0.068316</td>\n",
              "      <td>0.043192</td>\n",
              "      <td>neutral</td>\n",
              "    </tr>\n",
              "    <tr>\n",
              "      <th>2</th>\n",
              "      <td>0.072713</td>\n",
              "      <td>-0.047607</td>\n",
              "      <td>0.117641</td>\n",
              "      <td>-0.123075</td>\n",
              "      <td>-0.010092</td>\n",
              "      <td>0.016381</td>\n",
              "      <td>-0.064931</td>\n",
              "      <td>-0.040833</td>\n",
              "      <td>0.080134</td>\n",
              "      <td>0.033509</td>\n",
              "      <td>...</td>\n",
              "      <td>-0.103538</td>\n",
              "      <td>-0.000858</td>\n",
              "      <td>0.170037</td>\n",
              "      <td>-0.006261</td>\n",
              "      <td>-0.109342</td>\n",
              "      <td>0.021420</td>\n",
              "      <td>0.027759</td>\n",
              "      <td>0.072830</td>\n",
              "      <td>0.152903</td>\n",
              "      <td>neutral</td>\n",
              "    </tr>\n",
              "    <tr>\n",
              "      <th>3</th>\n",
              "      <td>0.053971</td>\n",
              "      <td>-0.057757</td>\n",
              "      <td>0.081370</td>\n",
              "      <td>-0.118362</td>\n",
              "      <td>0.052273</td>\n",
              "      <td>0.006955</td>\n",
              "      <td>-0.087275</td>\n",
              "      <td>0.006062</td>\n",
              "      <td>0.104743</td>\n",
              "      <td>0.029499</td>\n",
              "      <td>...</td>\n",
              "      <td>-0.081745</td>\n",
              "      <td>-0.028842</td>\n",
              "      <td>0.119872</td>\n",
              "      <td>0.031083</td>\n",
              "      <td>-0.061785</td>\n",
              "      <td>0.037159</td>\n",
              "      <td>0.010258</td>\n",
              "      <td>0.057458</td>\n",
              "      <td>0.094034</td>\n",
              "      <td>neutral</td>\n",
              "    </tr>\n",
              "    <tr>\n",
              "      <th>4</th>\n",
              "      <td>0.014256</td>\n",
              "      <td>-0.087074</td>\n",
              "      <td>0.098679</td>\n",
              "      <td>-0.063994</td>\n",
              "      <td>-0.004494</td>\n",
              "      <td>-0.027992</td>\n",
              "      <td>-0.067087</td>\n",
              "      <td>-0.010328</td>\n",
              "      <td>0.080664</td>\n",
              "      <td>0.021614</td>\n",
              "      <td>...</td>\n",
              "      <td>-0.077703</td>\n",
              "      <td>-0.077672</td>\n",
              "      <td>0.048772</td>\n",
              "      <td>0.076154</td>\n",
              "      <td>-0.127802</td>\n",
              "      <td>0.004187</td>\n",
              "      <td>-0.015060</td>\n",
              "      <td>-0.036765</td>\n",
              "      <td>0.017421</td>\n",
              "      <td>positive</td>\n",
              "    </tr>\n",
              "  </tbody>\n",
              "</table>\n",
              "<p>5 rows × 1001 columns</p>\n",
              "</div>\n",
              "      <button class=\"colab-df-convert\" onclick=\"convertToInteractive('df-bc0816c7-be1a-4b46-9f89-d57d8724f33e')\"\n",
              "              title=\"Convert this dataframe to an interactive table.\"\n",
              "              style=\"display:none;\">\n",
              "        \n",
              "  <svg xmlns=\"http://www.w3.org/2000/svg\" height=\"24px\"viewBox=\"0 0 24 24\"\n",
              "       width=\"24px\">\n",
              "    <path d=\"M0 0h24v24H0V0z\" fill=\"none\"/>\n",
              "    <path d=\"M18.56 5.44l.94 2.06.94-2.06 2.06-.94-2.06-.94-.94-2.06-.94 2.06-2.06.94zm-11 1L8.5 8.5l.94-2.06 2.06-.94-2.06-.94L8.5 2.5l-.94 2.06-2.06.94zm10 10l.94 2.06.94-2.06 2.06-.94-2.06-.94-.94-2.06-.94 2.06-2.06.94z\"/><path d=\"M17.41 7.96l-1.37-1.37c-.4-.4-.92-.59-1.43-.59-.52 0-1.04.2-1.43.59L10.3 9.45l-7.72 7.72c-.78.78-.78 2.05 0 2.83L4 21.41c.39.39.9.59 1.41.59.51 0 1.02-.2 1.41-.59l7.78-7.78 2.81-2.81c.8-.78.8-2.07 0-2.86zM5.41 20L4 18.59l7.72-7.72 1.47 1.35L5.41 20z\"/>\n",
              "  </svg>\n",
              "      </button>\n",
              "      \n",
              "  <style>\n",
              "    .colab-df-container {\n",
              "      display:flex;\n",
              "      flex-wrap:wrap;\n",
              "      gap: 12px;\n",
              "    }\n",
              "\n",
              "    .colab-df-convert {\n",
              "      background-color: #E8F0FE;\n",
              "      border: none;\n",
              "      border-radius: 50%;\n",
              "      cursor: pointer;\n",
              "      display: none;\n",
              "      fill: #1967D2;\n",
              "      height: 32px;\n",
              "      padding: 0 0 0 0;\n",
              "      width: 32px;\n",
              "    }\n",
              "\n",
              "    .colab-df-convert:hover {\n",
              "      background-color: #E2EBFA;\n",
              "      box-shadow: 0px 1px 2px rgba(60, 64, 67, 0.3), 0px 1px 3px 1px rgba(60, 64, 67, 0.15);\n",
              "      fill: #174EA6;\n",
              "    }\n",
              "\n",
              "    [theme=dark] .colab-df-convert {\n",
              "      background-color: #3B4455;\n",
              "      fill: #D2E3FC;\n",
              "    }\n",
              "\n",
              "    [theme=dark] .colab-df-convert:hover {\n",
              "      background-color: #434B5C;\n",
              "      box-shadow: 0px 1px 3px 1px rgba(0, 0, 0, 0.15);\n",
              "      filter: drop-shadow(0px 1px 2px rgba(0, 0, 0, 0.3));\n",
              "      fill: #FFFFFF;\n",
              "    }\n",
              "  </style>\n",
              "\n",
              "      <script>\n",
              "        const buttonEl =\n",
              "          document.querySelector('#df-bc0816c7-be1a-4b46-9f89-d57d8724f33e button.colab-df-convert');\n",
              "        buttonEl.style.display =\n",
              "          google.colab.kernel.accessAllowed ? 'block' : 'none';\n",
              "\n",
              "        async function convertToInteractive(key) {\n",
              "          const element = document.querySelector('#df-bc0816c7-be1a-4b46-9f89-d57d8724f33e');\n",
              "          const dataTable =\n",
              "            await google.colab.kernel.invokeFunction('convertToInteractive',\n",
              "                                                     [key], {});\n",
              "          if (!dataTable) return;\n",
              "\n",
              "          const docLinkHtml = 'Like what you see? Visit the ' +\n",
              "            '<a target=\"_blank\" href=https://colab.research.google.com/notebooks/data_table.ipynb>data table notebook</a>'\n",
              "            + ' to learn more about interactive tables.';\n",
              "          element.innerHTML = '';\n",
              "          dataTable['output_type'] = 'display_data';\n",
              "          await google.colab.output.renderOutput(dataTable, element);\n",
              "          const docLink = document.createElement('div');\n",
              "          docLink.innerHTML = docLinkHtml;\n",
              "          element.appendChild(docLink);\n",
              "        }\n",
              "      </script>\n",
              "    </div>\n",
              "  </div>\n",
              "  "
            ]
          },
          "metadata": {},
          "execution_count": 27
        }
      ]
    },
    {
      "cell_type": "markdown",
      "metadata": {
        "id": "0eYN8GNXN6vc"
      },
      "source": [
        "## Model Building And Evaluation"
      ]
    },
    {
      "cell_type": "code",
      "execution_count": null,
      "metadata": {
        "id": "7hl-bqX3O0rk"
      },
      "outputs": [],
      "source": [
        "import seaborn as sns\n",
        "from sklearn import model_selection, svm # importing support vector algorithm\n",
        "from sklearn.metrics import accuracy_score, f1_score # matric for checking the accuracy \n",
        "from sklearn.preprocessing import LabelEncoder # Label encoding our Emotions dataframe\n",
        "from sklearn.metrics import confusion_matrix # To find confusion matrix"
      ]
    },
    {
      "cell_type": "markdown",
      "source": [
        "### Model building using BOW feature Vectors"
      ],
      "metadata": {
        "id": "Ce9x40vPWjOO"
      }
    },
    {
      "cell_type": "code",
      "source": [
        "# encoding the different label for different class\n",
        "le = LabelEncoder()  \n",
        "labels = le.fit_transform(data[\"Sentiment\"]) #labeling the data set \n",
        "\n",
        "#Split the whole feature vectors to train/test\n",
        "Train_X, Test_X, Train_Y, Test_Y = model_selection.train_test_split(bow_features\n",
        "                                                        , labels,test_size=0.3)"
      ],
      "metadata": {
        "id": "JXyI2uS9WmEb"
      },
      "execution_count": null,
      "outputs": []
    },
    {
      "cell_type": "code",
      "source": [
        "SVM = svm.SVC(C=1.0, kernel='linear', degree=3, gamma='auto')  \n",
        "#c define margin of SVM, small C small margin between two different cluster of \n",
        "# SVM # also define the tolerable margin \n",
        "#converting the data to the higher dimension to find the support vector \n",
        "#classifier\n",
        "#degree: used by the kernel to transfer the data \n",
        "#Gamma: decides that how much curvature we want in a decision boundary i.e in \n",
        "#SVM classifier.\n",
        "SVM.fit(Train_X ,Train_Y)\n"
      ],
      "metadata": {
        "colab": {
          "base_uri": "https://localhost:8080/"
        },
        "id": "xxr6VCgmXGqH",
        "outputId": "7f42f4f7-040e-4f4f-eea0-bec6f8d97388"
      },
      "execution_count": null,
      "outputs": [
        {
          "output_type": "execute_result",
          "data": {
            "text/plain": [
              "SVC(gamma='auto', kernel='linear')"
            ]
          },
          "metadata": {},
          "execution_count": 39
        }
      ]
    },
    {
      "cell_type": "markdown",
      "source": [
        "### Model evaluation using BOW feature Vectors"
      ],
      "metadata": {
        "id": "0RMJdDvBWyN2"
      }
    },
    {
      "cell_type": "code",
      "execution_count": null,
      "metadata": {
        "id": "3yQCDhJXnxY6"
      },
      "outputs": [],
      "source": [
        "predictions_SVM_bow = SVM.predict(Test_X)"
      ]
    },
    {
      "cell_type": "code",
      "source": [
        "print(\"SVM Accuracy Score using BOW features-> \",accuracy_score(predictions_SVM_bow, Test_Y)*100)"
      ],
      "metadata": {
        "colab": {
          "base_uri": "https://localhost:8080/"
        },
        "id": "jYYdQNwSXC0l",
        "outputId": "ae31ad32-ce34-4477-f8cf-635bbae63e9a"
      },
      "execution_count": null,
      "outputs": [
        {
          "output_type": "stream",
          "name": "stdout",
          "text": [
            "SVM Accuracy Score using BOW features->  54.55293472298409\n"
          ]
        }
      ]
    },
    {
      "cell_type": "code",
      "source": [
        "print(\"SVM F1-Score using BOW features -> \",f1_score (predictions_SVM_bow, Test_Y, average='weighted')*100)"
      ],
      "metadata": {
        "colab": {
          "base_uri": "https://localhost:8080/"
        },
        "id": "7PrwHgEcXfaC",
        "outputId": "4c0d006f-43c3-4174-e9a8-04531509be38"
      },
      "execution_count": null,
      "outputs": [
        {
          "output_type": "stream",
          "name": "stdout",
          "text": [
            "SVM F1-Score using BOW features ->  56.24876463456086\n"
          ]
        }
      ]
    },
    {
      "cell_type": "code",
      "source": [
        "conf_mat_bow = confusion_matrix(Test_Y, predictions_SVM_bow)\n",
        "ax = plt.axes()\n",
        "x_axis_labels = [\"Neutral\", \"Positve\", \"Negative\"] # labels for x-axis\n",
        "y_axis_labels = [\"Neutral\", \"Positve\", \"Negative\"] # labels for y-axis\n",
        "sns.heatmap(conf_mat_bow, xticklabels=x_axis_labels, yticklabels=y_axis_labels, annot=True, ax = ax)\n",
        "ax.set_title(\"Confusion matrix using BOW features\")\n",
        "ax.set_xlabel(\"Actual Sentiment Class\")\n",
        "ax.set_ylabel(\"Actual Sentiment Class\")"
      ],
      "metadata": {
        "colab": {
          "base_uri": "https://localhost:8080/",
          "height": 312
        },
        "id": "fp-yxUsNSw_K",
        "outputId": "5ad6738b-7cc5-458a-898e-61ad05e4ff45"
      },
      "execution_count": null,
      "outputs": [
        {
          "output_type": "execute_result",
          "data": {
            "text/plain": [
              "Text(33.0, 0.5, 'Actual Sentiment Class')"
            ]
          },
          "metadata": {},
          "execution_count": 53
        },
        {
          "output_type": "display_data",
          "data": {
            "text/plain": [
              "<Figure size 432x288 with 2 Axes>"
            ],
            "image/png": "[encoded data removed]"
          },
          "metadata": {
            "needs_background": "light"
          }
        }
      ]
    },
    {
      "cell_type": "markdown",
      "source": [
        "### Model building using TF-IDF feature Vectors"
      ],
      "metadata": {
        "id": "qs0DPFf5XzwQ"
      }
    },
    {
      "cell_type": "code",
      "source": [
        "# encoding the different label for different class\n",
        "le = LabelEncoder()  \n",
        "labels = le.fit_transform(data[\"Sentiment\"]) #labeling the data set \n",
        "\n",
        "#Split the whole feature vectors to train/test\n",
        "Train_X, Test_X, Train_Y, Test_Y = model_selection.train_test_split(tf_features,\\\n",
        "                                                          labels,test_size=0.3)"
      ],
      "metadata": {
        "id": "3iPYLGVqX4ZT"
      },
      "execution_count": null,
      "outputs": []
    },
    {
      "cell_type": "code",
      "source": [
        "SVM = svm.SVC(C=1.0, kernel='linear', degree=3, gamma='auto')  \n",
        "#c define margin of SVM, small C small margin between two different cluster of \n",
        "# SVM # also define the tolerable margin \n",
        "#converting the data to the higher dimension to find the support vector \n",
        "#classifier\n",
        "#degree: used by the kernel to transfer the data \n",
        "#Gamma: decides that how much curvature we want in a decision boundary i.e in \n",
        "#SVM classifier.\n",
        "SVM.fit(Train_X ,Train_Y)"
      ],
      "metadata": {
        "colab": {
          "base_uri": "https://localhost:8080/"
        },
        "id": "Y974_-qEYCbz",
        "outputId": "d403d215-bdb3-4a95-cfa4-884a4d5188a4"
      },
      "execution_count": null,
      "outputs": [
        {
          "output_type": "execute_result",
          "data": {
            "text/plain": [
              "SVC(gamma='auto', kernel='linear')"
            ]
          },
          "metadata": {},
          "execution_count": 73
        }
      ]
    },
    {
      "cell_type": "markdown",
      "source": [
        "### Model evaluation using TF-IDF feature Vectors"
      ],
      "metadata": {
        "id": "hrV8jnApYEGY"
      }
    },
    {
      "cell_type": "code",
      "source": [
        "predictions_SVM_tf= SVM.predict(Test_X)"
      ],
      "metadata": {
        "id": "gpK5xnFNYJJQ"
      },
      "execution_count": null,
      "outputs": []
    },
    {
      "cell_type": "code",
      "source": [
        "print(\" TF-IDF Accuracy Score using SVM -> \",accuracy_score(predictions_SVM_tf, Test_Y)*100)"
      ],
      "metadata": {
        "colab": {
          "base_uri": "https://localhost:8080/"
        },
        "id": "UJ-r20ThYNI_",
        "outputId": "87f7b45a-71ae-49df-e284-f3d237860f0b"
      },
      "execution_count": null,
      "outputs": [
        {
          "output_type": "stream",
          "name": "stdout",
          "text": [
            " TF-IDF Accuracy Score using SVM ->  56.30828304991772\n"
          ]
        }
      ]
    },
    {
      "cell_type": "code",
      "source": [
        "print(\" TF-IDF F1-score Score using SVM -> \",f1_score(predictions_SVM_tf, Test_Y, average='weighted')*100)"
      ],
      "metadata": {
        "colab": {
          "base_uri": "https://localhost:8080/"
        },
        "id": "z7_XKmWUYRKM",
        "outputId": "52bf1bf2-8789-4327-c3ed-cefd0f4dc372"
      },
      "execution_count": null,
      "outputs": [
        {
          "output_type": "stream",
          "name": "stdout",
          "text": [
            " TF-IDF F1-score Score using SVM ->  58.82347313047447\n"
          ]
        }
      ]
    },
    {
      "cell_type": "code",
      "source": [
        "conf_mat_tf = confusion_matrix(Test_Y, predictions_SVM_tf)\n",
        "ax = plt.axes()\n",
        "\n",
        "x_axis_labels = [\"Neutral\", \"Positve\", \"Negative\"] # labels for x-axis\n",
        "y_axis_labels = [\"Neutral\", \"Positve\", \"Negative\"] # labels for y-axis\n",
        "sns.heatmap(conf_mat_bow, xticklabels=x_axis_labels, yticklabels=y_axis_labels, annot=True, ax = ax)\n",
        "ax.set_title(\"Confusion matrix using TF-IDF features\")\n",
        "ax.set_xlabel(\"Predicted Sentiment Class\")\n",
        "ax.set_ylabel(\"Actual Sentiment Class\")"
      ],
      "metadata": {
        "colab": {
          "base_uri": "https://localhost:8080/",
          "height": 312
        },
        "id": "Pt1PYnt2UnIH",
        "outputId": "54e8d15f-b64a-4ff2-88c7-8071171badf6"
      },
      "execution_count": null,
      "outputs": [
        {
          "output_type": "execute_result",
          "data": {
            "text/plain": [
              "Text(33.0, 0.5, 'Actual Sentiment Class')"
            ]
          },
          "metadata": {},
          "execution_count": 52
        },
        {
          "output_type": "display_data",
          "data": {
            "text/plain": [
              "<Figure size 432x288 with 2 Axes>"
            ],
            "image/png": "[encoded data removed]"
          },
          "metadata": {
            "needs_background": "light"
          }
        }
      ]
    },
    {
      "cell_type": "markdown",
      "source": [
        "### Model building using Word2Vec feature Vectors"
      ],
      "metadata": {
        "id": "ZZHhbdEHYEXU"
      }
    },
    {
      "cell_type": "code",
      "source": [
        "# encoding the different label for different class\n",
        "le = LabelEncoder()  \n",
        "labels = le.fit_transform(word2vec_features[\"Sentiment\"]) #labeling the data set \n",
        "\n",
        "#Split the whole feature vectors to train/test\n",
        "Train_X, Test_X, Train_Y, Test_Y = model_selection.train_test_split(word2vec_features.drop(['Sentiment'], axis=1), labels,test_size=0.3)"
      ],
      "metadata": {
        "id": "g6LFx_d3Uiq0"
      },
      "execution_count": null,
      "outputs": []
    },
    {
      "cell_type": "code",
      "execution_count": null,
      "metadata": {
        "id": "6RYMfivRKYjf",
        "colab": {
          "base_uri": "https://localhost:8080/"
        },
        "outputId": "87ffb03e-a9b3-46b5-fbdc-6e7ee20b2547"
      },
      "outputs": [
        {
          "output_type": "execute_result",
          "data": {
            "text/plain": [
              "SVC(gamma='auto', kernel='linear')"
            ]
          },
          "metadata": {},
          "execution_count": 59
        }
      ],
      "source": [
        "SVM = svm.SVC(C=1.0, kernel='linear', degree=3, gamma='auto')  \n",
        "#c define margin of SVM, small C small margin between two different cluster of \n",
        "# SVM # also define the tolerable margin \n",
        "#converting the data to the higher dimension to find the support vector \n",
        "#classifier\n",
        "#degree: used by the kernel to transfer the data \n",
        "#Gamma: decides that how much curvature we want in a decision boundary i.e in \n",
        "#SVM classifier.\n",
        "SVM.fit(Train_X ,Train_Y)"
      ]
    },
    {
      "cell_type": "markdown",
      "source": [
        "### Model evaluation using Word2Vec feature Vectors"
      ],
      "metadata": {
        "id": "ma7UGDvrWAlH"
      }
    },
    {
      "cell_type": "code",
      "source": [
        "predictions_SVM_word2vec = SVM.predict(Test_X)"
      ],
      "metadata": {
        "id": "MXU1TrgBWH51",
        "colab": {
          "base_uri": "https://localhost:8080/",
          "height": 166
        },
        "outputId": "d1f7eb77-e539-4443-9a83-210c5f0892bb"
      },
      "execution_count": null,
      "outputs": [
        {
          "output_type": "error",
          "ename": "NameError",
          "evalue": "ignored",
          "traceback": [
            "\u001b[0;31m---------------------------------------------------------------------------\u001b[0m",
            "\u001b[0;31mNameError\u001b[0m                                 Traceback (most recent call last)",
            "\u001b[0;32m<ipython-input-1-d8bece32a1d3>\u001b[0m in \u001b[0;36m<module>\u001b[0;34m\u001b[0m\n\u001b[0;32m----> 1\u001b[0;31m \u001b[0mpredictions_SVM_word2vec\u001b[0m \u001b[0;34m=\u001b[0m \u001b[0mSVM\u001b[0m\u001b[0;34m.\u001b[0m\u001b[0mpredict\u001b[0m\u001b[0;34m(\u001b[0m\u001b[0mTest_X\u001b[0m\u001b[0;34m)\u001b[0m\u001b[0;34m\u001b[0m\u001b[0;34m\u001b[0m\u001b[0m\n\u001b[0m",
            "\u001b[0;31mNameError\u001b[0m: name 'SVM' is not defined"
          ]
        }
      ]
    },
    {
      "cell_type": "code",
      "source": [
        "print(\"SVM Accuracy Score using Word2Vec -> \",accuracy_score(predictions_SVM_word2vec, Test_Y)*100)"
      ],
      "metadata": {
        "id": "N6LbPwiiWNbh"
      },
      "execution_count": null,
      "outputs": []
    },
    {
      "cell_type": "code",
      "source": [
        "print(\"SVM F1-Score using Word2Vec -> \", f1_score(predictions_SVM_word2vec, Test_Y, average='weighted') * 100)"
      ],
      "metadata": {
        "id": "ir5G-oiVWPdd"
      },
      "execution_count": null,
      "outputs": []
    },
    {
      "cell_type": "code",
      "source": [
        "conf_mat_word2vec = confusion_matrix(Test_Y, predictions_SVM_word2vec)\n",
        "\n",
        "ax = plt.axes()\n",
        "x_axis_labels = [\"Neutral\", \"Positve\", \"Negative\"] # labels for x-axis\n",
        "y_axis_labels = [\"Neutral\", \"Positve\", \"Negative\"] # labels for y-axis\n",
        "sns.heatmap(conf_mat_bow, xticklabels=x_axis_labels, yticklabels=y_axis_labels, annot=True, ax = ax)\n",
        "ax.set_title(\"Confusion matrix using Word2Vec features\")\n",
        "ax.set_xlabel(\"Predicted Sentiment Class\")\n",
        "ax.set_ylabel(\"Actual Sentiment Class\")"
      ],
      "metadata": {
        "id": "I5w_pTnkVFk4"
      },
      "execution_count": null,
      "outputs": []
    }
  ],
  "metadata": {
    "colab": {
      "provenance": []
    },
    "kernelspec": {
      "display_name": "Python 3",
      "name": "python3"
    },
    "language_info": {
      "name": "python"
    },
    "gpuClass": "standard",
    "accelerator": "GPU"
  },
  "nbformat": 4,
  "nbformat_minor": 0
}